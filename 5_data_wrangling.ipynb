{
  "nbformat": 4,
  "nbformat_minor": 0,
  "metadata": {
    "colab": {
      "name": "5_data_wrangling.ipynb",
      "provenance": [],
      "collapsed_sections": [],
      "authorship_tag": "ABX9TyMlyzynPokf6+b2yreXG4hG",
      "include_colab_link": true
    },
    "kernelspec": {
      "name": "python3",
      "display_name": "Python 3"
    }
  },
  "cells": [
    {
      "cell_type": "markdown",
      "metadata": {
        "id": "view-in-github",
        "colab_type": "text"
      },
      "source": [
        "<a href=\"https://colab.research.google.com/github/brendenwest/ad450/blob/master/5_data_wrangling.ipynb\" target=\"_parent\"><img src=\"https://colab.research.google.com/assets/colab-badge.svg\" alt=\"Open In Colab\"/></a>"
      ]
    },
    {
      "cell_type": "markdown",
      "metadata": {
        "id": "n8FdbbolrIZv",
        "colab_type": "text"
      },
      "source": [
        "# Data Wrangling\n",
        "\n",
        "Advanced techniques for preparing & summarizing data \n",
        "\n",
        "### Reading\n",
        "- McKinney, Chapter 8 & 10\n",
        "- Molin, “Aggregating Pandas Dataframes”\n",
        " \n",
        "### Tutorials\n",
        "- https://www.datacamp.com/community/tutorials/pandas-multi-index\n",
        "- https://www.datacamp.com/community/tutorials/pandas-split-apply-combine-groupby\n",
        " \n",
        "### Learning Outcomes\n",
        "- hiearchical indexing \n",
        "- combining & reshaping datasets\n",
        "- data aggregation\n",
        "- group operations\n",
        "- calculating group statistics\n",
        "- within-group transformations or subset selection\n",
        "- computing pivot tables and cross-tabulations\n",
        "- performing quantile & statistical-group analysis"
      ]
    },
    {
      "cell_type": "markdown",
      "metadata": {
        "id": "i1B4F38nxHhX",
        "colab_type": "text"
      },
      "source": [
        "### Hierarchical Indexing\n",
        "\n",
        "- allows multiple index (MultiIndex) levels on an axis\n",
        "- either axis of a DataFrame can have a hierarchical index\n",
        "- partial indexing allows concise selection of data subsets\n",
        "- selections can be made on the `outer` or `inner` level of a MultiIndex\n",
        "- can be used to reshape data (using `stack` & `unstack`)\n",
        "- can be used for group-based operations\n"
      ]
    },
    {
      "cell_type": "markdown",
      "metadata": {
        "id": "-fR2iF-PETfB",
        "colab_type": "text"
      },
      "source": [
        "#### Creating hierarchical indexes\n",
        "\n",
        "Hierarchical indexes can be assigned to dataset by passing a multi-dimensional list for the `index` value, with each list item having the same length as the dataset axis. This creates a `MultiIndex` object."
      ]
    },
    {
      "cell_type": "code",
      "metadata": {
        "id": "ARXVyZrxDulM",
        "colab_type": "code",
        "colab": {
          "base_uri": "https://localhost:8080/",
          "height": 357
        },
        "outputId": "1f3f4b20-a90c-4490-b40d-7f83b2ca04e4"
      },
      "source": [
        "import pandas as pd\n",
        "import numpy as np\n",
        "data = pd.Series(np.random.randn(9),\n",
        " index=[['a', 'a', 'a', 'b', 'b', 'c', 'c', 'd', 'd'],\n",
        " [1, 2, 3, 1, 3, 1, 2, 2, 3]])\n",
        "print(data)\n",
        "print(data.index)"
      ],
      "execution_count": 7,
      "outputs": [
        {
          "output_type": "stream",
          "text": [
            "a  1   -0.605719\n",
            "   2    0.123044\n",
            "   3    1.811644\n",
            "b  1    0.823819\n",
            "   3    0.385486\n",
            "c  1    0.327702\n",
            "   2   -0.159786\n",
            "d  2    0.869689\n",
            "   3   -1.515328\n",
            "dtype: float64\n",
            "MultiIndex([('a', 1),\n",
            "            ('a', 2),\n",
            "            ('a', 3),\n",
            "            ('b', 1),\n",
            "            ('b', 3),\n",
            "            ('c', 1),\n",
            "            ('c', 2),\n",
            "            ('d', 2),\n",
            "            ('d', 3)],\n",
            "           )\n"
          ],
          "name": "stdout"
        }
      ]
    },
    {
      "cell_type": "markdown",
      "metadata": {
        "id": "dSij_o5gEPzD",
        "colab_type": "text"
      },
      "source": [
        "#### Reordering & Sorting Levels\n",
        "\n",
        "- `swaplevel` changes order of levels in a MultiIndex\n",
        "- `sort_index` sorts the dataset using only the values in a single level of the MultiIndex\n",
        "\n",
        "#### Summary Statistics by Level\n",
        "\n",
        "- Many pandas descriptive and summary statistics support specifying the level you want to aggregate by on a particular axis. \n",
        "\n",
        "#### Indexing with DataFrame columns\n",
        "\n",
        "- DataFrame's `set_index` function will create a new DataFrame using one or more of its columns as the index\n",
        "- index columns are removed from the DataFrame unless specified otherwise with `drop=False`\n",
        "- `reset_index` moves hierarchical index levels into the DataFrame"
      ]
    },
    {
      "cell_type": "markdown",
      "metadata": {
        "id": "AdWMGl0syy32",
        "colab_type": "text"
      },
      "source": [
        "### Combining & Merging Datasets\n",
        "\n",
        "#### Database-style joins\n",
        "#### Contatenation\n",
        "#### Combining data with overlap\n",
        "\n"
      ]
    },
    {
      "cell_type": "markdown",
      "metadata": {
        "id": "GLnZg7x8y-L7",
        "colab_type": "text"
      },
      "source": [
        "### Reshaping & Pivoting\n",
        "\n",
        "#### Reshaping with Hierarchical Indexing\n",
        "#### Pivoting 'long' to 'wide'\n",
        "#### Pivoting 'wide' to 'long'"
      ]
    },
    {
      "cell_type": "markdown",
      "metadata": {
        "id": "HUCFb7WFHezB",
        "colab_type": "text"
      },
      "source": [
        "### Grouping Data\n",
        "  #### GroupBy Operations\n",
        "  #### Iterating over groups\n",
        "  #### Grouping with Series or Dicts\n",
        "  #### Grouping with Functions\n",
        "  #### Groupting by Index Levels"
      ]
    },
    {
      "cell_type": "markdown",
      "metadata": {
        "id": "tUH6j4_GIZ6G",
        "colab_type": "text"
      },
      "source": [
        "### Data Aggregation\n",
        "\n",
        "#### Column-wise & Multiple-function application\n",
        "#### Aggregated data without row indexes\n"
      ]
    },
    {
      "cell_type": "markdown",
      "metadata": {
        "id": "uz28GdPMJXoh",
        "colab_type": "text"
      },
      "source": [
        "### General split-apply-combine\n",
        "\n",
        "#### Suppressing Group Kys\n",
        "#### Quantile & Bucket Analysis\n",
        "#### Filling missing values\n",
        "#### Random sampling & permutation\n",
        "#### Group weighted average and correlation"
      ]
    },
    {
      "cell_type": "markdown",
      "metadata": {
        "id": "wSDvXZR4KE02",
        "colab_type": "text"
      },
      "source": [
        "### Pivot Tables & Cross-Tabulation\n",
        "\n",
        "#### Pivot Tables\n",
        "#### Cross-Tabulations\n"
      ]
    }
  ]
}
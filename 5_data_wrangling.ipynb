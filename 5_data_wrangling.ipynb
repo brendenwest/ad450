{
  "nbformat": 4,
  "nbformat_minor": 0,
  "metadata": {
    "colab": {
      "name": "5_data_wrangling.ipynb",
      "provenance": [],
      "collapsed_sections": [],
      "authorship_tag": "ABX9TyNNE2WsOKWsPdsL280liEE0",
      "include_colab_link": true
    },
    "kernelspec": {
      "name": "python3",
      "display_name": "Python 3"
    }
  },
  "cells": [
    {
      "cell_type": "markdown",
      "metadata": {
        "id": "view-in-github",
        "colab_type": "text"
      },
      "source": [
        "<a href=\"https://colab.research.google.com/github/brendenwest/ad450/blob/master/5_data_wrangling.ipynb\" target=\"_parent\"><img src=\"https://colab.research.google.com/assets/colab-badge.svg\" alt=\"Open In Colab\"/></a>"
      ]
    },
    {
      "cell_type": "markdown",
      "metadata": {
        "id": "n8FdbbolrIZv",
        "colab_type": "text"
      },
      "source": [
        "# Data Wrangling\n",
        "\n",
        "Advanced techniques for preparing & summarizing data \n",
        "\n",
        "### Reading\n",
        "- McKinney, Chapter 8 & 10\n",
        "- Molin, “Aggregating Pandas Dataframes”\n",
        " \n",
        "### Tutorials\n",
        "- https://www.datacamp.com/community/tutorials/pandas-multi-index\n",
        "- https://www.datacamp.com/community/tutorials/pandas-split-apply-combine-groupby\n",
        " \n",
        "### Learning Outcomes\n",
        "- hiearchical indexing \n",
        "- combining & reshaping datasets\n",
        "- data aggregation\n",
        "- group operations\n",
        "- calculating group statistics\n",
        "- within-group transformations or subset selection\n",
        "- computing pivot tables and cross-tabulations\n",
        "- performing quantile & statistical-group analysis"
      ]
    },
    {
      "cell_type": "markdown",
      "metadata": {
        "id": "i1B4F38nxHhX",
        "colab_type": "text"
      },
      "source": [
        "### Hierarchical Indexing\n",
        "\n",
        "- allows multiple index levels on an axis\n",
        "- partial indexing allows concise selection of data subsets\n",
        "- supports data reshaping & group-based operations\n",
        "\n",
        "#### Creating hierarchical indexes\n",
        "\n",
        "#### Reordering & Sorting Levels\n",
        "\n",
        "#### Summary Statistics by Level\n",
        "\n",
        "#### Indexing with DataFrame columns"
      ]
    },
    {
      "cell_type": "markdown",
      "metadata": {
        "id": "AdWMGl0syy32",
        "colab_type": "text"
      },
      "source": [
        "### Combining & Merging Datasets\n",
        "\n",
        "#### Database-style joins\n",
        "#### Contatenation\n",
        "#### Combining data with overlap\n",
        "\n"
      ]
    },
    {
      "cell_type": "markdown",
      "metadata": {
        "id": "GLnZg7x8y-L7",
        "colab_type": "text"
      },
      "source": [
        "### Reshaping & Pivoting\n",
        "\n",
        "#### Reshaping with Hierarchical Indexing\n",
        "#### Pivoting 'long' to 'wide'\n",
        "#### Pivoting 'wide' to 'long'"
      ]
    },
    {
      "cell_type": "markdown",
      "metadata": {
        "id": "HUCFb7WFHezB",
        "colab_type": "text"
      },
      "source": [
        "### Grouping Data\n",
        "  #### GroupBy Operations\n",
        "  #### Iterating over groups\n",
        "  #### Grouping with Series or Dicts\n",
        "  #### Grouping with Functions\n",
        "  #### Groupting by Index Levels"
      ]
    },
    {
      "cell_type": "markdown",
      "metadata": {
        "id": "tUH6j4_GIZ6G",
        "colab_type": "text"
      },
      "source": [
        "### Data Aggregation\n",
        "\n",
        "#### Column-wise & Multiple-function application\n",
        "#### Aggregated data without row indexes\n"
      ]
    },
    {
      "cell_type": "markdown",
      "metadata": {
        "id": "uz28GdPMJXoh",
        "colab_type": "text"
      },
      "source": [
        "### General split-apply-combine\n",
        "\n",
        "#### Suppressing Group Kys\n",
        "#### Quantile & Bucket Analysis\n",
        "#### Filling missing values\n",
        "#### Random sampling & permutation\n",
        "#### Group weighted average and correlation"
      ]
    },
    {
      "cell_type": "markdown",
      "metadata": {
        "id": "wSDvXZR4KE02",
        "colab_type": "text"
      },
      "source": [
        "### Pivot Tables & Cross-Tabulation\n",
        "\n",
        "#### Pivot Tables\n",
        "#### Cross-Tabulations\n"
      ]
    }
  ]
}
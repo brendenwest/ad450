{
  "nbformat": 4,
  "nbformat_minor": 0,
  "metadata": {
    "colab": {
      "name": "5_data_wrangling.ipynb",
      "provenance": [],
      "collapsed_sections": [],
      "authorship_tag": "ABX9TyPJP+G3telCsDjIEQCE/a8o",
      "include_colab_link": true
    },
    "kernelspec": {
      "name": "python3",
      "display_name": "Python 3"
    }
  },
  "cells": [
    {
      "cell_type": "markdown",
      "metadata": {
        "id": "view-in-github",
        "colab_type": "text"
      },
      "source": [
        "<a href=\"https://colab.research.google.com/github/brendenwest/ad450/blob/master/5_data_wrangling.ipynb\" target=\"_parent\"><img src=\"https://colab.research.google.com/assets/colab-badge.svg\" alt=\"Open In Colab\"/></a>"
      ]
    },
    {
      "cell_type": "markdown",
      "metadata": {
        "id": "n8FdbbolrIZv",
        "colab_type": "text"
      },
      "source": [
        "# Data Wrangling\n",
        "\n",
        "### Reading\n",
        "- McKinney, Chapter 8 & 10\n",
        "- Molin, “Aggregating Pandas Dataframes”\n",
        " \n",
        "### Tutorials\n",
        "- https://www.datacamp.com/community/tutorials/pandas-multi-index\n",
        "- https://www.datacamp.com/community/tutorials/pandas-split-apply-combine-groupby\n",
        " \n",
        "### Learning Outcomes\n",
        "- hiearchical indexing \n",
        "- combining & reshaping datasets\n",
        "- data aggregation\n",
        "- group operations\n",
        "- calculate group statistics\n",
        "- apply within-group transformations or subset selection\n",
        "- compute pivot tables and cross-tabulations\n",
        "- perform quantile & statistical-group analysis"
      ]
    },
    {
      "cell_type": "markdown",
      "metadata": {
        "id": "i1B4F38nxHhX",
        "colab_type": "text"
      },
      "source": [
        "### Hierarchical Indexing\n",
        "\n",
        "- allows multiple index levels on an axis\n",
        "- partial indexing allows concise selection of data subsets\n",
        "- supports data reshaping & group-based operations\n",
        "\n",
        "#### Creating hierarchical indexes\n",
        "\n",
        "#### Reordering & Sorting Levels\n",
        "\n",
        "#### Summary Statistics by Level\n",
        "\n",
        "#### Indexing with DataFrame columns"
      ]
    },
    {
      "cell_type": "markdown",
      "metadata": {
        "id": "Cx8hOU4KzBPA",
        "colab_type": "text"
      },
      "source": [
        ""
      ]
    },
    {
      "cell_type": "markdown",
      "metadata": {
        "id": "AdWMGl0syy32",
        "colab_type": "text"
      },
      "source": [
        "### Combining & Merging Datasets"
      ]
    },
    {
      "cell_type": "markdown",
      "metadata": {
        "id": "GLnZg7x8y-L7",
        "colab_type": "text"
      },
      "source": [
        "### Reshaping & Pivoting"
      ]
    },
    {
      "cell_type": "code",
      "metadata": {
        "id": "xsedyk45rHPI",
        "colab_type": "code",
        "colab": {}
      },
      "source": [
        ""
      ],
      "execution_count": 0,
      "outputs": []
    }
  ]
}
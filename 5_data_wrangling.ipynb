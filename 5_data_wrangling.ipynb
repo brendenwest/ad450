{
  "nbformat": 4,
  "nbformat_minor": 0,
  "metadata": {
    "colab": {
      "name": "5_data_wrangling.ipynb",
      "provenance": [],
      "collapsed_sections": [],
      "include_colab_link": true
    },
    "kernelspec": {
      "name": "python3",
      "display_name": "Python 3"
    }
  },
  "cells": [
    {
      "cell_type": "markdown",
      "metadata": {
        "id": "view-in-github",
        "colab_type": "text"
      },
      "source": [
        "<a href=\"https://colab.research.google.com/github/brendenwest/ad450/blob/master/5_data_wrangling.ipynb\" target=\"_parent\"><img src=\"https://colab.research.google.com/assets/colab-badge.svg\" alt=\"Open In Colab\"/></a>"
      ]
    },
    {
      "cell_type": "markdown",
      "metadata": {
        "id": "n8FdbbolrIZv",
        "colab_type": "text"
      },
      "source": [
        "# Data Wrangling\n",
        "\n",
        "Advanced techniques for preparing & summarizing data \n",
        "\n",
        "### Reading\n",
        "- McKinney, Chapter 8 & 10\n",
        "- Molin, “Aggregating Pandas Dataframes”\n",
        " \n",
        "### Tutorials\n",
        "- https://www.datacamp.com/community/tutorials/pandas-multi-index\n",
        "- https://www.datacamp.com/community/tutorials/pandas-split-apply-combine-groupby\n",
        " \n",
        "### Learning Outcomes\n",
        "- hiearchical indexing \n",
        "- combining & reshaping datasets\n",
        "- data aggregation\n",
        "- group operations\n",
        "- calculating group statistics\n",
        "- within-group transformations or subset selection\n",
        "- computing pivot tables and cross-tabulations\n",
        "- performing quantile & statistical-group analysis"
      ]
    },
    {
      "cell_type": "markdown",
      "metadata": {
        "id": "i1B4F38nxHhX",
        "colab_type": "text"
      },
      "source": [
        "### Hierarchical Indexing\n",
        "\n",
        "- allows multiple index (MultiIndex) levels on an axis\n",
        "- either axis of a DataFrame can have a hierarchical index\n",
        "- partial indexing allows concise selection of data subsets\n",
        "- selections can be made on the `outer` or `inner` level of a MultiIndex\n",
        "- can be used to reshape data (using `stack` & `unstack`)\n",
        "- can be used for group-based operations\n"
      ]
    },
    {
      "cell_type": "markdown",
      "metadata": {
        "id": "-fR2iF-PETfB",
        "colab_type": "text"
      },
      "source": [
        "#### Creating hierarchical indexes\n",
        "\n",
        "Hierarchical indexes can be assigned to dataset by passing a multi-dimensional list for the `index` value, with each list item having the same length as the dataset axis. This creates a `MultiIndex` object."
      ]
    },
    {
      "cell_type": "code",
      "metadata": {
        "id": "ARXVyZrxDulM",
        "colab_type": "code",
        "outputId": "1f3f4b20-a90c-4490-b40d-7f83b2ca04e4",
        "colab": {
          "base_uri": "https://localhost:8080/",
          "height": 357
        }
      },
      "source": [
        "import pandas as pd\n",
        "import numpy as np\n",
        "data = pd.Series(np.random.randn(9),\n",
        " index=[['a', 'a', 'a', 'b', 'b', 'c', 'c', 'd', 'd'],\n",
        " [1, 2, 3, 1, 3, 1, 2, 2, 3]])\n",
        "print(data)\n",
        "print(data.index)"
      ],
      "execution_count": 0,
      "outputs": [
        {
          "output_type": "stream",
          "text": [
            "a  1   -0.605719\n",
            "   2    0.123044\n",
            "   3    1.811644\n",
            "b  1    0.823819\n",
            "   3    0.385486\n",
            "c  1    0.327702\n",
            "   2   -0.159786\n",
            "d  2    0.869689\n",
            "   3   -1.515328\n",
            "dtype: float64\n",
            "MultiIndex([('a', 1),\n",
            "            ('a', 2),\n",
            "            ('a', 3),\n",
            "            ('b', 1),\n",
            "            ('b', 3),\n",
            "            ('c', 1),\n",
            "            ('c', 2),\n",
            "            ('d', 2),\n",
            "            ('d', 3)],\n",
            "           )\n"
          ],
          "name": "stdout"
        }
      ]
    },
    {
      "cell_type": "markdown",
      "metadata": {
        "id": "dSij_o5gEPzD",
        "colab_type": "text"
      },
      "source": [
        "#### Reordering & Sorting Levels\n",
        "\n",
        "- `swaplevel` changes order of levels in a MultiIndex\n",
        "- `sort_index` sorts the dataset using only the values in a single level of the MultiIndex\n",
        "\n",
        "#### Summary Statistics by Level\n",
        "\n",
        "- Many pandas descriptive and summary statistics support specifying the level you want to aggregate by on a particular axis. \n",
        "\n",
        "#### Indexing with DataFrame columns\n",
        "\n",
        "- DataFrame's `set_index` function will create a new DataFrame using one or more of its columns as the index\n",
        "- index columns are removed from the DataFrame unless specified otherwise with `drop=False`\n",
        "- `reset_index` moves hierarchical index levels into the DataFrame"
      ]
    },
    {
      "cell_type": "markdown",
      "metadata": {
        "id": "AdWMGl0syy32",
        "colab_type": "text"
      },
      "source": [
        "### Combining & Merging Datasets\n",
        "\n",
        "pandas supports several different ways to combine datasets:\n",
        "\n",
        "- `pandas.merge` - connects rows in DataFrames based on one or more keys, like a SQL database join operation\n",
        "- `pandas.concat` - concatenates or 'stacks' data along an axis\n",
        "- `combine_first` instance method enables splicing together overlapping data to fill in missing values in one object with values from another.\n",
        "\n",
        "#### Database-style joins\n",
        "\n",
        "Merge or join operations combine datasets by linking rows using one or more keys.\n",
        "\n",
        "If column to join on is not specified, `merge` uses the overlapping column names as the keys.\n",
        "\n",
        "Different column names from each dataset can be specified as keys.\n",
        "\n",
        "By default `merge` does an `inner` join - the keys in the result are the intersection, or the common set found in both tables. Other possible options are `left`, `right`, and `outer` joins.\n",
        "\n",
        "To merge with multiple keys, pass a list of column names. \n",
        "\n",
        "`left_index=True` or `right_index=True` (or both) can indicate that the index should be used as the merge key\n",
        "\n",
        "DataFrame has a convenient `join` instance method for merging by index. It can also be used to combine together many DataFrame objects having the same or similar indexes but non-overlapping columns.\n",
        "\n",
        "#### Concatenation\n",
        "\n",
        "`concat` provides a consistent way to:\n",
        "- combine objects that are indexed differently\n",
        "- make the combined data identifiable in the resulting objects\n",
        "- preserve data in the concatenation axis\n",
        "\n",
        "By default `concat` works along axis=0, producing another Series. If you pass axis=1, the result will instead be a DataFrame (axis=1 is the columns)\n",
        "\n",
        "Concatenation along axis=1 supports an argument for type of `join` to use.\n",
        "\n",
        "Concatenation can create a hierarchical index on the concatenation axis using the `keys` argument.\n",
        "\n",
        "`ignore_index=True` allows drops the original indexes from the result.\n",
        "\n",
        "\n",
        "#### Combining data with overlap\n",
        "\n",
        "`combine_first` is similar to NumPy's `where` method for performing ternary operations.\n"
      ]
    },
    {
      "cell_type": "markdown",
      "metadata": {
        "id": "GLnZg7x8y-L7",
        "colab_type": "text"
      },
      "source": [
        "### Reshaping & Pivoting\n",
        "\n",
        "#### Reshaping with Hierarchical Indexing\n",
        "#### Pivoting 'long' to 'wide'\n",
        "#### Pivoting 'wide' to 'long'"
      ]
    },
    {
      "cell_type": "markdown",
      "metadata": {
        "id": "HUCFb7WFHezB",
        "colab_type": "text"
      },
      "source": [
        "### Grouping Data\n",
        "\n",
        "The expressiveness of Python and pandas allows complex group operations using any function that accepts a pandas object or NumPy array. This can include:\n",
        "\n",
        "- Splitting a pandas object into pieces using one or more keys\n",
        "- Calculating group summary statistics\n",
        "- Applying within-group transformations or other manipulations\n",
        "- Computing pivot tables and cross-tabulations\n",
        "- Performing quantile analysis and other statistical group analyses\n",
        "\n",
        "  #### GroupBy Operations\n",
        "\n",
        "Group operations involve the `split-apply-combine` mechanism.\n",
        "\n",
        "1. Data are split into groups based on one or more keys\n",
        "2. A function is applied to each group\n",
        "3. Results of the function application are combined into a new object\n",
        "\n",
        "Grouping keys can take many forms, and the keys do not have to be all of the same type.\n",
        "\n",
        "pandas `groupby` method returns a GroupBy object that can be re-used.\n",
        "\n",
        "DataFrame columns can be used as the group keys.\n",
        "\n",
        "Numeric aggregations will exclude `nuisance` (non-numeric) columns from the result\n",
        "\n",
        "By default `groupby` groups on axis=0, but can group on any of the other axes.\n",
        "\n",
        "  #### Iterating over groups\n",
        "\n",
        "The GroupBy object supports iteration, generating a sequence of 2-tuples containing the group name along with the chunk of data.\n",
        "\n",
        "Indexing a GroupBy object created from a DataFrame with a column name or array of column names has the effect of column subsetting for aggregation. This means that:\n",
        "```\n",
        "df.groupby('key1')['data1']\n",
        "```\n",
        "is essentially the same as:\n",
        "```\n",
        "df['data1'].groupby(df['key1'])\n",
        "```\n",
        "\n",
        "  #### Grouping with Series or Dicts\n",
        "\n",
        "\n",
        "  #### Grouping with Functions\n",
        "  #### Grouping by Index Levels"
      ]
    },
    {
      "cell_type": "markdown",
      "metadata": {
        "id": "tUH6j4_GIZ6G",
        "colab_type": "text"
      },
      "source": [
        "### Data Aggregation\n",
        "\n",
        "Aggregations refer to any data transformation that produces scalar values from arrays.\n",
        "\n",
        "Programs can use built-in optimized aggregation methods, or custom functions.\n",
        "\n",
        "Programs can pass any function that aggregates an array to the `aggregate` or `agg` method of a GroupBy object. \n",
        "\n",
        "Custom aggregation functions are generally much slower than the built-in optimized functions.\n",
        "\n",
        "#### Column-wise & Multiple-function application\n",
        "\n",
        "Providing a list of functions or function names, results in a DataFrame with column names taken from the functions. Programs can over-ride the default column name:\n",
        "\n",
        "`grouped_pct.agg([('foo', 'mean'), ('bar', np.std), peak_to_peak])`\n",
        "\n",
        "You can specify a list of functions to apply to all of the columns or different functions per column.\n",
        "\n",
        "#### Aggregated data without row indexes\n",
        "\n",
        "By default, the aggregated data result has an index, potentially hierarchical, composed from the unique group key combinations. You can disable this behavior in most cases by passing `as_index=False` to groupby."
      ]
    },
    {
      "cell_type": "markdown",
      "metadata": {
        "id": "uz28GdPMJXoh",
        "colab_type": "text"
      },
      "source": [
        "### General split-apply-combine\n",
        "\n",
        "#### Suppressing Group Keys\n",
        "#### Quantile & Bucket Analysis\n",
        "#### Filling missing values\n",
        "#### Random sampling & permutation\n",
        "#### Group weighted average and correlation"
      ]
    },
    {
      "cell_type": "markdown",
      "metadata": {
        "id": "wSDvXZR4KE02",
        "colab_type": "text"
      },
      "source": [
        "### Pivot Tables & Cross-Tabulation\n",
        "\n",
        "#### Pivot Tables\n",
        "#### Cross-Tabulations\n"
      ]
    }
  ]
}
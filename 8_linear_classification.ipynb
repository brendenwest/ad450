{
  "nbformat": 4,
  "nbformat_minor": 0,
  "metadata": {
    "colab": {
      "name": "8_linear_classification.ipynb",
      "provenance": [],
      "collapsed_sections": [],
      "authorship_tag": "ABX9TyO8tV4qkCuT6Ei54QgAzjOI",
      "include_colab_link": true
    },
    "kernelspec": {
      "name": "python3",
      "display_name": "Python 3"
    }
  },
  "cells": [
    {
      "cell_type": "markdown",
      "metadata": {
        "id": "view-in-github",
        "colab_type": "text"
      },
      "source": [
        "<a href=\"https://colab.research.google.com/github/brendenwest/ad450/blob/master/8_linear_classification.ipynb\" target=\"_parent\"><img src=\"https://colab.research.google.com/assets/colab-badge.svg\" alt=\"Open In Colab\"/></a>"
      ]
    },
    {
      "cell_type": "markdown",
      "metadata": {
        "id": "RAtZC8u2FBKL",
        "colab_type": "text"
      },
      "source": [
        "# Linear Classifiers\n",
        "\n",
        "### Reading\n",
        "- http://greenteapress.com/thinkstats2/html/thinkstats2012.html#sec118 (11.6 - 11.9)\n",
        "- https://towardsdatascience.com/introduction-to-logistic-regression-66248243c148\n",
        "- https://towardsdatascience.com/regression-or-classification-linear-or-logistic-f093e8757b9c\n",
        "\n",
        "### Practice\n",
        "- https://www.datacamp.com/community/tutorials/understanding-logistic-regression-python\n",
        "\n",
        "### Learning outcomes\n",
        "- Classification with Logistic regression\n",
        "- Confusion matrix\n",
        "\n",
        "\n"
      ]
    }
  ]
}
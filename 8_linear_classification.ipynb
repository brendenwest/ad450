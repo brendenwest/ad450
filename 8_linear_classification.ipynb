{
  "nbformat": 4,
  "nbformat_minor": 0,
  "metadata": {
    "colab": {
      "name": "8_linear_classification.ipynb",
      "provenance": [],
      "collapsed_sections": [],
      "authorship_tag": "ABX9TyPCIbSzeQW4FAaT7hHUKgwI",
      "include_colab_link": true
    },
    "kernelspec": {
      "name": "python3",
      "display_name": "Python 3"
    }
  },
  "cells": [
    {
      "cell_type": "markdown",
      "metadata": {
        "id": "view-in-github",
        "colab_type": "text"
      },
      "source": [
        "<a href=\"https://colab.research.google.com/github/brendenwest/ad450/blob/master/8_linear_classification.ipynb\" target=\"_parent\"><img src=\"https://colab.research.google.com/assets/colab-badge.svg\" alt=\"Open In Colab\"/></a>"
      ]
    },
    {
      "cell_type": "markdown",
      "metadata": {
        "id": "RAtZC8u2FBKL",
        "colab_type": "text"
      },
      "source": [
        "# Linear Classifiers\n",
        "\n",
        "### Reading\n",
        "- http://greenteapress.com/thinkstats2/html/thinkstats2012.html#sec118 (11.6 - 11.9)\n",
        "- https://towardsdatascience.com/introduction-to-logistic-regression-66248243c148\n",
        "- https://towardsdatascience.com/regression-or-classification-linear-or-logistic-f093e8757b9c\n",
        "\n",
        "### Practice\n",
        "- https://www.datacamp.com/community/tutorials/understanding-logistic-regression-python\n",
        "- https://www.coursera.org/learn/ml-classification\n",
        "\n",
        "### Learning outcomes\n",
        "- Classification with Logistic regression\n",
        "- Confusion matrix\n",
        "\n"
      ]
    },
    {
      "cell_type": "markdown",
      "metadata": {
        "id": "zEFMrHX6KCeW",
        "colab_type": "text"
      },
      "source": [
        "### Logistic Regression Overview\n",
        "\n",
        "Logistic regression is a statistical method for predicting binary classes - e.g.:\n",
        "- whether a patient has cancer or diabetes\n",
        "- whether a customer will churn\n",
        "\n",
        "LR predicts the probability of occurrence of a binary event utilizing the log odds as the dependent variable.\n",
        "\n",
        "LR function maps inputs (X values) to a value (y prediction) between 0 and 1. If the prediction is > 0.5, we classify the prediction as 1 or `Yes`. Otherwise we classify the prediction as 0 or `No`\n",
        "\n",
        "LR accuracy is evaluated with Maximum Likelihood Estimation (MLE) - determining the parameters that are most likely to produce the observed data.\n",
        "\n",
        "### Types of Logistic Regression\n",
        "\n",
        "- **Binary**: The target variable has only two possible outcomes such as Spam or Not Spam, Cancer or No Cancer.\n",
        "- **Multinomial**: The target variable has three or more nominal categories such as predicting the type of Wine.\n",
        "- **Ordinal**: the target variable has three or more ordinal categories such as restaurant or product rating from 1 to 5.\n",
        "\n",
        "**Advantages**\n",
        "- is not computationally expensive\n",
        "- easy to implement & interpret\n",
        "- doesn't require scaling features\n",
        "\n",
        "**Disadvantages**\n",
        "\n",
        "- not able to handle a large number of categorical features\n",
        "- vulnerable to overfitting\n",
        "- can't solve non-linear problems\n",
        "- does not perform well with features that aren't correlated with the target and are correlated with each other\n"
      ]
    },
    {
      "cell_type": "markdown",
      "metadata": {
        "id": "4P_fSwLwKhj_",
        "colab_type": "text"
      },
      "source": [
        "### Model Evaluation \n",
        "\n",
        "\n",
        "Classification models are evaluated on:\n",
        "- Accuracy - correct classification of observed values\n",
        "- Precision - how often the model is correct\n",
        "- Recall - correct classification of values in the test set\n",
        "\n",
        "**Confusion Matrix**\n",
        "\n",
        "A confusion matrix is a table used to evaluate the performance of a classification model. It shows the total number of correct and incorrect predictions by class.\n",
        "\n",
        "Diagonal (upper left to lower right) values represent accurate predictions, while (lower left to upper right) elements are inaccurate predictions.\n",
        "\n",
        "**ROC Curve**\n",
        "\n",
        "A Receiver Operating Characteristic (ROC) curve plots the true positive rate against the false positive rate. It shows the tradeoff between model sensitivity and specificity.\n"
      ]
    }
  ]
}
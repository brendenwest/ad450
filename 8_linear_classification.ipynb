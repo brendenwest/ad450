{
  "nbformat": 4,
  "nbformat_minor": 0,
  "metadata": {
    "colab": {
      "name": "8_linear_classification.ipynb",
      "provenance": [],
      "collapsed_sections": [],
      "authorship_tag": "ABX9TyPqlsgLjoSAk/nXAYQl5cce",
      "include_colab_link": true
    },
    "kernelspec": {
      "name": "python3",
      "display_name": "Python 3"
    }
  },
  "cells": [
    {
      "cell_type": "markdown",
      "metadata": {
        "id": "view-in-github",
        "colab_type": "text"
      },
      "source": [
        "<a href=\"https://colab.research.google.com/github/brendenwest/ad450/blob/master/8_linear_classification.ipynb\" target=\"_parent\"><img src=\"https://colab.research.google.com/assets/colab-badge.svg\" alt=\"Open In Colab\"/></a>"
      ]
    },
    {
      "cell_type": "markdown",
      "metadata": {
        "id": "RAtZC8u2FBKL",
        "colab_type": "text"
      },
      "source": [
        "# Linear Classifiers\n",
        "\n",
        "### Reading\n",
        "- http://greenteapress.com/thinkstats2/html/thinkstats2012.html#sec118 (11.6 - 11.9)\n",
        "- https://towardsdatascience.com/introduction-to-logistic-regression-66248243c148\n",
        "\n",
        "### Practice\n",
        "- https://www.datacamp.com/community/tutorials/understanding-logistic-regression-python\n",
        "\n",
        "### Learning outcomes\n",
        "- Logistic regression\n",
        "\n"
      ]
    }
  ]
}
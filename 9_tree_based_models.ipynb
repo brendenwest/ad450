{
  "nbformat": 4,
  "nbformat_minor": 0,
  "metadata": {
    "colab": {
      "name": "9_tree_based_models.ipynb",
      "provenance": [],
      "collapsed_sections": [],
      "authorship_tag": "ABX9TyPYvAKvDtz3XGc4s7RrTAwh",
      "include_colab_link": true
    },
    "kernelspec": {
      "name": "python3",
      "display_name": "Python 3"
    }
  },
  "cells": [
    {
      "cell_type": "markdown",
      "metadata": {
        "id": "view-in-github",
        "colab_type": "text"
      },
      "source": [
        "<a href=\"https://colab.research.google.com/github/brendenwest/ad450/blob/master/9_tree_based_models.ipynb\" target=\"_parent\"><img src=\"https://colab.research.google.com/assets/colab-badge.svg\" alt=\"Open In Colab\"/></a>"
      ]
    },
    {
      "cell_type": "markdown",
      "metadata": {
        "id": "4zUi5tuyiUjT",
        "colab_type": "text"
      },
      "source": [
        "# Decision Trees and Tree-based Models\n",
        "\n",
        "### Reading\n",
        "- https://learning.oreilly.com/library/view/hands-on-machine-learning/9781491962282/ch06.html#trees_chapter\n",
        "- https://learning.oreilly.com/library/view/hands-on-machine-learning/9781491962282/ch07.html#ensembles_chapter\n",
        "\n",
        "### Tutorials\n",
        "- https://www.datacamp.com/community/tutorials/decision-tree-classification-python\n",
        "- https://www.datacamp.com/community/tutorials/kaggle-tutorial-machine-learning (Decision Tree Classifiers)\n",
        "https://www.datacamp.com/community/tutorials/random-forests-classifier-python\n",
        "\n",
        "\n",
        "### Learning Outcomes\n",
        "- Decision tree models\n",
        "- Measuring entropy & information gain\n",
        "- Using decision trees for regression\n",
        "- Ensemble learning\n",
        "- Random forests\n"
      ]
    }
  ]
}
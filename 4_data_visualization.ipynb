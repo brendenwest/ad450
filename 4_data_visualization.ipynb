{
  "nbformat": 4,
  "nbformat_minor": 0,
  "metadata": {
    "colab": {
      "name": "4_data_visualization.ipynb",
      "provenance": [],
      "collapsed_sections": [],
      "authorship_tag": "ABX9TyPyFPEjb823gr1kakj2UMCf",
      "include_colab_link": true
    },
    "kernelspec": {
      "name": "python3",
      "display_name": "Python 3"
    }
  },
  "cells": [
    {
      "cell_type": "markdown",
      "metadata": {
        "id": "view-in-github",
        "colab_type": "text"
      },
      "source": [
        "<a href=\"https://colab.research.google.com/github/brendenwest/ad450/blob/master/4_data_visualization.ipynb\" target=\"_parent\"><img src=\"https://colab.research.google.com/assets/colab-badge.svg\" alt=\"Open In Colab\"/></a>"
      ]
    },
    {
      "cell_type": "markdown",
      "metadata": {
        "id": "XsM1oQJQiZG6",
        "colab_type": "text"
      },
      "source": [
        "# Data Visualization\n",
        "\n",
        "### Reading\n",
        "\n",
        "- McKinney, Chapter 9\n",
        "- Molin, “Visualizing Data with Pandas and Matplotlb”\n",
        "- Molin, “Plotting with Seaborn and Customization Techniques”\n",
        "- https://blog.growingdata.com.au/a-guided-introduction-to-exploratory-data-analysis-eda-using-python/\n",
        "- https://seaborn.pydata.org/introduction.html\n",
        "- https://www.datasciencecourse.org/notes/visualization/\n",
        "\n",
        "### Watch \n",
        "- [Bullshit data graphics](https://callingbullshit.org/videos.html) 1.2 & chapter 6\n",
        "\n",
        "### Practice\n",
        "- https://www.datacamp.com/community/tutorials/matplotlib-tutorial-python\n",
        "- https://www.datacamp.com/courses/introduction-to-seaborn\n",
        "- https://www.datacamp.com/community/tutorials/time-series-analysis-tutorial\n",
        "- https://www.datacamp.com/community/tutorials/geospatial-data-python\n",
        "\n",
        "### Learning Outcomes\n",
        "\n",
        "- common data plots - line, bar, scatter, histogram\n",
        "- Plotting data with matplotlib\n",
        "- Plotting with pandas\n",
        "- Statistical graphics with seaborn\n",
        "- exploratory data analysis\n",
        "- Interactive data visualization for web browsers\n",
        "- Data visualization with Tableau & D3\n",
        "- visualization practices to avoid\n"
      ]
    },
    {
      "cell_type": "markdown",
      "metadata": {
        "id": "2UnvheaFlqYU",
        "colab_type": "text"
      },
      "source": [
        "### matplotlib\n",
        "\n",
        "matplotlib is python plotting package designed for creating (mostly two-dimensional) publication-quality plots. \n",
        "\n",
        "It allows interactive plotting from the iPython shell or within Jupyter notebooks\n",
        "\n",
        "matplotlib can export visualizations to  common vector and raster graphics formats (PDF, SVG, JPG, PNG, BMP, GIF, etc.). \n",
        "\n",
        "- plots & plot types\n",
        "- title & labels\n",
        "- legends\n",
        "- subplots\n",
        "- annotations\n",
        "- saving plots"
      ]
    },
    {
      "cell_type": "code",
      "metadata": {
        "id": "H9BAmxdhsqSu",
        "colab_type": "code",
        "colab": {}
      },
      "source": [
        "import matplotlib.pyplot as plt\n",
        "%matplotlib inline"
      ],
      "execution_count": 0,
      "outputs": []
    },
    {
      "cell_type": "markdown",
      "metadata": {
        "id": "1Eog-aQgluJ1",
        "colab_type": "text"
      },
      "source": [
        "### Plotting with pandas\n",
        "\n",
        "- Series plot\n",
        "- DataFrame plot\n",
        "- plot features"
      ]
    },
    {
      "cell_type": "markdown",
      "metadata": {
        "id": "hwUJyeQPnyBw",
        "colab_type": "text"
      },
      "source": [
        "### Seaborn plots\n",
        "\n",
        "Seaborn is a Python data visualization library based on matplotlib. \n",
        "\n",
        "It's designed to simplify data exploration and production of informative statistical graphics.\n",
        "\n",
        "Seaborn's dataset-oriented plotting functions operate on dataframes and arrays containing whole datasets and internally perform the necessary semantic mapping and statistical aggregation to produce informative plots.\n",
        "\n",
        "**concepts**\n",
        "- confidence intervals\n",
        "- crosstabs\n",
        "- distributions\n",
        "- continuous probability distribution\n",
        "- linear regression\n",
        "- box plots\n",
        "- violin plots\n",
        "- heat maps"
      ]
    },
    {
      "cell_type": "code",
      "metadata": {
        "id": "PXuQSt_OiNIo",
        "colab_type": "code",
        "colab": {}
      },
      "source": [
        ""
      ],
      "execution_count": 0,
      "outputs": []
    },
    {
      "cell_type": "markdown",
      "metadata": {
        "id": "vBDlPhrxs_4Q",
        "colab_type": "text"
      },
      "source": [
        "### Other Visualization Tools\n",
        "\n",
        "- Bokeh & Plotly - Python libraries for interactive web graphics\n",
        "- [Geoplot](http://geopandas.org/gallery/plotting_with_geoplot.html) - Python library for easy-to-use geospatial visualizations, designed to work with GeoPandas input.\n",
        "- [ScatterText](https://github.com/JasonKessler/scattertext#overview) - Python tool for visualizing what words and phrases are more characteristic of a category than others.\n",
        "- [D3.js](https://d3js.org/) - JavaScript library for interactive web graphics\n",
        "- [Tableau](https://www.tableau.com/) - drag-and-drop data analytics tools\n",
        "- [PowerBI](https://powerbi.microsoft.com/en-us/what-is-power-bi/) - Microsoft data analytics solution. Similar to Tableau.\n"
      ]
    }
  ]
}
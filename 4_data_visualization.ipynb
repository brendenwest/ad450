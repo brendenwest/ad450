{
  "nbformat": 4,
  "nbformat_minor": 0,
  "metadata": {
    "colab": {
      "name": "4_data_visualization.ipynb",
      "provenance": [],
      "collapsed_sections": [],
      "toc_visible": true,
      "include_colab_link": true
    },
    "kernelspec": {
      "name": "python3",
      "display_name": "Python 3"
    }
  },
  "cells": [
    {
      "cell_type": "markdown",
      "metadata": {
        "id": "view-in-github",
        "colab_type": "text"
      },
      "source": [
        "<a href=\"https://colab.research.google.com/github/brendenwest/ad450/blob/master/4_data_visualization.ipynb\" target=\"_parent\"><img src=\"https://colab.research.google.com/assets/colab-badge.svg\" alt=\"Open In Colab\"/></a>"
      ]
    },
    {
      "cell_type": "markdown",
      "metadata": {
        "id": "XsM1oQJQiZG6",
        "colab_type": "text"
      },
      "source": [
        "# Data Visualization\n",
        "\n",
        "### Reading\n",
        "\n",
        "- McKinney, Chapter 9\n",
        "- Molin, “Visualizing Data with Pandas and Matplotlb”\n",
        "- Molin, “Plotting with Seaborn and Customization Techniques”\n",
        "- https://blog.growingdata.com.au/a-guided-introduction-to-exploratory-data-analysis-eda-using-python/\n",
        "- https://seaborn.pydata.org/introduction.html\n",
        "- https://www.datasciencecourse.org/notes/visualization/\n",
        "\n",
        "### Watch \n",
        "- [Bullshit data graphics](https://callingbullshit.org/videos.html) 1.2 & chapter 6\n",
        "\n",
        "### Practice\n",
        "- https://www.datacamp.com/community/tutorials/matplotlib-tutorial-python\n",
        "- https://www.datacamp.com/courses/introduction-to-seaborn\n",
        "- https://www.datacamp.com/community/tutorials/time-series-analysis-tutorial\n",
        "- https://www.datacamp.com/community/tutorials/geospatial-data-python\n",
        "\n",
        "### Learning Outcomes\n",
        "\n",
        "- common data plots - line, bar, scatter, histogram\n",
        "- Plotting data with matplotlib\n",
        "- Plotting with pandas\n",
        "- Statistical graphics with seaborn\n",
        "- exploratory data analysis\n",
        "- Interactive data visualization for web browsers\n",
        "- Data visualization with Tableau & D3\n",
        "- visualization practices to avoid\n"
      ]
    },
    {
      "cell_type": "markdown",
      "metadata": {
        "id": "aXsniVweMibj",
        "colab_type": "text"
      },
      "source": [
        "### What is Data Visualization\n",
        "\n",
        "- visualization for **data exploration** allows one to see structure & patterns of data for later analysis\n",
        "- visualization for **presentation** of conclusions\n",
        "- learning how to visualize data before applying more sophisticated methods is a key skill for effective data science\n",
        "\n",
        "#### Python visualization tools:\n",
        "\n",
        "- matplotlib\n",
        "- seaborn - designed to simplify data exploration and production of informative statistical graphics.\n",
        "- Bokeh & Plotly - Python libraries for interactive web graphics\n",
        "- [Geoplot](http://geopandas.org/gallery/plotting_with_geoplot.html) - Python library for easy-to-use geospatial visualizations, designed to work with GeoPandas input.\n",
        "- [ScatterText](https://github.com/JasonKessler/scattertext#overview) - Python tool for visualizing what words and phrases are more characteristic of a category than others.\n",
        "\n",
        "\n",
        "#### Other Visualization Tools\n",
        "\n",
        "- [D3.js](https://d3js.org/) - JavaScript library for interactive web graphics\n",
        "- [Tableau](https://www.tableau.com/) - drag-and-drop data analytics tools\n",
        "- [PowerBI](https://powerbi.microsoft.com/en-us/what-is-power-bi/) - Microsoft data analytics solution. Similar to Tableau.\n"
      ]
    },
    {
      "cell_type": "markdown",
      "metadata": {
        "id": "2UnvheaFlqYU",
        "colab_type": "text"
      },
      "source": [
        "### matplotlib\n",
        "\n",
        "matplotlib is python plotting package designed for creating (mostly two-dimensional) publication-quality plots. \n",
        "\n",
        "It allows interactive plotting from the iPython shell or within Jupyter notebooks\n",
        "\n",
        "matplotlib can export visualizations to  common vector and raster graphics formats (PDF, SVG, JPG, PNG, BMP, GIF, etc.). \n",
        "\n",
        "- plots & plot types\n",
        "- title & labels\n",
        "- legends\n",
        "- subplots\n",
        "- annotations\n",
        "- saving plots"
      ]
    },
    {
      "cell_type": "code",
      "metadata": {
        "id": "H9BAmxdhsqSu",
        "colab_type": "code",
        "colab": {}
      },
      "source": [
        "import matplotlib.pyplot as plt\n",
        "%matplotlib inline"
      ],
      "execution_count": 0,
      "outputs": []
    },
    {
      "cell_type": "markdown",
      "metadata": {
        "id": "1Eog-aQgluJ1",
        "colab_type": "text"
      },
      "source": [
        "### Plotting with pandas\n",
        "\n",
        "- Series plot\n",
        "- DataFrame plot\n",
        "- plot features"
      ]
    },
    {
      "cell_type": "markdown",
      "metadata": {
        "id": "hwUJyeQPnyBw",
        "colab_type": "text"
      },
      "source": [
        "### Seaborn plots\n",
        "\n",
        "Seaborn is a Python data visualization library based on matplotlib. \n",
        "\n",
        "It's designed to simplify data exploration and production of informative statistical graphics.\n",
        "\n",
        "Seaborn's dataset-oriented plotting functions operate on dataframes and arrays containing whole datasets and internally perform the necessary semantic mapping and statistical aggregation to produce informative plots.\n",
        "\n",
        "**concepts**\n",
        "- confidence intervals\n",
        "- crosstabs\n",
        "- distributions\n",
        "- continuous probability distribution\n",
        "- linear regression\n",
        "- box plots\n",
        "- violin plots\n",
        "- heat maps"
      ]
    },
    {
      "cell_type": "code",
      "metadata": {
        "id": "PXuQSt_OiNIo",
        "colab_type": "code",
        "colab": {}
      },
      "source": [
        ""
      ],
      "execution_count": 0,
      "outputs": []
    },
    {
      "cell_type": "markdown",
      "metadata": {
        "id": "1kAfJRWf9mAN",
        "colab_type": "text"
      },
      "source": [
        "### Exploratory Data Analysis \n",
        "\n",
        "EDA is a crucial initial step for understanding a dataset and preparing for statistical modeling.\n",
        "\n",
        "Answers questions such as:\n",
        "- what is the data quality?\n",
        "- is the data predictive enought for modeling?\n",
        "\n",
        "EDA is the process of performing initial investigations to:\n",
        "- Uncover underlying structure & patterns in the data\n",
        "- Identify important variables\n",
        "- Identify anomalies\n",
        "- Test a hypothesis\n",
        "- Check assumptions\n",
        "- Set the stage for model development\n"
      ]
    },
    {
      "cell_type": "markdown",
      "metadata": {
        "id": "BN-w61vJ-1t0",
        "colab_type": "text"
      },
      "source": [
        "#### Step 1 - Understanding the data\n",
        "\n",
        "- how many observations?\n",
        "- how many features (variables)?\n",
        "- which are the dependent variables?\n",
        "- what are the data types?\n",
        "- are variables numeric or categorical?\n",
        "- what are the primary statistics for each feature?\n",
        "\n"
      ]
    },
    {
      "cell_type": "markdown",
      "metadata": {
        "id": "2CiTjSm6_eBT",
        "colab_type": "text"
      },
      "source": [
        "#### Step 2 - Univariate Analysis\n",
        "\n",
        "Describe & understand distribution of a single variable. Detect outliers. Identify patterns.\n",
        "\n",
        "**Numeric**\n",
        "\n",
        "Measures of **center** (e.g. mean, median, mode)\n",
        "\n",
        "Measures of **spread** - how variable is the data (e.g. variance & standard deviation). Histograms are useful to show distribution\n",
        "\n",
        "**outliers** are values outside common distribution. Very dataset specific. Boxplots are useful for identifying outliers.\n",
        "\n",
        "**Probability Density Function** (PDF) - a function whose value at any given sample is the relative likelihood that the value of a random variable would equal that sample. For continuous variables.\n",
        "\n",
        "When plotted, the x-axis represents the value ranges while the y-axis represents the percentage of data points for each target value.\n",
        "\n",
        "**Cumulative Distribution Function (CDF)** - probability that a continuous random variable has a value <= to a given value. \n",
        "\n",
        "https://towardsdatascience.com/probability-concepts-explained-probability-distributions-introduction-part-3-4a5db81858dc\n",
        "\n",
        "**Categorical**\n",
        "\n",
        "Range & frequency of values (counts & percents)"
      ]
    },
    {
      "cell_type": "markdown",
      "metadata": {
        "id": "--FS6gWtFwZM",
        "colab_type": "text"
      },
      "source": [
        "#### Step 3 - Bi-Variate Analysis\n",
        "\n",
        "Analysis that explores the relationship between two variables.\n",
        "\n",
        "**Numeric**\n",
        "\n",
        "**scatterplot** visualizes relationship. Helps to identify potential relationship (type & strength)\n",
        "\n",
        "**Correlation matrix**\n",
        "\n",
        "Square matrix with same variables in rows & columns. level of correlation is shown with values ranging from 0 (no correlation) to 1 (highly correlated). **heatmap** plot can show correlation intensity with color density.\n",
        "\n",
        "**Categorical**\n",
        "\n",
        "Can be visualized in a correlation matrix, after encoding textual values into numeric ones (**label encoding**).\n",
        "\n",
        "**Stacked column chart** can show the percentages that each category from one variable contributes to a total across categories of the second variable.\n"
      ]
    },
    {
      "cell_type": "markdown",
      "metadata": {
        "id": "T2BUOC3dIwLk",
        "colab_type": "text"
      },
      "source": [
        "#### Step 4 - Multivariate Analysis\n",
        "\n",
        "Generally shows the statistical relationship between two or more variables.\n",
        "\n",
        "**Contour plot** can show combinations with highest probability.\n",
        "\n",
        "**Principal Component Analysis (PCA)** - \n",
        "\n",
        "A set of observations of correlated variables are converted into a set of values of linearly uncorrelated variables.\n",
        "\n",
        "Can completely restructure the data, removing redundancies and ordering newly obtained components according to the amount of the original variance that they express.\n",
        "\n",
        "Can give great insights about how the set of features collectively collaborate to describe the analysis outcome (target).\n",
        "\n",
        "Very common technique for speeding up a machine learning algorithm by reducing the dimensionality of input features.\n"
      ]
    }
  ]
}
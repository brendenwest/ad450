{
  "nbformat": 4,
  "nbformat_minor": 0,
  "metadata": {
    "colab": {
      "name": "2_numpy_pandas.ipynb",
      "provenance": [],
      "collapsed_sections": [
        "Re_QgX6E9Cw5",
        "9RxU_gS2Tftd"
      ],
      "toc_visible": true,
      "authorship_tag": "ABX9TyMmfY7ZEBI4ToniAFpOGMXP",
      "include_colab_link": true
    },
    "kernelspec": {
      "name": "python3",
      "display_name": "Python 3"
    }
  },
  "cells": [
    {
      "cell_type": "markdown",
      "metadata": {
        "id": "view-in-github",
        "colab_type": "text"
      },
      "source": [
        "<a href=\"https://colab.research.google.com/github/brendenwest/ad450/blob/master/2_numpy_pandas.ipynb\" target=\"_parent\"><img src=\"https://colab.research.google.com/assets/colab-badge.svg\" alt=\"Open In Colab\"/></a>"
      ]
    },
    {
      "cell_type": "markdown",
      "metadata": {
        "id": "pUtbU2L57yEe"
      },
      "source": [
        "# NumPy & Pandas\n",
        "___\n",
        "\n",
        "## Reading\n",
        "\n",
        "- McKinney, Chapters 4 - 5\n",
        "- https://blog.growingdata.com.au/a-guided-introduction-to-exploratory-data-analysis-eda-using-python/\n",
        "\n",
        "## Practice\n",
        "- https://www.datacamp.com/community/tutorials/python-numpy-tutorial\n",
        "- https://www.datacamp.com/community/tutorials/pandas-tutorial-dataframe-python\n",
        "- https://nbviewer.org/github/pydata/pydata-book/blob/2nd-edition/ch04.ipynb\n",
        "- https://nbviewer.org/github/pydata/pydata-book/blob/2nd-edition/ch05.ipynb \n",
        "\n",
        "## Learning Outcomes\n",
        "\n",
        "- NumPy multi-dimensional array objects\n",
        "- Array arithmetic and indexing\n",
        "- Vectorized array operations\n",
        "- Conditional logic as array operations\n",
        "- Group-wise data manipulation\n",
        "- Pandas data structures - Series and DataFrame\n",
        "- Data selecting & filtering\n",
        "- Computing descriptive statistics\n"
      ]
    },
    {
      "cell_type": "markdown",
      "metadata": {
        "id": "0CEWh8h_v3IF"
      },
      "source": [
        "# NumPy\n",
        "\n",
        "---\n",
        "\n",
        "NumPy is a foundational package for numerical computing in Python.\n",
        "\n",
        "*   NumPy provides `ndarray`, an efficient multi-dimensional array supporting fast array-oriented arithmetic operations.\n",
        "*   Can perform math operations on entire arrays without using for loops\n",
        "*   Can perform common array operations like sorting, unique, & set \n",
        "*   Linear Algebra, random number generation and Fourier transform capabilities\n",
        "*   C api for connecting with C, C++, & FORTRAN libraries\n",
        "*   Can map data directly onto underlying disk or memory representation\n"
      ]
    },
    {
      "cell_type": "markdown",
      "metadata": {
        "id": "VOeGstZzwvWu"
      },
      "source": [
        "### Efficiency\n",
        "- NumPy stores data in contiguous memory blocks\n",
        "- NumPy stores data with single type so operations don’t require type checking\n",
        "- Performs complex computations on entire arrays without the need for loops\n",
        "- Operations don’t copy arrays by default\n",
        "\n",
        "NumPy-based algorithms are generally 10 to 100 times faster (or more) than their pure Python counterparts and use significantly less memory.\n",
        "\n",
        "NumPy is designed & optimized for **vectorized** (batch) operations on array data without `for` loops\n",
        "\n",
        "- Arithmetic operations between equal-size arrays apply the operation element-wise - multiplication, addition, subtraction, division\n",
        "- Scalar operations propagate the scalar argument to each element in the array\n",
        "- Comparisons between equal size arrays yield boolean arrays\n"
      ]
    },
    {
      "cell_type": "markdown",
      "metadata": {
        "id": "ZJfOmTLLxQD1"
      },
      "source": [
        "### Creating arrays\n",
        "NumPy provides the `ndarray` a multi-dimensional array structure optimized for fast numeric operatons.\n",
        "\n",
        "ndarrays are constructed from sequences of homogenous values.\n",
        "\n",
        "Unless explicitly specified, `np.array` infers a data type for the created array and stores the data type in a special `dtype` metadata object.\n"
      ]
    },
    {
      "cell_type": "code",
      "source": [
        "import numpy as np"
      ],
      "metadata": {
        "id": "Pt63xmy1qLll"
      },
      "execution_count": 3,
      "outputs": []
    },
    {
      "cell_type": "code",
      "metadata": {
        "id": "AVByQUYKxtNG",
        "outputId": "6082587d-5ff7-4b29-9442-69a5b9deae0a",
        "colab": {
          "base_uri": "https://localhost:8080/"
        }
      },
      "source": [
        "# create an array from literal values\n",
        "numbers = np.array([[1, 2, 3, 4], [5, 6, 7, 8]])\n",
        "print(numbers) \n",
        "\n",
        "print(\"\\nInspect the array\\n--------------\")\n",
        "print(\"dimensions:\",numbers.ndim)  # ndarrays have dimensions\n",
        "print(\"shape:\\t\",numbers.shape)    # ndarrays have shape (numer of rows & columns)\n",
        "print(\"size:\\t\",numbers.size)     # number of elements in the array\n",
        "print(\"datatype\",numbers.dtype)    # numpy determines the datatype\n",
        "print(\"bytes:\\t\", numbers.nbytes)  # total bytes consumed by the array"
      ],
      "execution_count": 5,
      "outputs": [
        {
          "output_type": "stream",
          "name": "stdout",
          "text": [
            "[[1 2 3 4]\n",
            " [5 6 7 8]]\n",
            "\n",
            "Inspect the array\n",
            "--------------\n",
            "dimensions: 2\n",
            "shape:\t (2, 4)\n",
            "size:\t 8\n",
            "datatype int64\n",
            "bytes:\t 64\n"
          ]
        }
      ]
    },
    {
      "cell_type": "markdown",
      "source": [
        "\n",
        "`ndarray` has built-in methods to create special arrays."
      ],
      "metadata": {
        "id": "4aB_q1LcQj_Z"
      }
    },
    {
      "cell_type": "code",
      "source": [
        "# Create an array of ones\n",
        "ones = np.ones((3,4))\n",
        "print(ones, \"\\n\")\n",
        "\n",
        "# Create an array of zeros\n",
        "zeros = np.zeros((3,4), dtype=np.int16)\n",
        "print(zeros, \"\\n\")\n",
        "\n",
        "# Create an array with random values\n",
        "rando = np.random.random((2,2))\n",
        "print(rando, \"\\n\")\n",
        "\n",
        "# Create an empty array\n",
        "empty = np.empty((3,2))\n",
        "print(empty, \"\\n\")\n",
        "\n",
        "# Create a full array\n",
        "full = np.full((2,2),7)\n",
        "print(full, \"\\n\")\n",
        "\n",
        "# Create an array of evenly-spaced values. last value is increment.\n",
        "even = np.arange(10,25,5)\n",
        "print(even, \"\\n\")\n",
        "\n",
        "# Create an array of evenly-spaced values. last param is # of values.\n",
        "line = np.linspace(0,2,9)\n",
        "print(line, \"\\n\")\n"
      ],
      "metadata": {
        "colab": {
          "base_uri": "https://localhost:8080/"
        },
        "id": "pTXgMRYRQS3v",
        "outputId": "75d7a967-8b95-48fd-c6f0-04faae63961a"
      },
      "execution_count": 6,
      "outputs": [
        {
          "output_type": "stream",
          "name": "stdout",
          "text": [
            "[[1. 1. 1. 1.]\n",
            " [1. 1. 1. 1.]\n",
            " [1. 1. 1. 1.]] \n",
            "\n",
            "[[0 0 0 0]\n",
            " [0 0 0 0]\n",
            " [0 0 0 0]] \n",
            "\n",
            "[[0.43096668 0.09210349]\n",
            " [0.87507884 0.745515  ]] \n",
            "\n",
            "[[4.64551696e-310 0.00000000e+000]\n",
            " [0.00000000e+000 0.00000000e+000]\n",
            " [0.00000000e+000 0.00000000e+000]] \n",
            "\n",
            "[[7 7]\n",
            " [7 7]] \n",
            "\n",
            "[10 15 20] \n",
            "\n",
            "[0.   0.25 0.5  0.75 1.   1.25 1.5  1.75 2.  ] \n",
            "\n"
          ]
        }
      ]
    },
    {
      "cell_type": "markdown",
      "metadata": {
        "id": "vWpCRjv90Gna"
      },
      "source": [
        "### Indexing & Slicing\n",
        "\n",
        "NumPy supports data access with Python-like indexing & slicing\n",
        "\n",
        "- One-dimensional ndarrays act similar to Python lists\n",
        "- `ndarray` dimensions are sometimes referred to as axes - e.g. in a 2d array axis 0 is the ‘rows’ and axis 1 is the ‘columns’\n",
        "- ndarray slices are **views** on the original array and not copied. Any changes to the view are reflected in the source array\n"
      ]
    },
    {
      "cell_type": "code",
      "metadata": {
        "id": "NSMJt_4x0qan",
        "outputId": "f9d971dd-7cac-4329-a850-a630db9c5a3c",
        "colab": {
          "base_uri": "https://localhost:8080/"
        }
      },
      "source": [
        "arr1d = np.array([1, 2, 3, 4, 5, 6, 7, 8])\n",
        "\n",
        "arr1d[5:8]  # select data based on index position\n"
      ],
      "execution_count": 10,
      "outputs": [
        {
          "output_type": "execute_result",
          "data": {
            "text/plain": [
              "array([6, 7, 8])"
            ]
          },
          "metadata": {},
          "execution_count": 10
        }
      ]
    },
    {
      "cell_type": "code",
      "source": [
        "# Scalar values can be propagated (aka broadcast) to each element in a slice\n",
        "arr1d = np.array([1, 2, 3, 4, 5, 6, 7, 8])\n",
        "arr1d[5:8] = 12\n",
        "arr1d"
      ],
      "metadata": {
        "id": "Xe-PXYhBp4bn",
        "outputId": "17e9b702-bb48-4f19-8297-888822265c1f",
        "colab": {
          "base_uri": "https://localhost:8080/"
        }
      },
      "execution_count": 8,
      "outputs": [
        {
          "output_type": "execute_result",
          "data": {
            "text/plain": [
              "array([ 1,  2,  3,  4,  5, 12, 12, 12])"
            ]
          },
          "metadata": {},
          "execution_count": 8
        }
      ]
    },
    {
      "cell_type": "code",
      "source": [
        "# array subsets must be copied explicitly\n",
        "new_array = arr1d[5:8].copy()\n",
        "new_array"
      ],
      "metadata": {
        "id": "Eh0My7Eaqe77",
        "outputId": "693ef4b3-97a0-4a42-d77a-740fa2cd81db",
        "colab": {
          "base_uri": "https://localhost:8080/"
        }
      },
      "execution_count": 11,
      "outputs": [
        {
          "output_type": "execute_result",
          "data": {
            "text/plain": [
              "array([6, 7, 8])"
            ]
          },
          "metadata": {},
          "execution_count": 11
        }
      ]
    },
    {
      "cell_type": "code",
      "metadata": {
        "id": "kvMvyar216T5",
        "outputId": "943f42a4-469a-48f0-f4d4-546849ffa08d",
        "colab": {
          "base_uri": "https://localhost:8080/"
        }
      },
      "source": [
        "arr2d = np.array([[1, 2, 3, 4], [5, 6, 7, 8]])\n",
        "\n",
        "# either syntax can be used to select elements in mult-dimensional arrays:\n",
        "\n",
        "arr2d[0][2]\n",
        "arr2d[0, 2]\n",
        "\n",
        "# in mult-dimensional arrays, slicing that omits later indices will return a lower-dimensional ndarray\n",
        "\n",
        "# Subarrays can be accessed with slices:\n",
        "\n",
        "arr2d[:2, 1:] # select first two rows and all but first column\n",
        "arr2d[:2, 2]  # select first two rows and only 3rd column\n"
      ],
      "execution_count": 12,
      "outputs": [
        {
          "output_type": "execute_result",
          "data": {
            "text/plain": [
              "array([3, 7])"
            ]
          },
          "metadata": {},
          "execution_count": 12
        }
      ]
    },
    {
      "cell_type": "code",
      "source": [
        "# slicing a mult-dimensional array with just one index will return a lower-dimensional ndarray\n",
        "arr2d = np.array([[1, 2, 3, 4], [5, 6, 7, 8]])\n",
        "arr2d[1]"
      ],
      "metadata": {
        "id": "7g4YR8S1rGD-",
        "outputId": "d861ff63-4fc4-4e43-b64b-298703ca511f",
        "colab": {
          "base_uri": "https://localhost:8080/"
        }
      },
      "execution_count": 14,
      "outputs": [
        {
          "output_type": "execute_result",
          "data": {
            "text/plain": [
              "array([5, 6, 7, 8])"
            ]
          },
          "metadata": {},
          "execution_count": 14
        }
      ]
    },
    {
      "cell_type": "markdown",
      "metadata": {
        "id": "Re_QgX6E9Cw5"
      },
      "source": [
        "### Boolean Indexing\n",
        "\n",
        "NumPy supports boolean expressions in place of indices, where the expression results in an array of boolean values with the same length as the axis it’s indexing"
      ]
    },
    {
      "cell_type": "code",
      "metadata": {
        "id": "IMEp_RGh_Fu5",
        "outputId": "b306e6d9-34fd-4097-e51d-3bff18b360b0",
        "colab": {
          "base_uri": "https://localhost:8080/"
        }
      },
      "source": [
        "import numpy as np\n",
        "names = np.array(['Bob', 'Joe', 'Will', 'Bob', 'Will', 'Joe', 'Joe'])\n",
        "data = np.random.randint(2, size=(7, 4)) # create an array of random values\n",
        "data[names == 'Bob'] # returns rows from ‘data’ whose index matches 'True' values in boolean array va"
      ],
      "execution_count": 23,
      "outputs": [
        {
          "output_type": "execute_result",
          "data": {
            "text/plain": [
              "array([[1, 0, 1, 0],\n",
              "       [0, 0, 1, 0]])"
            ]
          },
          "metadata": {},
          "execution_count": 23
        }
      ]
    },
    {
      "cell_type": "markdown",
      "source": [
        "- The expression can be assigned to a variable and used in place of slicing"
      ],
      "metadata": {
        "id": "OlnpB0bHu00T"
      }
    },
    {
      "cell_type": "code",
      "source": [
        "cond = names == 'Bob'\n",
        "data[cond]"
      ],
      "metadata": {
        "id": "BgULatpwt7X_",
        "outputId": "c31d49b4-92ff-4514-c91b-8eeb42573b5f",
        "colab": {
          "base_uri": "https://localhost:8080/"
        }
      },
      "execution_count": 18,
      "outputs": [
        {
          "output_type": "execute_result",
          "data": {
            "text/plain": [
              "array([[-0.77834192,  0.02334717,  0.48992906,  1.31482435],\n",
              "       [-0.28102981,  0.63581827,  1.05070863, -1.34694174]])"
            ]
          },
          "metadata": {},
          "execution_count": 18
        }
      ]
    },
    {
      "cell_type": "markdown",
      "source": [
        "- The expression can be negated"
      ],
      "metadata": {
        "id": "nbN7s4IzvGzY"
      }
    },
    {
      "cell_type": "code",
      "source": [
        "cond = names == 'Bob'\n",
        "data[~cond]"
      ],
      "metadata": {
        "id": "EP-SDDVIvK8s",
        "outputId": "cce4fab9-cd5e-46c2-c615-f2518f1b4a72",
        "colab": {
          "base_uri": "https://localhost:8080/"
        }
      },
      "execution_count": 24,
      "outputs": [
        {
          "output_type": "execute_result",
          "data": {
            "text/plain": [
              "array([[0, 0, 0, 0],\n",
              "       [0, 0, 1, 1],\n",
              "       [1, 1, 1, 0],\n",
              "       [1, 0, 1, 1],\n",
              "       [1, 1, 1, 0]])"
            ]
          },
          "metadata": {},
          "execution_count": 24
        }
      ]
    },
    {
      "cell_type": "markdown",
      "source": [
        "- The expression can be combined with other indices"
      ],
      "metadata": {
        "id": "HzywZwzQvRr1"
      }
    },
    {
      "cell_type": "code",
      "source": [
        "cond = names == 'Bob'\n",
        "data[cond, 2:]"
      ],
      "metadata": {
        "id": "QYjmF7eFvTmc",
        "outputId": "172adeb5-31d7-47ad-e3af-59c352f96f97",
        "colab": {
          "base_uri": "https://localhost:8080/"
        }
      },
      "execution_count": 25,
      "outputs": [
        {
          "output_type": "execute_result",
          "data": {
            "text/plain": [
              "array([[1, 0],\n",
              "       [1, 0]])"
            ]
          },
          "metadata": {},
          "execution_count": 25
        }
      ]
    },
    {
      "cell_type": "markdown",
      "source": [
        "- boolean expressions can be combined with logical operators"
      ],
      "metadata": {
        "id": "m1HIlpIGvayK"
      }
    },
    {
      "cell_type": "code",
      "source": [
        "cond = (names == 'Bob') | (names == 'Will')\n",
        "data[cond]"
      ],
      "metadata": {
        "id": "sciz0aprvh8u",
        "outputId": "24c8c092-cbe9-4665-9e01-9d193bcac8df",
        "colab": {
          "base_uri": "https://localhost:8080/"
        }
      },
      "execution_count": 26,
      "outputs": [
        {
          "output_type": "execute_result",
          "data": {
            "text/plain": [
              "array([[1, 0, 1, 0],\n",
              "       [0, 0, 1, 1],\n",
              "       [0, 0, 1, 0],\n",
              "       [1, 1, 1, 0]])"
            ]
          },
          "metadata": {},
          "execution_count": 26
        }
      ]
    },
    {
      "cell_type": "markdown",
      "source": [
        ""
      ],
      "metadata": {
        "id": "JlDs4VhEvKKI"
      }
    },
    {
      "cell_type": "markdown",
      "metadata": {
        "id": "9RxU_gS2Tftd"
      },
      "source": [
        "### Array Oriented Programming\n",
        "\n",
        "NumPy supports **vectorization** where data processing is executed as array expressions without **for loops**. Vectorized operations can be 1-2 orders of magnitude faster that pure Python equivalents.\n",
        "\n",
        "Any arithmetic operation between equal-size arrays applies the operation element-wise.\n"
      ]
    },
    {
      "cell_type": "code",
      "source": [
        "array1 = np.array([[1., 2., 3.], [4., 5., 6.]])\n",
        "\n",
        "print(array1)\n",
        "\n",
        "# element-wise addition\n",
        "print()\n",
        "print(array1 + array1)\n",
        "\n",
        "# element-wise multiplication\n",
        "print()\n",
        "print(array1 * array1)"
      ],
      "metadata": {
        "colab": {
          "base_uri": "https://localhost:8080/"
        },
        "id": "HdWTjc8CZI5R",
        "outputId": "2b00db26-a76b-42ae-ee90-893e3c372def"
      },
      "execution_count": 15,
      "outputs": [
        {
          "output_type": "stream",
          "name": "stdout",
          "text": [
            "[[1. 2. 3.]\n",
            " [4. 5. 6.]]\n",
            "\n",
            "[[ 2.  4.  6.]\n",
            " [ 8. 10. 12.]]\n",
            "\n",
            "[[ 1.  4.  9.]\n",
            " [16. 25. 36.]]\n"
          ]
        }
      ]
    },
    {
      "cell_type": "markdown",
      "source": [
        "Comparisons between arrays of the same size yield boolean arrays:"
      ],
      "metadata": {
        "id": "2Oj2sAwmaMXh"
      }
    },
    {
      "cell_type": "code",
      "source": [
        "array2 = np.array([[0., 4., 1.], [7., 2., 12.]])\n",
        "\n",
        "array2 > array1"
      ],
      "metadata": {
        "colab": {
          "base_uri": "https://localhost:8080/"
        },
        "id": "uHr0DxrmaOEZ",
        "outputId": "a05ae14f-bca4-46b1-a1a9-a2f5dd2ab2dc"
      },
      "execution_count": 16,
      "outputs": [
        {
          "output_type": "execute_result",
          "data": {
            "text/plain": [
              "array([[False,  True, False],\n",
              "       [ True, False,  True]])"
            ]
          },
          "metadata": {},
          "execution_count": 16
        }
      ]
    },
    {
      "cell_type": "markdown",
      "metadata": {
        "id": "KQpP6ZU7CWd2"
      },
      "source": [
        "### Universal Functions\n",
        "\n",
        "NumPy provides universal functions the can perform element-wise operations on array data. They are fast vectorized wrappers for simple functions that take a scalar value and produce one or more scalar results.\n",
        "\n",
        "- Unary functions - e.g. sqrt, exp - perform element-wise transformations\n",
        "- Binary functions - e.g. add, maximum - take two arrays and return a single-array as the result\n",
        "- Ufuncs can use an optional ‘out’ parameter to perform in-place transformations\n"
      ]
    },
    {
      "cell_type": "markdown",
      "metadata": {
        "id": "WpjUlspMTpK_"
      },
      "source": [
        "### Conditional Logic\n",
        "\n",
        "- np.where() is a vectorized ternary expression. For example, to take a value from `arr1` whenever the corresponding value in `cond` is True, and otherwise take the value from `arr2`:\n"
      ]
    },
    {
      "cell_type": "code",
      "source": [
        "arr1 = np.ones(5)\n",
        "arr2 = np.zeros(5)\n",
        "cond = np.array([True, False, True, True, False])\n",
        "\n",
        "# 2nd & 3rd parameters can be arrays or scalars\n",
        "result = np.where(cond, arr1, arr2)\n",
        "result"
      ],
      "metadata": {
        "id": "k5pIynI12dmY",
        "outputId": "78a4498d-e9e2-4013-e5b0-72bae9780472",
        "colab": {
          "base_uri": "https://localhost:8080/"
        }
      },
      "execution_count": 31,
      "outputs": [
        {
          "output_type": "execute_result",
          "data": {
            "text/plain": [
              "array([1., 0., 1., 1., 0.])"
            ]
          },
          "metadata": {},
          "execution_count": 31
        }
      ]
    },
    {
      "cell_type": "markdown",
      "metadata": {
        "id": "-bWxpXhOT9eY"
      },
      "source": [
        "### Math & Statistical Methods\n",
        "\n",
        "NumPy can compute statistics for an entire array or the data along a single axis.\n",
        "- Can compute aggregations by invoking the array instance method or the top-level NumPy function\n",
        "- Can specify whether to compute across rows or columns\n",
        "- Can use `sum` to count number of True values in a boolean array \n",
        "\n",
        "Methods:\n",
        "- mean\n",
        "- sum\n",
        "- cumsum "
      ]
    },
    {
      "cell_type": "code",
      "source": [
        "arr = np.random.randint(4, size=(5, 4))\n",
        "\n",
        "# calculate for all values in the array\n",
        "arr.mean()\n",
        "arr.sum()"
      ],
      "metadata": {
        "id": "ImvBT7NX3aY7",
        "outputId": "891ae48c-f77c-416d-8a0f-8683b856d98a",
        "colab": {
          "base_uri": "https://localhost:8080/"
        }
      },
      "execution_count": 44,
      "outputs": [
        {
          "output_type": "execute_result",
          "data": {
            "text/plain": [
              "27"
            ]
          },
          "metadata": {},
          "execution_count": 44
        }
      ]
    },
    {
      "cell_type": "code",
      "source": [
        "# calculate across a single axis\n",
        "arr.mean(axis=1)\n",
        "arr.sum(axis=0)"
      ],
      "metadata": {
        "id": "kxw7AUVm31Ea",
        "outputId": "e6631670-91e0-4bcc-c23a-a0afef68705e",
        "colab": {
          "base_uri": "https://localhost:8080/"
        }
      },
      "execution_count": 35,
      "outputs": [
        {
          "output_type": "execute_result",
          "data": {
            "text/plain": [
              "array([ 6,  7,  5, 11])"
            ]
          },
          "metadata": {},
          "execution_count": 35
        }
      ]
    },
    {
      "cell_type": "code",
      "source": [
        "arr.cumsum()\n",
        "arr.cumsum(axis=0)\n",
        "arr.cumprod(axis=1)"
      ],
      "metadata": {
        "id": "eQeVG3_v4FDI",
        "outputId": "7b3c4117-e6bc-47f6-ed58-c70f731660fb",
        "colab": {
          "base_uri": "https://localhost:8080/"
        }
      },
      "execution_count": 45,
      "outputs": [
        {
          "output_type": "execute_result",
          "data": {
            "text/plain": [
              "array([[ 0,  0,  0,  0],\n",
              "       [ 2,  4,  8, 16],\n",
              "       [ 1,  0,  0,  0],\n",
              "       [ 2,  6, 12, 12],\n",
              "       [ 1,  0,  0,  0]])"
            ]
          },
          "metadata": {},
          "execution_count": 45
        }
      ]
    },
    {
      "cell_type": "markdown",
      "metadata": {
        "id": "vqa582jd8YeE"
      },
      "source": [
        "# Pandas\n",
        "___\n",
        "\n",
        "pandas supports data structures and data manipulation tools designed for fast & easy data cleaning and analysis.\n",
        "\n",
        "pandas adopts array-based computing from NumPy, but is designed for tabular or heterogenous data.\n",
        "\n",
        "pandas has two primary data structures:\n",
        "\n",
        "- **Series** - one-dimensional array-like object with a sequence of values having the same datatype\n",
        "- **DataFrame** - rectangular table of data with ordered collection of columns, each of which can be a different value type"
      ]
    },
    {
      "cell_type": "markdown",
      "metadata": {
        "id": "FbgRhOQ98l2j"
      },
      "source": [
        "### Series\n",
        "\n",
        "Has a sequence of values and an associated array of data labels called its index. Sort of like an ordered dict with mapping of index values to data values.\n",
        "\n",
        "- If not specified otherwise, the index values are sequential integers\n",
        "- Index values can be strings\n",
        "- Index-value link is preserved when the Series is filtered or modified\n",
        "- Series data can be selected by indexing on label \n",
        "- Both the Series and the index have a name attribute\n",
        "\n",
        "A Series can be created directly from a python dict. By default, data will be stored in sorted order of the keys, but you can specify a different order.\n",
        "\n",
        "pandas can automatically determine datatype of values when a Series is created, but datatype can also be specified.\n",
        "\n",
        "A Series index can be altered in-place by assigning new values.\n"
      ]
    },
    {
      "cell_type": "markdown",
      "metadata": {
        "id": "2OZ36l_F8oMJ"
      },
      "source": [
        "### DataFrame\n",
        "\n",
        "A pandas DataFrame is sort of a dict of Series all sharing the same index.\n",
        "\n",
        "- DataFrames have both row and column indices\n",
        "- DataFrames are physically 2D, but can represent higher-dimensional data using hierarchical indexing\n",
        "- DataFrame rows are sometimes referred to as axis=0\n",
        "- DataFrame columns are sometimes referred to as axis=1\n",
        "\n",
        "By default, DataFrame columns are created in sorted order of keys. Order can also be specified.\n",
        "\n",
        "A column can be retrieved as a Series by bracket or dot notation:\n",
        "```\n",
        "frame[‘column’]\n",
        "frame.column\n",
        "```\n",
        "The returned Series will have the same index as the DataFrame and with the name attribute appropriately set.\n",
        "\n",
        "Column data can be assigned new values, either a scalar or array-like values. Lists or arrays assigned to a column must have the same length as the column. \n",
        "\n",
        "A Series can be assigned to a column, with its index aligning to the DataFrame’s index.\n",
        "\n",
        "Syntax for creating a new column is similar to assignment, but only bracket notation works.\n",
        "\n",
        "Columns can be removed with the **del** method.\n",
        "\n",
        "DataFrames can be populated from a variety of array-like structures.\n",
        "\n",
        "Missing values in the sort data will be populated with `null` or `NaN` depending on column data type.\n"
      ]
    },
    {
      "cell_type": "markdown",
      "metadata": {
        "id": "h0sxliY6U9jv"
      },
      "source": [
        "#### Indexes & Slicing\n",
        "\n",
        "Index objects \n",
        "- are immutable and hold axis labels & metadata \n",
        "- behave like sets, but can contain duplicate labels\n",
        "- Can be accessed like so:\n",
        "```\n",
        "\tframe.index\t# returns rows index\n",
        "\tframe.columns\t# returns columns index\n",
        "```\n",
        "- Support a number of set methods and properties\n",
        "\n",
        "DataFrames can be reindexed to rearrange data according to a new index, as long as labels are unique.\n",
        "\n",
        "Reindex can introduce missing values or fill in missing values explicitly.\n",
        "\n",
        "Reindex can alter row index, columns, or both.\n",
        "\n",
        "Entries can be dropped from an axis using index labels. For DataFrames, drop will automatically drop rows unless columns axis is specified.\n",
        "\n",
        "Methods like drop, which modify the size or shape of a Series or DataFrame, return a new object unless you specify inplace=True\n",
        "\n",
        "Index labels can be used for data selection or filtering.\n",
        "\n",
        "Series data can be indexed by label or data value. In either case, this can be a single value or a sequence.\n",
        "\n",
        "Slicing a Series with labels differs from normal Python - the endpoint is inclusive.\n",
        "\n",
        "DataFrames indexing returns one or more columns using column names.\n",
        "\n",
        "DataFrames support row selection with slicing similar to Python, as a convenience, but can also be done with a boolean array.\n",
        "\n",
        "DataFrame rows can also be selected by axis labels (loc) or integers (iloc). \n",
        "\n",
        "Each method takes two parameters - row select and column selection. Parameter values can be scalar, a sequence, or a slice.\n",
        "\n",
        "DataFrames also support selecting a single value at a row & column position.\n"
      ]
    },
    {
      "cell_type": "markdown",
      "metadata": {
        "id": "FFZezBIgVeXk"
      },
      "source": [
        "#### Arithmetic & Data Alignment\n",
        "\n",
        "When pandas objects are added, the resulting index is a union of the source indexes. Where index labels don’t overlap, missing values are inserted.\n",
        "\n",
        "By default, arithmetic between DataFrame and Series matches the index of the Series on the DataFrame’s columns, broadcasting down the rows.\n",
        "\n",
        "  `frame - series`\n",
        "\n",
        "To broadcast over columns instead, matching on the rows, you have to use arithmetic method and specify the axis to match on:\n",
        "\n",
        "  `frame.sub(series, axis='index')`\n",
        "\n",
        "NumPy ufuncs can be applied to pandas objects.\n",
        "\n",
        "Pandas can also **apply()** an array function to each column or row of a DataFrame. The applied function can return a scalar or a Series.\n",
        "\n",
        "By default, apply() is invoked per column, but you can specify `axis=’columns’` instead to invoke for each row.\n",
        "\n",
        "Element-wise functions can be applied with **applymap()**. \n"
      ]
    },
    {
      "cell_type": "markdown",
      "metadata": {
        "id": "NJfyrJJIV33g"
      },
      "source": [
        "#### Sorting & Ranking\n",
        "\n",
        "pandas objects can be sorted by index label using **sort_index()** in ascending or descending order.\n",
        "\n",
        "DataFrames can be sorted by either axis.\n",
        "\n",
        "**sort_values()** has similar syntax, but sorts the object by values instead. Data in one or more columns can be used as sort keys when sorting a DataFrame.\n",
        "\n",
        "**rank()** returns the rank of data points in an array. By default, rank() breaks ties by assigning each item the group mean rank. Rank can also be assigned according the order values are observed in the data.\n",
        "\n",
        "For DataFrames, rank can be computed over the rows or columns.\n"
      ]
    },
    {
      "cell_type": "markdown",
      "metadata": {
        "id": "C59G5jBSWCzg"
      },
      "source": [
        "#### Computing Descriptive Statistics\n",
        "\n",
        "pandas objects support common math & statistical methods, mostly for **reductions** or summary statistics - methods that extract a single value from a Series or a Series of values from the rows or columns of a DataFrame.\n",
        "\n",
        "NA values are excluded by default.\n",
        "\n",
        "**idxmin()** and **idxmax()** return the index value where minimum or maximum values are found.\n",
        "\n",
        "**describe()** returns multiple summary statistics in one  pass.\n"
      ]
    }
  ]
}
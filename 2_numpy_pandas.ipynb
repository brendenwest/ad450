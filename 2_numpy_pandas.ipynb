{
  "nbformat": 4,
  "nbformat_minor": 0,
  "metadata": {
    "colab": {
      "name": "2_numpy_pandas.ipynb",
      "provenance": [],
      "authorship_tag": "ABX9TyOese5iC8UzsnlLIBohPMEy",
      "include_colab_link": true
    },
    "kernelspec": {
      "name": "python3",
      "display_name": "Python 3"
    }
  },
  "cells": [
    {
      "cell_type": "markdown",
      "metadata": {
        "id": "view-in-github",
        "colab_type": "text"
      },
      "source": [
        "<a href=\"https://colab.research.google.com/github/brendenwest/ad450/blob/master/2_numpy_pandas.ipynb\" target=\"_parent\"><img src=\"https://colab.research.google.com/assets/colab-badge.svg\" alt=\"Open In Colab\"/></a>"
      ]
    },
    {
      "cell_type": "markdown",
      "metadata": {
        "id": "pUtbU2L57yEe",
        "colab_type": "text"
      },
      "source": [
        "# NumPy & Pandas\n",
        "___\n",
        "\n",
        "### Reading\n",
        "\n",
        "- McKinney, Chapters 4 - 5\n",
        "- Molin - Introduction to Data Analysis\n",
        "- Molin - Working with Pandas DataFrames\n",
        "- https://blog.growingdata.com.au/a-guided-introduction-to-exploratory-data-analysis-eda-using-python/\n",
        "\n",
        "### Practice\n",
        "- https://www.datacamp.com/community/tutorials/python-numpy-tutorial\n",
        "- https://www.datacamp.com/community/tutorials/pandas-tutorial-dataframe-python\n",
        "- https://github.com/guipsamora/pandas_exercises \n",
        "\n",
        "### Learning Outcomes\n",
        "\n",
        "- NumPy multi-dimensional array objects\n",
        "- Array arithmetic and indexing\n",
        "- Vectorized array operations\n",
        "- Conditional logic as array operations\n",
        "- Group-wise data manipulation\n",
        "- Pandas data structures - Series and DataFrame\n",
        "- Data selecting & filtering\n",
        "- Computing descriptive statistics\n"
      ]
    },
    {
      "cell_type": "markdown",
      "metadata": {
        "id": "0CEWh8h_v3IF",
        "colab_type": "text"
      },
      "source": [
        "# NumPy\n",
        "\n",
        "---\n",
        "\n",
        "NumPy is a foundational package for numerical computing in Python.\n",
        "\n",
        "*   NumPy provides `ndarray`, an efficient multi-dimensional array supporting fast array-oriented arithmetic operations.\n",
        "*   Can perform math operations on entire arrays without using for loops\n",
        "*   Can perform common array operations like sorting, unique, & set \n",
        "*   Linear Algebra, random number generation and Fourier transform capabilities\n",
        "*   C api for connecting with C, C++, & FORTRAN libraries\n",
        "*   Can map data directly onto underlying disk or memory representation\n"
      ]
    },
    {
      "cell_type": "markdown",
      "metadata": {
        "id": "VOeGstZzwvWu",
        "colab_type": "text"
      },
      "source": [
        "### Efficiency\n",
        "- NumPy stores data in contiguous memory blocks\n",
        "- NumPy stores data with single type so operations don’t require type checking\n",
        "- Performs complex computations on entire arrays without the need for loops\n",
        "- Operations don’t copy arrays by default\n"
      ]
    },
    {
      "cell_type": "code",
      "metadata": {
        "id": "cg-wxC0Jx4-e",
        "colab_type": "code",
        "colab": {}
      },
      "source": [
        "import numpy as np"
      ],
      "execution_count": 0,
      "outputs": []
    },
    {
      "cell_type": "markdown",
      "metadata": {
        "id": "ZJfOmTLLxQD1",
        "colab_type": "text"
      },
      "source": [
        "### ndarray\n",
        "NumPy provides the `ndarray` a multi-dimensional array structure optimized for fast numeric operatons.\n",
        "\n",
        "ndarrays are constructed from sequences of homogenous values.\n",
        "\n",
        "ndarray has built-in functions to create special arrays - e.g. zeroes, ones, empty, arange"
      ]
    },
    {
      "cell_type": "code",
      "metadata": {
        "id": "AVByQUYKxtNG",
        "colab_type": "code",
        "outputId": "ec211d8c-1d48-448a-c915-7146233bb842",
        "colab": {
          "base_uri": "https://localhost:8080/",
          "height": 68
        }
      },
      "source": [
        "arr1 = np.array([[1, 2, 3, 4], [5, 6, 7, 8]])\n",
        "arr1  # print ndarray\n",
        "\n",
        "print(\"dimensions:\",arr1.ndim)  # ndarrays have dimensions\n",
        "print(\"shape:\\t\",arr1.shape)    # ndarrays have shape (numer of rows & columns)\n",
        "print(\"datatype\",arr1.dtype)    # numpy determines the datatype"
      ],
      "execution_count": 0,
      "outputs": [
        {
          "output_type": "stream",
          "text": [
            "dimensions: 2\n",
            "shape:\t (2, 4)\n",
            "datatype int64\n"
          ],
          "name": "stdout"
        }
      ]
    },
    {
      "cell_type": "markdown",
      "metadata": {
        "id": "B8yyNtKpzcBz",
        "colab_type": "text"
      },
      "source": [
        "### Vectorized array operations\n",
        "\n",
        "NumPy is designed & optimized for batch operations on array data without `for` loops\n",
        "\n",
        "- Arithmetic operations between equal-size arrays apply the operation element-wise - multiplication, addition, subtraction, division\n",
        "- Scalar operations propagate the scalar argument to each element in the array\n",
        "- Comparisons between equal size arrays yield boolean arrays"
      ]
    },
    {
      "cell_type": "markdown",
      "metadata": {
        "id": "vWpCRjv90Gna",
        "colab_type": "text"
      },
      "source": [
        "### Indexing & Slicing\n",
        "\n",
        "NumPy supports data access with Python-like indexing & slicing\n",
        "\n",
        "- One-dimensional ndarrays act similar to Python lists\n",
        "- `ndarray` dimensions are sometimes referred to as axes - e.g. in a 2d array axis 0 is the ‘rows’ and axis 1 is the ‘columns’\n",
        "- ndarray slices are **views** on the original array and not copied. Any changes to the view are reflected in the source array\n"
      ]
    },
    {
      "cell_type": "code",
      "metadata": {
        "id": "NSMJt_4x0qan",
        "colab_type": "code",
        "outputId": "9477a57d-e5d5-451a-be67-1cf6864ec182",
        "colab": {
          "base_uri": "https://localhost:8080/",
          "height": 51
        }
      },
      "source": [
        "arr1d = np.array([1, 2, 3, 4, 5, 6, 7, 8])\n",
        "\n",
        "arr1d[5:8]  # select data based on index position\n",
        "\n",
        "# Scalar values can be propagated (aka broadcast) to each element in a slice\n",
        "arr1d[5:8] = 12\n",
        "print(arr1d)\n",
        "\n",
        "# array subsets must be copied explicitly\n",
        "\n",
        "new_array = arr1d[5:8].copy()\n",
        "print(new_array)\n"
      ],
      "execution_count": 0,
      "outputs": [
        {
          "output_type": "stream",
          "text": [
            "[ 1  2  3  4  5 12 12 12]\n",
            "[12 12 12]\n"
          ],
          "name": "stdout"
        }
      ]
    },
    {
      "cell_type": "code",
      "metadata": {
        "id": "kvMvyar216T5",
        "colab_type": "code",
        "outputId": "17f9ec27-4264-48f8-f4b0-240d76351a3b",
        "colab": {
          "base_uri": "https://localhost:8080/",
          "height": 34
        }
      },
      "source": [
        "arr2d = np.array([[1, 2, 3, 4], [5, 6, 7, 8]])\n",
        "\n",
        "# elements in mult-dimensional arrays can be accessed with either syntax:\n",
        "\n",
        "arr2d[0][2]\n",
        "arr2d[0, 2]\n",
        "\n",
        "# in mult-dimensional arrays, slicing that omits later indices will return a lower-dimensional ndarray\n",
        "\n",
        "# Subarrays can be accessed with slices in place of indices:\n",
        "\n",
        "arr2d[:2, 1:] # select first two rows and all but first column\n",
        "arr2d[:2, 2]  # select first two rows and just 3rd column\n"
      ],
      "execution_count": 0,
      "outputs": [
        {
          "output_type": "execute_result",
          "data": {
            "text/plain": [
              "array([3, 7])"
            ]
          },
          "metadata": {
            "tags": []
          },
          "execution_count": 24
        }
      ]
    },
    {
      "cell_type": "markdown",
      "metadata": {
        "id": "Re_QgX6E9Cw5",
        "colab_type": "text"
      },
      "source": [
        "### Boolean Indexing\n",
        "\n",
        "NumPy supports boolean expressions in place of indices, where the expression results in an array of boolean values with the same length as the axis it’s indexing"
      ]
    },
    {
      "cell_type": "code",
      "metadata": {
        "id": "IMEp_RGh_Fu5",
        "colab_type": "code",
        "outputId": "b8690645-2445-44ea-c189-03d656a07d54",
        "colab": {
          "base_uri": "https://localhost:8080/",
          "height": 51
        }
      },
      "source": [
        "import numpy as np\n",
        "names = np.array(['Bob', 'Joe', 'Will', 'Bob', 'Will', 'Joe', 'Joe'])\n",
        "data = np.random.randn(7, 4) # create an array of random values\n",
        "data[names == 'Bob'] # returns rows from ‘data’ whose index matches 'True' values in boolean array va"
      ],
      "execution_count": 0,
      "outputs": [
        {
          "output_type": "execute_result",
          "data": {
            "text/plain": [
              "array([[-0.0113059 , -0.60401834, -0.69463262,  0.18446081],\n",
              "       [ 0.94473667,  0.11833578,  0.52714475,  0.02470312]])"
            ]
          },
          "metadata": {
            "tags": []
          },
          "execution_count": 5
        }
      ]
    },
    {
      "cell_type": "markdown",
      "metadata": {
        "id": "_LzuydATAsWZ",
        "colab_type": "text"
      },
      "source": [
        "- the expression can be assigned to a variable\n",
        "\n",
        "```\n",
        "  cond = names == 'Bob'`\n",
        "  data[cond]\n",
        "```\n",
        "- The expression can be negated\n",
        "\n",
        "```\n",
        "  cond = names == 'Bob'`\n",
        "  data[~cond]\n",
        "```\n",
        "- the expression can be combined with other indices\n",
        "\n",
        "```\n",
        "  cond = names == 'Bob'`\n",
        "  data[cond, 2:]\n",
        "```\n",
        "- Boolean expressions can be combined using & (and) and | (or)\n",
        "\n",
        "```\n",
        "    cond = (names == 'Bob') | (names == 'Will')\n",
        "```"
      ]
    },
    {
      "cell_type": "markdown",
      "metadata": {
        "id": "KQpP6ZU7CWd2",
        "colab_type": "text"
      },
      "source": [
        "### Universal Functions\n",
        "\n",
        "NumPy provides universal functions the can perform element-wise operations on array data. They are fast vectorized wrappers for simple functions that take a scalar value and produce one or more scalar results.\n",
        "\n",
        "- Unary functions - e.g. sqrt, exp - perform element-wise transformations\n",
        "- Binary functions - e.g. add, maximum - take two arrays and return a single-array as the result\n",
        "- Ufuncs can use an optional ‘out’ parameter to perform in-place transformations\n"
      ]
    },
    {
      "cell_type": "markdown",
      "metadata": {
        "id": "vqa582jd8YeE",
        "colab_type": "text"
      },
      "source": [
        "# Pandas\n",
        "___\n",
        "\n",
        "pandas supportsd data structures and data manipulation tools designed for fast & easy data cleaning and analysis.\n",
        "\n",
        "pandas adopts array-based computing from NumPy, but is designed for tabular or heterogenous data."
      ]
    },
    {
      "cell_type": "markdown",
      "metadata": {
        "id": "FbgRhOQ98l2j",
        "colab_type": "text"
      },
      "source": [
        "### Series"
      ]
    },
    {
      "cell_type": "markdown",
      "metadata": {
        "id": "2OZ36l_F8oMJ",
        "colab_type": "text"
      },
      "source": [
        "### DataFrame"
      ]
    }
  ]
}
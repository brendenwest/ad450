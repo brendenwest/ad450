{
  "nbformat": 4,
  "nbformat_minor": 0,
  "metadata": {
    "colab": {
      "name": "2_numpy_pandas.ipynb",
      "provenance": [],
      "collapsed_sections": [
        "Re_QgX6E9Cw5"
      ],
      "authorship_tag": "ABX9TyPMjPiyJbsdVZLGOliVLlNr",
      "include_colab_link": true
    },
    "kernelspec": {
      "name": "python3",
      "display_name": "Python 3"
    }
  },
  "cells": [
    {
      "cell_type": "markdown",
      "metadata": {
        "id": "view-in-github",
        "colab_type": "text"
      },
      "source": [
        "<a href=\"https://colab.research.google.com/github/brendenwest/ad450/blob/master/2_numpy_pandas.ipynb\" target=\"_parent\"><img src=\"https://colab.research.google.com/assets/colab-badge.svg\" alt=\"Open In Colab\"/></a>"
      ]
    },
    {
      "cell_type": "markdown",
      "metadata": {
        "id": "pUtbU2L57yEe",
        "colab_type": "text"
      },
      "source": [
        "# NumPy & Pandas\n",
        "___\n",
        "\n",
        "### Reading\n",
        "\n",
        "- McKinney, Chapters 4 - 5\n",
        "- Molin - Introduction to Data Analysis\n",
        "- Molin - Working with Pandas DataFrames\n",
        "- https://blog.growingdata.com.au/a-guided-introduction-to-exploratory-data-analysis-eda-using-python/\n",
        "\n",
        "### Practice\n",
        "- https://www.datacamp.com/community/tutorials/python-numpy-tutorial\n",
        "- https://www.datacamp.com/community/tutorials/pandas-tutorial-dataframe-python\n",
        "- https://github.com/guipsamora/pandas_exercises \n",
        "\n",
        "### Learning Outcomes\n",
        "\n",
        "- NumPy multi-dimensional array objects\n",
        "- Array arithmetic and indexing\n",
        "- Vectorized array operations\n",
        "- Conditional logic as array operations\n",
        "- Group-wise data manipulation\n",
        "- Pandas data structures - Series and DataFrame\n",
        "- Data selecting & filtering\n",
        "- Computing descriptive statistics\n"
      ]
    },
    {
      "cell_type": "markdown",
      "metadata": {
        "id": "0CEWh8h_v3IF",
        "colab_type": "text"
      },
      "source": [
        "# NumPy\n",
        "\n",
        "---\n",
        "\n",
        "NumPy is a foundational package for numerical computing in Python.\n",
        "\n",
        "*   NumPy provides `ndarray`, an efficient multi-dimensional array supporting fast array-oriented arithmetic operations.\n",
        "*   Can perform math operations on entire arrays without using for loops\n",
        "*   Can perform common array operations like sorting, unique, & set \n",
        "*   Linear Algebra, random number generation and Fourier transform capabilities\n",
        "*   C api for connecting with C, C++, & FORTRAN libraries\n",
        "*   Can map data directly onto underlying disk or memory representation\n"
      ]
    },
    {
      "cell_type": "markdown",
      "metadata": {
        "id": "VOeGstZzwvWu",
        "colab_type": "text"
      },
      "source": [
        "### Efficiency\n",
        "- NumPy stores data in contiguous memory blocks\n",
        "- NumPy stores data with single type so operations don’t require type checking\n",
        "- Performs complex computations on entire arrays without the need for loops\n",
        "- Operations don’t copy arrays by default\n"
      ]
    },
    {
      "cell_type": "code",
      "metadata": {
        "id": "cg-wxC0Jx4-e",
        "colab_type": "code",
        "colab": {}
      },
      "source": [
        "import numpy as np"
      ],
      "execution_count": 0,
      "outputs": []
    },
    {
      "cell_type": "markdown",
      "metadata": {
        "id": "ZJfOmTLLxQD1",
        "colab_type": "text"
      },
      "source": [
        "### ndarray\n",
        "NumPy provides the `ndarray` a multi-dimensional array structure optimized for fast numeric operatons.\n",
        "\n",
        "ndarrays are constructed from sequences of homogenous values.\n",
        "\n",
        "ndarray has built-in functions to create special arrays - e.g. zeroes, ones, empty, arange"
      ]
    },
    {
      "cell_type": "code",
      "metadata": {
        "id": "AVByQUYKxtNG",
        "colab_type": "code",
        "outputId": "ec211d8c-1d48-448a-c915-7146233bb842",
        "colab": {
          "base_uri": "https://localhost:8080/",
          "height": 68
        }
      },
      "source": [
        "arr1 = np.array([[1, 2, 3, 4], [5, 6, 7, 8]])\n",
        "arr1  # print ndarray\n",
        "\n",
        "print(\"dimensions:\",arr1.ndim)  # ndarrays have dimensions\n",
        "print(\"shape:\\t\",arr1.shape)    # ndarrays have shape (numer of rows & columns)\n",
        "print(\"datatype\",arr1.dtype)    # numpy determines the datatype"
      ],
      "execution_count": 0,
      "outputs": [
        {
          "output_type": "stream",
          "text": [
            "dimensions: 2\n",
            "shape:\t (2, 4)\n",
            "datatype int64\n"
          ],
          "name": "stdout"
        }
      ]
    },
    {
      "cell_type": "markdown",
      "metadata": {
        "id": "B8yyNtKpzcBz",
        "colab_type": "text"
      },
      "source": [
        "### Vectorized array operations\n",
        "\n",
        "NumPy is designed & optimized for batch operations on array data without `for` loops\n",
        "\n",
        "- Arithmetic operations between equal-size arrays apply the operation element-wise - multiplication, addition, subtraction, division\n",
        "- Scalar operations propagate the scalar argument to each element in the array\n",
        "- Comparisons between equal size arrays yield boolean arrays"
      ]
    },
    {
      "cell_type": "markdown",
      "metadata": {
        "id": "vWpCRjv90Gna",
        "colab_type": "text"
      },
      "source": [
        "### Indexing & Slicing\n",
        "\n",
        "NumPy supports data access with Python-like indexing & slicing\n",
        "\n",
        "- One-dimensional ndarrays act similar to Python lists\n",
        "- `ndarray` dimensions are sometimes referred to as axes - e.g. in a 2d array axis 0 is the ‘rows’ and axis 1 is the ‘columns’\n",
        "- ndarray slices are **views** on the original array and not copied. Any changes to the view are reflected in the source array\n"
      ]
    },
    {
      "cell_type": "code",
      "metadata": {
        "id": "NSMJt_4x0qan",
        "colab_type": "code",
        "outputId": "9477a57d-e5d5-451a-be67-1cf6864ec182",
        "colab": {
          "base_uri": "https://localhost:8080/",
          "height": 51
        }
      },
      "source": [
        "arr1d = np.array([1, 2, 3, 4, 5, 6, 7, 8])\n",
        "\n",
        "arr1d[5:8]  # select data based on index position\n",
        "\n",
        "# Scalar values can be propagated (aka broadcast) to each element in a slice\n",
        "arr1d[5:8] = 12\n",
        "print(arr1d)\n",
        "\n",
        "# array subsets must be copied explicitly\n",
        "\n",
        "new_array = arr1d[5:8].copy()\n",
        "print(new_array)\n"
      ],
      "execution_count": 0,
      "outputs": [
        {
          "output_type": "stream",
          "text": [
            "[ 1  2  3  4  5 12 12 12]\n",
            "[12 12 12]\n"
          ],
          "name": "stdout"
        }
      ]
    },
    {
      "cell_type": "code",
      "metadata": {
        "id": "kvMvyar216T5",
        "colab_type": "code",
        "outputId": "17f9ec27-4264-48f8-f4b0-240d76351a3b",
        "colab": {
          "base_uri": "https://localhost:8080/",
          "height": 34
        }
      },
      "source": [
        "arr2d = np.array([[1, 2, 3, 4], [5, 6, 7, 8]])\n",
        "\n",
        "# elements in mult-dimensional arrays can be accessed with either syntax:\n",
        "\n",
        "arr2d[0][2]\n",
        "arr2d[0, 2]\n",
        "\n",
        "# in mult-dimensional arrays, slicing that omits later indices will return a lower-dimensional ndarray\n",
        "\n",
        "# Subarrays can be accessed with slices in place of indices:\n",
        "\n",
        "arr2d[:2, 1:] # select first two rows and all but first column\n",
        "arr2d[:2, 2]  # select first two rows and just 3rd column\n"
      ],
      "execution_count": 0,
      "outputs": [
        {
          "output_type": "execute_result",
          "data": {
            "text/plain": [
              "array([3, 7])"
            ]
          },
          "metadata": {
            "tags": []
          },
          "execution_count": 24
        }
      ]
    },
    {
      "cell_type": "markdown",
      "metadata": {
        "id": "Re_QgX6E9Cw5",
        "colab_type": "text"
      },
      "source": [
        "### Boolean Indexing\n",
        "\n",
        "NumPy supports boolean expressions in place of indices, where the expression results in an array of boolean values with the same length as the axis it’s indexing"
      ]
    },
    {
      "cell_type": "code",
      "metadata": {
        "id": "IMEp_RGh_Fu5",
        "colab_type": "code",
        "outputId": "b8690645-2445-44ea-c189-03d656a07d54",
        "colab": {
          "base_uri": "https://localhost:8080/",
          "height": 51
        }
      },
      "source": [
        "import numpy as np\n",
        "names = np.array(['Bob', 'Joe', 'Will', 'Bob', 'Will', 'Joe', 'Joe'])\n",
        "data = np.random.randn(7, 4) # create an array of random values\n",
        "data[names == 'Bob'] # returns rows from ‘data’ whose index matches 'True' values in boolean array va"
      ],
      "execution_count": 0,
      "outputs": [
        {
          "output_type": "execute_result",
          "data": {
            "text/plain": [
              "array([[-0.0113059 , -0.60401834, -0.69463262,  0.18446081],\n",
              "       [ 0.94473667,  0.11833578,  0.52714475,  0.02470312]])"
            ]
          },
          "metadata": {
            "tags": []
          },
          "execution_count": 5
        }
      ]
    },
    {
      "cell_type": "markdown",
      "metadata": {
        "id": "_LzuydATAsWZ",
        "colab_type": "text"
      },
      "source": [
        "- the expression can be assigned to a variable\n",
        "\n",
        "```\n",
        "  cond = names == 'Bob'`\n",
        "  data[cond]\n",
        "```\n",
        "- The expression can be negated\n",
        "\n",
        "```\n",
        "  cond = names == 'Bob'`\n",
        "  data[~cond]\n",
        "```\n",
        "- the expression can be combined with other indices\n",
        "\n",
        "```\n",
        "  cond = names == 'Bob'`\n",
        "  data[cond, 2:]\n",
        "```\n",
        "- Boolean expressions can be combined using & (and) and | (or)\n",
        "\n",
        "```\n",
        "    cond = (names == 'Bob') | (names == 'Will')\n",
        "```"
      ]
    },
    {
      "cell_type": "markdown",
      "metadata": {
        "id": "KQpP6ZU7CWd2",
        "colab_type": "text"
      },
      "source": [
        "### Universal Functions\n",
        "\n",
        "NumPy provides universal functions the can perform element-wise operations on array data. They are fast vectorized wrappers for simple functions that take a scalar value and produce one or more scalar results.\n",
        "\n",
        "- Unary functions - e.g. sqrt, exp - perform element-wise transformations\n",
        "- Binary functions - e.g. add, maximum - take two arrays and return a single-array as the result\n",
        "- Ufuncs can use an optional ‘out’ parameter to perform in-place transformations\n"
      ]
    },
    {
      "cell_type": "markdown",
      "metadata": {
        "id": "9RxU_gS2Tftd",
        "colab_type": "text"
      },
      "source": [
        "### Array Oriented Programming\n",
        "\n",
        "NumPy supports ‘vectorization’ where data processing is executed as array expressions without for loops. Vectorized operations can be 1-2 orders of magnitude faster that pure Python equivalents.\n"
      ]
    },
    {
      "cell_type": "markdown",
      "metadata": {
        "id": "WpjUlspMTpK_",
        "colab_type": "text"
      },
      "source": [
        "### Conditional Logic\n",
        "\n",
        "- np.where() is a vectorized ternary expression. For example, to take a value from `arr1` whenever the corresponding value in `cond` is True, and otherwise take the value from `arr2`:\n",
        "\n",
        "`result = np.where(cond, arr1, arr2)`\n",
        "\n",
        "- 2nd & 3rd parameters can be arrays or scalars\n"
      ]
    },
    {
      "cell_type": "markdown",
      "metadata": {
        "id": "-bWxpXhOT9eY",
        "colab_type": "text"
      },
      "source": [
        "### Math & Statistical Methods\n",
        "\n",
        "NumPy can compute statistics for an entire array or the data along a single axis.\n",
        "- Can compute aggregations by invoking the array instance method or the top-level NumPy function\n",
        "- Can specify whether to compute across rows or columns\n",
        "- Can use `sum` to count number of True values in a boolean array "
      ]
    },
    {
      "cell_type": "markdown",
      "metadata": {
        "id": "vqa582jd8YeE",
        "colab_type": "text"
      },
      "source": [
        "# Pandas\n",
        "___\n",
        "\n",
        "pandas supports data structures and data manipulation tools designed for fast & easy data cleaning and analysis.\n",
        "\n",
        "pandas adopts array-based computing from NumPy, but is designed for tabular or heterogenous data.\n",
        "\n",
        "pandas has two primary data structures:\n",
        "\n",
        "- **Series** - one-dimensional array-like object with a sequence of values having the same datatype\n",
        "- **DataFrame** - rectangular table of data with ordered collection of columns, each of which can be a different value type"
      ]
    },
    {
      "cell_type": "markdown",
      "metadata": {
        "id": "FbgRhOQ98l2j",
        "colab_type": "text"
      },
      "source": [
        "### Series\n",
        "\n",
        "Has a sequence of values and an associated array of data labels called its index. Sort of like an ordered dict with mapping of index values to data values.\n",
        "\n",
        "- If not specified otherwise, the index values are sequential integers\n",
        "- Index values can be strings\n",
        "- Index-value link is preserved when the Series is filtered or modified\n",
        "- Series data can be selected by indexing on label \n",
        "- Both the Series and the index have a name attribute\n",
        "\n",
        "A Series can be created directly from a python dict. By default, data will be stored in sorted order of the keys, but you can specify a different order.\n",
        "\n",
        "pandas can automatically determine datatype of values when a Series is created, but datatype can also be specified.\n",
        "\n",
        "A Series index can be altered in-place by assigning new values.\n"
      ]
    },
    {
      "cell_type": "markdown",
      "metadata": {
        "id": "2OZ36l_F8oMJ",
        "colab_type": "text"
      },
      "source": [
        "### DataFrame\n",
        "\n",
        "A pandas DataFrame is sort of a dict of Series all sharing the same index.\n",
        "\n",
        "- DataFrames have both row and column indices\n",
        "- DataFrames are physically 2D, but can represent higher-dimensional data using hierarchical indexing\n",
        "- DataFrame rows are sometimes referred to as axis=0\n",
        "- DataFrame columns are sometimes referred to as axis=1\n",
        "\n",
        "By default, DataFrame columns are created in sorted order of keys. Order can also be specified.\n",
        "\n",
        "A column can be retrieved as a Series by bracket or dot notation:\n",
        "```\n",
        "frame[‘column’]\n",
        "frame.column\n",
        "```\n",
        "The returned Series will have the same index as the DataFrame and with the name attribute appropriately set.\n",
        "\n",
        "Column data can be assigned new values, either a scalar or array-like values. Lists or arrays assigned to a column must have the same length as the column. \n",
        "\n",
        "A Series can be assigned to a column, with its index aligning to the DataFrame’s index.\n",
        "\n",
        "Syntax for creating a new column is similar to assignment, but only bracket notation works.\n",
        "\n",
        "Columns can be removed with the **del** method.\n",
        "\n",
        "DataFrames can be populated from a variety of array-like structures.\n",
        "\n",
        "Missing values in the sort data will be populated with `null` or `NaN` depending on column data type.\n"
      ]
    },
    {
      "cell_type": "markdown",
      "metadata": {
        "id": "h0sxliY6U9jv",
        "colab_type": "text"
      },
      "source": [
        "#### Indexes & Slicing\n",
        "\n",
        "Index objects \n",
        "- are immutable and hold axis labels & metadata \n",
        "- behave like sets, but can contain duplicate labels\n",
        "- Can be accessed like so:\n",
        "```\n",
        "\tframe.index\t# returns rows index\n",
        "\tframe.columns\t# returns columns index\n",
        "```\n",
        "- Support a number of set methods and properties\n",
        "\n",
        "DataFrames can be reindexed to rearrange data according to a new index, as long as labels are unique.\n",
        "\n",
        "Reindex can introduce missing values or fill in missing values explicitly.\n",
        "\n",
        "Reindex can alter row index, columns, or both.\n",
        "\n",
        "Entries can be dropped from an axis using index labels. For DataFrames, drop will automatically drop rows unless columns axis is specified.\n",
        "\n",
        "Methods like drop, which modify the size or shape of a Series or DataFrame, return a new object unless you specify inplace=True\n",
        "\n",
        "Index labels can be used for data selection or filtering.\n",
        "\n",
        "Series data can be indexed by label or data value. In either case, this can be a single value or a sequence.\n",
        "\n",
        "Slicing a Series with labels differs from normal Python - the endpoint is inclusive.\n",
        "\n",
        "DataFrames indexing returns one or more columns using column names.\n",
        "\n",
        "DataFrames support row selection with slicing similar to Python, as a convenience, but can also be done with a boolean array.\n",
        "\n",
        "DataFrame rows can also be selected by axis labels (loc) or integers (iloc). \n",
        "\n",
        "Each method takes two parameters - row select and column selection. Parameter values can be scalar, a sequence, or a slice.\n",
        "\n",
        "DataFrames also support selecting a single value at a row & column position.\n"
      ]
    },
    {
      "cell_type": "markdown",
      "metadata": {
        "id": "FFZezBIgVeXk",
        "colab_type": "text"
      },
      "source": [
        "#### Arithmetic & Data Alignment\n",
        "\n",
        "When pandas objects are added, the resulting index is a union of the source indexes. Where index labels don’t overlap, missing values are inserted.\n",
        "\n",
        "By default, arithmetic between DataFrame and Series matches the index of the Series on the DataFrame’s columns, broadcasting down the rows.\n",
        "\n",
        "  `frame - series`\n",
        "\n",
        "To broadcast over columns instead, matching on the rows, you have to use arithmetic method and specify the axis to match on:\n",
        "\n",
        "  `frame.sub(series, axis='index')`\n",
        "\n",
        "NumPy ufuncs can be applied to pandas objects.\n",
        "\n",
        "Pandas can also **apply()** an array function to each column or row of a DataFrame. The applied function can return a scalar or a Series.\n",
        "\n",
        "By default, apply() is invoked per column, but you can specify `axis=’columns’` instead to invoke for each row.\n",
        "\n",
        "Element-wise functions can be applied with **applymap()**. \n"
      ]
    },
    {
      "cell_type": "markdown",
      "metadata": {
        "id": "NJfyrJJIV33g",
        "colab_type": "text"
      },
      "source": [
        "#### Sorting & Ranking\n",
        "\n",
        "pandas objects can be sorted by index label using **sort_index()** in ascending or descending order.\n",
        "\n",
        "DataFrames can be sorted by either axis.\n",
        "\n",
        "**sort_values()** has similar syntax, but sorts the object by values instead. Data in one or more columns can be used as sort keys when sorting a DataFrame.\n",
        "\n",
        "**rank()** returns the rank of data points in an array. By default, rank() breaks ties by assigning each item the group mean rank. Rank can also be assigned according the order values are observed in the data.\n",
        "\n",
        "For DataFrames, rank can be computed over the rows or columns.\n"
      ]
    },
    {
      "cell_type": "markdown",
      "metadata": {
        "id": "C59G5jBSWCzg",
        "colab_type": "text"
      },
      "source": [
        "#### Computing Descriptive Statistics\n",
        "\n",
        "pandas objects support common math & statistical methods, mostly for **reductions** or summary statistics - methods that extract a single value from a Series or a Series of values from the rows or columns of a DataFrame.\n",
        "\n",
        "NA values are excluded by default.\n",
        "\n",
        "**idxmin()** and **idxmax()** return the index value where minimum or maximum values are found.\n",
        "\n",
        "**describe()** returns multiple summary statistics in one  pass.\n"
      ]
    }
  ]
}
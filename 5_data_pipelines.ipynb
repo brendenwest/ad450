{
  "nbformat": 4,
  "nbformat_minor": 0,
  "metadata": {
    "colab": {
      "name": "5_data_pipelines.ipynb",
      "provenance": [],
      "collapsed_sections": [
        "wpvU9pK1t7n7",
        "J4mwmBwdyCv4"
      ],
      "toc_visible": true,
      "authorship_tag": "ABX9TyN70+TPuiX8OuNJKr58viTV",
      "include_colab_link": true
    },
    "kernelspec": {
      "name": "python3",
      "display_name": "Python 3"
    },
    "language_info": {
      "name": "python"
    }
  },
  "cells": [
    {
      "cell_type": "markdown",
      "metadata": {
        "id": "view-in-github",
        "colab_type": "text"
      },
      "source": [
        "<a href=\"https://colab.research.google.com/github/brendenwest/ad450/blob/master/5_data_pipelines.ipynb\" target=\"_parent\"><img src=\"https://colab.research.google.com/assets/colab-badge.svg\" alt=\"Open In Colab\"/></a>"
      ]
    },
    {
      "cell_type": "markdown",
      "source": [
        "# Data Pipelines\n",
        "\n",
        "### Reading\n",
        "- https://hazelcast.com/glossary/data-pipeline/\n",
        "- https://spark.apache.org/docs/latest/api/python/getting_started/index.html\n",
        "- https://sparkbyexamples.com/pyspark-tutorial/#rdd\n",
        "- https://spark.apache.org/docs/latest/streaming-programming-guide.html \n",
        "- https://airflow.apache.org/docs/apache-airflow/stable/tutorial.html \n",
        "\n",
        "### Watch\n",
        "- https://aws.amazon.com/sagemaker/data-wrangler/\n",
        "\n",
        "### Learning Outcomes\n",
        "\n",
        "- data pipelines defined\n",
        "- batch -v- streaming pipelines\n",
        "- distributed processing with PySpark\n",
        "- Workflow management with Airflow & Sagemaker"
      ],
      "metadata": {
        "id": "_bvfnGWRsi3t"
      }
    },
    {
      "cell_type": "markdown",
      "source": [
        "# What are Data Pipelines?\n",
        "\n",
        "A **data pipeline** is a series of data processing steps, where the output of each step is an input to the next step. \n",
        "\n",
        "ETL is a specific type of data pipelines that:\n",
        "\n",
        "- **extracts** data from a source (e.g. database, data lake, 3rd party api, etc.)\n",
        "- **transforms** the data for specific purpopses (e.g. analytics system)\n",
        "- **loads** the data into a target destination (e.g. database). \n",
        "\n",
        "**Data science** pipelines may extract data from a source optimized for business purposes (e.g. accounting system), transform the data for analytics purposes, and load the data into a reporting system (e.g. dashboards)\n",
        "\n",
        "It's common to develop an initial pipeline at small scale, perhaps using a Jupyter notebook, before **operationalizing** the pipeline in a **production** environment at full scale.\n",
        "\n",
        "Data pipelines can be constructed from a wide variety of sources & technologies. Python-based tools are widely used for analytics and data science pipelines.\n"
      ],
      "metadata": {
        "id": "Mn8ss21V8fBX"
      }
    },
    {
      "cell_type": "markdown",
      "source": [
        "![image.png](data:image/png;base64,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)"
      ],
      "metadata": {
        "id": "2jz8nL9n_jbd"
      }
    },
    {
      "cell_type": "markdown",
      "source": [
        "## Batch -v- Streaming\n",
        "\n",
        "A **batch-based** data pipeline performs data operations at specific times (usually scheduled).\n",
        "\n",
        "A **streaming** data pipeline performs data operations continuously as new source data is generated through **events**. Stream processing enables **real-time** analytics (e.g. fraud & anomoly detection). \n"
      ],
      "metadata": {
        "id": "MY7YHRF8_qCl"
      }
    },
    {
      "cell_type": "markdown",
      "source": [
        "\n",
        "# What is PySpark?\n",
        "\n",
        "Apache Spark is an open-source (Java-based) engine for performing large-scale, distributed (parallelized) data-processing & machine learning operations.\n",
        "\n",
        "PySpark is a Spark library written in Python and compatible with Pandas. PySpark can run operations 100x faster than a traditional Python application.\n",
        "\n",
        "Some key advantages of PySpark:\n",
        "- distributed (cluster) processing\n",
        "- in-memory computation\n",
        "- immutable data objects\n",
        "- lazy evaluation\n",
        "- caching & persistence\n",
        "- ANSI SQL compatibility\n"
      ],
      "metadata": {
        "id": "wpvU9pK1t7n7"
      }
    },
    {
      "cell_type": "markdown",
      "source": [
        "## PySpark Objects\n",
        "\n",
        "**RDD (Resilient Distributed Dataset)**\n",
        "\n",
        "A fundamental data structure of PySpark. An RDD is a fault-tolerant, immutable distributed collection of objects. \n",
        "\n",
        "Each dataset in an RDD is divided into logical partitions, which can be computed on different nodes of a cluster.\n",
        "\n",
        "**SparkSession** An entrypoint to the PySpark application\n",
        "\n",
        "**SparkContext** \n",
        "\n",
        "**PySpark DataFrame**\n",
        "\n",
        "A distributed collection of data organized into named columns. Conceptually equivalent to relational database table or a Pandas dataframe, but with richer optimizations under the hood. PySpark executes DataFrames in parallel across clustered machines.\n",
        "\n",
        "DataFrames can be constructed from a wide array of sources such as structured data files, tables in Hive, external databases, or existing RDDs."
      ],
      "metadata": {
        "id": "E5WyU00yydlF"
      }
    },
    {
      "cell_type": "markdown",
      "source": [
        "## RDD Operations\n",
        "\n",
        "The PySpark RDD supports two kinds of operations:\n",
        "\n",
        "- **RDD transformations** – operations that return a new RDD. Transformations are lazy (executed only when you call an action on the RDD). Some common transformations are - flatMap(), map(), reduceByKey(), filter(), sortByKey()\n",
        "\n",
        "- **RDD actions** – operations that trigger computation and return RDD values to the driver. Any RDD function that returns non-RDD[T] is considered as an action - for example: count(), collect(), first(), max(), reduce()\n",
        "\n"
      ],
      "metadata": {
        "id": "L6nSQcJw0Ffz"
      }
    },
    {
      "cell_type": "markdown",
      "source": [
        ""
      ],
      "metadata": {
        "id": "66roOuKsGVvn"
      }
    },
    {
      "cell_type": "markdown",
      "source": [
        "## PySpark Example"
      ],
      "metadata": {
        "id": "J4mwmBwdyCv4"
      }
    },
    {
      "cell_type": "code",
      "source": [
        "# set environment\n",
        "import os\n",
        "os.environ[\"JAVA_HOME\"] = \"/usr/lib/jvm/java-8-openjdk-amd64\"\n",
        "os.environ[\"SPARK_HOME\"] = \"/content/spark-3.2.1-bin-hadoop2.7\""
      ],
      "metadata": {
        "id": "HRXWPxONogHB"
      },
      "execution_count": null,
      "outputs": []
    },
    {
      "cell_type": "code",
      "source": [
        "!pip install -q findspark\n",
        "import findspark\n",
        "findspark.init()"
      ],
      "metadata": {
        "id": "f8I65LkXomJS"
      },
      "execution_count": null,
      "outputs": []
    },
    {
      "cell_type": "code",
      "source": [
        "# create a SparkSession\n",
        "\n",
        "from pyspark.sql import SparkSession\n",
        "spark = SparkSession.builder\\\n",
        "        .master(\"local\")\\\n",
        "        .appName(\"Colab\")\\\n",
        "        .config('spark.ui.port', '4050')\\\n",
        "        .getOrCreate()\n",
        "\n",
        "\n",
        "  {\"title\": \"Northanger Abbey\", \"author\": \"Austen, Jane\", \"year_written\": 1814, \"edition\": \"Penguin\", \"price\":  18.2}"
      ],
      "metadata": {
        "id": "l5At4V0_otQC"
      },
      "execution_count": null,
      "outputs": []
    },
    {
      "cell_type": "code",
      "execution_count": null,
      "metadata": {
        "id": "oZduJ6jQmywQ"
      },
      "outputs": [],
      "source": [
        "# install JVM\n",
        "!apt-get install openjdk-8-jdk-headless -qq > /dev/null"
      ]
    },
    {
      "cell_type": "code",
      "source": [
        "# install Spark & Hadoop\n",
        "!wget -q https://downloads.apache.org/spark/spark-3.2.1/spark-3.2.1-bin-hadoop2.7.tgz\n",
        "!tar xf spark-3.2.1-bin-hadoop2.7.tgz"
      ],
      "metadata": {
        "id": "JjfnGccvnCwL"
      },
      "execution_count": null,
      "outputs": []
    },
    {
      "cell_type": "markdown",
      "source": [
        "# Data Workflow Management\n",
        "\n",
        "Data pipelines can be highly custom, but a number of tools exist to simplify their management. A few of note are:\n",
        "\n",
        "- Airflow - Python-based open-source platform to programmatically author, schedule and monitor workflows as as Directed Acyclic Graphs (DAGs) of tasks. Tasks are executed on distributed workers.\n",
        "\n",
        "\n",
        "- AWS SageMaker Data Wrangler - Amazon service optimized for automated machine-learning workflows\n"
      ],
      "metadata": {
        "id": "dwiiM7X5GdOT"
      }
    }
  ]
}
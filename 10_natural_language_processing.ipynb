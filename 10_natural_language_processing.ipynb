{
  "nbformat": 4,
  "nbformat_minor": 0,
  "metadata": {
    "colab": {
      "name": "10_natural_language_processing.ipynb",
      "provenance": [],
      "collapsed_sections": [],
      "authorship_tag": "ABX9TyP90n9FBOu9c2iCHQAVEcvu",
      "include_colab_link": true
    },
    "kernelspec": {
      "name": "python3",
      "display_name": "Python 3"
    }
  },
  "cells": [
    {
      "cell_type": "markdown",
      "metadata": {
        "id": "view-in-github",
        "colab_type": "text"
      },
      "source": [
        "<a href=\"https://colab.research.google.com/github/brendenwest/ad450/blob/master/10_natural_language_processing.ipynb\" target=\"_parent\"><img src=\"https://colab.research.google.com/assets/colab-badge.svg\" alt=\"Open In Colab\"/></a>"
      ]
    },
    {
      "cell_type": "markdown",
      "metadata": {
        "id": "mhAyzTiSvQ1D",
        "colab_type": "text"
      },
      "source": [
        "# Natural Language Processing\n",
        "\n",
        "### Reading\n",
        "- https://towardsdatascience.com/gentle-start-to-natural-language-processing-using-python-6e46c07addf3\n",
        "- https://towardsdatascience.com/introduction-to-natural-language-processing-for-text-df845750fb63\n",
        "\n",
        "### Tutorials\n",
        "- https://www.kaggle.com/learn/natural-language-processing\n",
        "- https://www.datacamp.com/community/tutorials/stemming-lemmatization-python\n",
        "- https://www.datacamp.com/community/tutorials/text-analytics-beginners-nltk\n",
        "- https://www.datacamp.com/community/tutorials/machine-learning-hotel-reviews\n",
        "- https://www.datacamp.com/community/tutorials/simplifying-sentiment-analysis-python\n",
        "- https://realpython.com/natural-language-processing-spacy-python/\n",
        "\n",
        "### Practice\n",
        "- https://learn.datacamp.com/courses/introduction-to-natural-language-processing-in-python\n",
        "\n",
        "## Reference\n",
        "- [SPACy](https://spacy.io/usage/spacy-101)\n",
        "- [regular expressions](https://digitalfortress.tech/tricks/top-15-commonly-used-regex/)\n",
        "\n",
        "\n",
        "### Learning Outcomes\n",
        "- what is natural language processing\n",
        "- common Python libraries\n",
        "- word tokenization\n",
        "- stemming & lemmatization\n",
        "- n-grams\n",
        "- Text classification & sentiment analysis\n",
        "- word vectors\n"
      ]
    },
    {
      "cell_type": "markdown",
      "metadata": {
        "id": "vUs86KIS3ny9",
        "colab_type": "text"
      },
      "source": [
        "# Summary\n",
        "\n",
        "- **NLP** applies machine learning algorithms to text and speech.\n",
        "- **NLTK** (Natural Language Toolkit) is a leading Python library for NLP\n",
        "- **Sentence tokenization** divide a string of written language into its component sentences\n",
        "- **Word tokenization** divide a string of written language into its component words\n",
        "- **Stemming** and **Lemmatization** reduce word variants to a common base form.\n",
        "- **Stop words** are words which are filtered out before or after processing of text. They usually refer to the most common words in a language.\n",
        "- A **regular expression** is a sequence of characters that define a search pattern.**bold text**\n",
        "- The bag-of-words model is a simple feature extraction technique that describes the occurrence of each word within a document.\n",
        "- **TF-IDF** is a statistical measure used to evaluate a word's **importance**  to a document."
      ]
    }
  ]
}
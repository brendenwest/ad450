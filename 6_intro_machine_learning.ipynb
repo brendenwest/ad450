{
  "nbformat": 4,
  "nbformat_minor": 0,
  "metadata": {
    "colab": {
      "name": "6_intro_machine_learning.ipynb",
      "provenance": [],
      "collapsed_sections": [],
      "authorship_tag": "ABX9TyNRAayOwufmIM+2PBLAkT1y",
      "include_colab_link": true
    },
    "kernelspec": {
      "name": "python3",
      "display_name": "Python 3"
    }
  },
  "cells": [
    {
      "cell_type": "markdown",
      "metadata": {
        "id": "view-in-github",
        "colab_type": "text"
      },
      "source": [
        "<a href=\"https://colab.research.google.com/github/brendenwest/ad450/blob/master/6_intro_machine_learning.ipynb\" target=\"_parent\"><img src=\"https://colab.research.google.com/assets/colab-badge.svg\" alt=\"Open In Colab\"/></a>"
      ]
    },
    {
      "cell_type": "markdown",
      "metadata": {
        "id": "BsxZbFXG5MPN",
        "colab_type": "text"
      },
      "source": [
        "# Intro to Machine Learning\n",
        "\n",
        "### Reading\n",
        "- McKinney, Chapter 13.3, 13.4 \n",
        "- Molin - Getting Started with Machine Learning (thru Preprocessing Data)\n",
        "- Géron - Chapter 1: The Machine Learning Landscape\n",
        "- https://www.propublica.org/article/machine-bias-risk-assessments-in-criminal-sentencing\n",
        "\n",
        "### Tutorials\n",
        "- https://www.datacamp.com/community/tutorials/introduction-machine-learning-python\n",
        "- https://www.datacamp.com/community/tutorials/preprocessing-in-data-science-part-1-centering-scaling-and-knn\n",
        "- https://github.com/stefmolin/Hands-On-Data-Analysis-with-Pandas/tree/master/ch_09\n",
        "\n",
        "\n",
        "### Practice\n",
        "- https://www.datacamp.com/courses/supervised-learning-with-scikit-learn\n",
        "\n",
        "### Learning Outcomes\n",
        "- Machine learning concepts\n",
        "- Key python libraries - statmodels, SciPy, scikit-learn\n",
        "- Supervised & unsupervised learning\n",
        "- Training and test datasets\n",
        "- Data pre-preprocessing\n",
        "- Introduction to scikit-learn\n",
        "- Clustering with K-Nearest Neighbor\n"
      ]
    },
    {
      "cell_type": "markdown",
      "metadata": {
        "id": "ZLmV7SHieDNW",
        "colab_type": "text"
      },
      "source": [
        "### What is Machine Learning (ML)?\n",
        "\n",
        "The science (and art) of programming computers to learn from data.\n",
        "\n",
        "Machine Learning is great for:\n",
        "\n",
        "- Problems for which existing solutions require a lot of fine-tuning or long lists of rules: one Machine Learning algorithm can often simplify code and perform better than the traditional approach.\n",
        "\n",
        "- Complex problems for which using a traditional approach yields no good solution: the best Machine Learning techniques can perhaps find a solution.\n",
        "\n",
        "- Fluctuating environments: a Machine Learning system can adapt to new data.\n",
        "\n",
        "- Getting insights about complex problems and large amounts of data.\n",
        "\n",
        "**common examples**\n",
        "- fraud detection\n",
        "- spam filters\n",
        "- character recognition\n",
        "- face detection\n",
        "- recommendations\n",
        "- speech-to-text, text-to-speech\n",
        "- anomoly detection\n",
        "- association rule learning\n",
        "\n",
        "**Types of ML systems**\n",
        "- Trained with human supervision (supervised, semi-supervised, reinforcement learning ) or unsupervised\n",
        "- Can learn incrementally (online) or offline (batch learning)\n",
        "- Compares new data to known data (instance learning) or uses a predictive model (model-based learning)\n",
        "\n"
      ]
    },
    {
      "cell_type": "markdown",
      "metadata": {
        "id": "HR6bp3kJt7Tg",
        "colab_type": "text"
      },
      "source": [
        "### Supervised learning\n",
        "\n",
        "Training data includes labels for desired solutions.\n",
        "- classification - program is trained to identify data matching a class\n",
        "- target numeric value - system trained on data with a given set of features (predictors) and their labels\n",
        "\n",
        "**Common Supervised Learning Models**\n",
        "\n",
        "- k-Nearest Neighbors\n",
        "- Linear Regression\n",
        "- Logistic Regression\n",
        "- Support Vector Machines (SVMs)\n",
        "- Decision Trees and Random Forests\n",
        "- Neural networks\n"
      ]
    },
    {
      "cell_type": "markdown",
      "metadata": {
        "id": "M6EaXmlluLuH",
        "colab_type": "text"
      },
      "source": [
        "### Unsupervised Learning\n",
        "\n",
        "The system learns from unlabeled data, without a teacher.\n",
        "\n",
        "**Common Unsupervised learning algorithms**\n",
        "\n",
        "- **Clustering** - identify groups and which group data points belong to\n",
        "  - K-Means\n",
        "  - DBSCAN\n",
        "  - Hierarchical Cluster Analysis (HCA)\n",
        "- **Anomaly detection** and novelty detection\n",
        "  - One-class SVM\n",
        "  - Isolation Forest\n",
        "- **Visualization** and dimensionality reduction\n",
        "  - Principal Component Analysis (PCA)\n",
        "  - Kernel PCA\n",
        "  - Locally Linear Embedding (LLE)\n",
        "  - t-Distributed Stochastic Neighbor Embedding (t-SNE)\n",
        "- **Association rule** learning - discover interesting relations between attributes in large amounts of data \n",
        "  - Apriori\n",
        "  - Eclat\n",
        "\n",
        "**dimensionality reduction** describes techniques to simplify data without losing too much information. Can result in faster performance, less disk and memory space, and in some cases better accuracy.\n",
        "\n",
        "**feature extraction** - a dimensionality reduction technique that merges multiple strongly-correlated features into a single feature"
      ]
    },
    {
      "cell_type": "markdown",
      "metadata": {
        "id": "ixXoMiPwwwVO",
        "colab_type": "text"
      },
      "source": [
        "### Semisupervised & Reinforcement Learning\n",
        "\n",
        "**Semisupervised**\n",
        "\n",
        "Algorithms that can deal with partially labeled data. Usually combinations of unsupervised and supervised algorithms.\n",
        "\n",
        "**Reinforcement Learning**\n",
        "\n",
        "The learning system (agent) can observe the environment, select and perform actions, and get rewards or penalties as a result. It learns the best strategy (policy) to get the most rewards and what action the agent should choose when it is in a given situation."
      ]
    },
    {
      "cell_type": "markdown",
      "metadata": {
        "id": "p1geFmUzx7AQ",
        "colab_type": "text"
      },
      "source": [
        "### Batch -v- Online Learning\n",
        "\n",
        "**Batch**\n",
        "\n",
        "System is trained with all available data. Training is usually time & computing intensive, so done offline. Learning about new data requires training a new version of the system.\n",
        "\n",
        "**Online Learning**\n",
        "\n",
        "The system learns incrementally from data instances fed sequentially, either individually or in small groups called mini-batches. Each learning step is fast and cheap, so the system can learn about new data on the fly.\n",
        "\n",
        "Great for systems that receive data continuously and need to adapt to change rapidly or autonomously. Also a good option if computing resources are limited or data can't fit into memory of a single computer.\n",
        "\n",
        "**Learning rate** - how fast the system should adapt to changing data. Affects how sensitive the system is to *noise* in the data.\n"
      ]
    },
    {
      "cell_type": "markdown",
      "metadata": {
        "id": "NoAfXaHG2e94",
        "colab_type": "text"
      },
      "source": [
        "### Instance -v- Model-based Learning\n",
        "\n",
        "**Instance-based learning** - the system learns data examples, then generalizes to new cases by using a **similarity measure** to compare them to the learned examples (or a subset of them).\n",
        "\n",
        "**Model-based learning** - a predictive model is developed from data. \n",
        "\n",
        "Model requires a **performance measure** - e.g. **utility function** that measures how good the model is, or a **cost function** that measure how bad it is.\n",
        "\n",
        "Model can refer to a *type of model*, to a *full-specified model architecture*, or to the final *trained model* ready for making predictions.\n",
        "\n",
        "**Model selection** involves choosing the type of model and fully specifying its architecture. \n",
        "\n",
        "**Model training** means running an algorithm to find the model parameters that will make it best fit the training data.\n"
      ]
    },
    {
      "cell_type": "markdown",
      "metadata": {
        "id": "-sE_-yaI4hEE",
        "colab_type": "text"
      },
      "source": [
        "### ML Challenges\n",
        "\n",
        "- Insufficient quantity of training data\n",
        "- Non-representative training data\n",
        "- Poor-quality training data\n",
        "- Irrelevant features\n",
        "- Overfitting the training data\n",
        "- Underfitting the training data\n"
      ]
    }
  ]
}
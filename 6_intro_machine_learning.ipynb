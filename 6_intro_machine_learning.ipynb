{
  "nbformat": 4,
  "nbformat_minor": 0,
  "metadata": {
    "colab": {
      "name": "6_intro_machine_learning.ipynb",
      "provenance": [],
      "collapsed_sections": [],
      "authorship_tag": "ABX9TyORATE5wwiQ2/rXEJALoSKl",
      "include_colab_link": true
    },
    "kernelspec": {
      "name": "python3",
      "display_name": "Python 3"
    }
  },
  "cells": [
    {
      "cell_type": "markdown",
      "metadata": {
        "id": "view-in-github",
        "colab_type": "text"
      },
      "source": [
        "<a href=\"https://colab.research.google.com/github/brendenwest/ad450/blob/master/6_intro_machine_learning.ipynb\" target=\"_parent\"><img src=\"https://colab.research.google.com/assets/colab-badge.svg\" alt=\"Open In Colab\"/></a>"
      ]
    },
    {
      "cell_type": "markdown",
      "metadata": {
        "id": "BsxZbFXG5MPN",
        "colab_type": "text"
      },
      "source": [
        "# Intro to Machine Learning\n",
        "\n",
        "### Reading\n",
        "- McKinney, Chapter 13.3, 13.4 \n",
        "- Molin - Getting Started with Machine Learning (thru Preprocessing Data)\n",
        "- Géron - Chapter 1: The Machine Learning Landscape\n",
        "- https://www.propublica.org/article/machine-bias-risk-assessments-in-criminal-sentencing\n",
        "\n",
        "### Tutorials\n",
        "- https://www.datacamp.com/community/tutorials/introduction-machine-learning-python\n",
        "- https://www.datacamp.com/community/tutorials/preprocessing-in-data-science-part-1-centering-scaling-and-knn\n",
        "- https://github.com/stefmolin/Hands-On-Data-Analysis-with-Pandas/tree/master/ch_09\n",
        "\n",
        "\n",
        "### Practice\n",
        "- https://www.datacamp.com/courses/supervised-learning-with-scikit-learn\n",
        "\n",
        "### Learning Outcomes\n",
        "- Machine learning concepts\n",
        "- Key python libraries - statmodels, SciPy, scikit-learn\n",
        "- Supervised & unsupervised learning\n",
        "- Training and test datasets\n",
        "- Data pre-preprocessing\n",
        "- Introduction to scikit-learn\n",
        "- Clustering with K-Nearest Neighbor\n"
      ]
    },
    {
      "cell_type": "markdown",
      "metadata": {
        "id": "ZLmV7SHieDNW",
        "colab_type": "text"
      },
      "source": [
        "\n",
        "**examples**\n",
        "- fraud detection\n",
        "- spam filters\n",
        "- character recognition\n",
        "- face detection\n",
        "- recommendations\n",
        "- speech-to-text, text-to-speech\n",
        "- anomoly detection\n",
        "- association rule learning\n",
        "\n",
        "**types of ML systems**\n",
        "- supervised -v- unsupervised\n",
        "- online -v- batch\n",
        "- instance -v- model-based learning\n",
        "\n",
        "training set - examples the program uses to learn\n",
        "\n",
        "ML particularly useful for problems too complex for traditional programming or where no known algorithm exists\n",
        "\n",
        "can help discover patterns that were not immediately apparent.\n",
        "\n",
        "### supervised learning\n",
        "\n",
        "Training data includes labels for desired solutions.\n",
        "- classification\n",
        "- target numeric value for given set of features (predictors)\n",
        "\n"
      ]
    }
  ]
}
{
  "nbformat": 4,
  "nbformat_minor": 0,
  "metadata": {
    "colab": {
      "name": "6_intro_machine_learning.ipynb",
      "provenance": [],
      "collapsed_sections": [],
      "authorship_tag": "ABX9TyNMA+uZUIC7Z/FnDqb0eXCv",
      "include_colab_link": true
    },
    "kernelspec": {
      "name": "python3",
      "display_name": "Python 3"
    }
  },
  "cells": [
    {
      "cell_type": "markdown",
      "metadata": {
        "id": "view-in-github",
        "colab_type": "text"
      },
      "source": [
        "<a href=\"https://colab.research.google.com/github/brendenwest/ad450/blob/master/6_intro_machine_learning.ipynb\" target=\"_parent\"><img src=\"https://colab.research.google.com/assets/colab-badge.svg\" alt=\"Open In Colab\"/></a>"
      ]
    },
    {
      "cell_type": "markdown",
      "metadata": {
        "id": "BsxZbFXG5MPN",
        "colab_type": "text"
      },
      "source": [
        "# Intro to Machine Learning\n",
        "\n",
        "### Reading\n",
        "- McKinney, Chapter 13.3, 13.4 \n",
        "- Molin - Getting Started with Machine Learning\n",
        "- Géron - Chapter 1: The Machine Learning Landscape\n",
        "- https://www.propublica.org/article/machine-bias-risk-assessments-in-criminal-sentencing\n",
        "\n",
        "### Tutorials\n",
        "- https://www.datacamp.com/community/tutorials/machine-learning-python\n",
        "- https://www.datacamp.com/community/tutorials/k-means-clustering-python\n",
        "- https://github.com/stefmolin/Hands-On-Data-Analysis-with-Pandas/tree/master/ch_09\n",
        "\n",
        "\n",
        "### Practice\n",
        "- https://www.datacamp.com/courses/supervised-learning-with-scikit-learn\n",
        "\n",
        "### Learning Outcomes\n",
        "- Machine learning concepts\n",
        "- Key python libraries - statmodels, SciPy, scikit-learn\n",
        "- Supervised & unsupervised learning\n",
        "- Training and test datasets\n",
        "- Data pre-preprocessing\n",
        "- Introduction to scikit-learn\n",
        "- Clustering methods\n"
      ]
    }
  ]
}
{
  "nbformat": 4,
  "nbformat_minor": 0,
  "metadata": {
    "colab": {
      "name": "3_data_acquisition_cleaning.ipynb",
      "provenance": [],
      "collapsed_sections": [
        "_zZTNWPOkGCR"
      ],
      "authorship_tag": "ABX9TyMMp8XeYShcxnJSO9agPDLj",
      "include_colab_link": true
    },
    "kernelspec": {
      "name": "python3",
      "display_name": "Python 3"
    }
  },
  "cells": [
    {
      "cell_type": "markdown",
      "metadata": {
        "id": "view-in-github",
        "colab_type": "text"
      },
      "source": [
        "<a href=\"https://colab.research.google.com/github/brendenwest/ad450/blob/master/3_data_acquisition_cleaning.ipynb\" target=\"_parent\"><img src=\"https://colab.research.google.com/assets/colab-badge.svg\" alt=\"Open In Colab\"/></a>"
      ]
    },
    {
      "cell_type": "markdown",
      "metadata": {
        "id": "pvEkzJWdJTUs",
        "colab_type": "text"
      },
      "source": [
        "# Data Acquisition & Cleaning\n",
        "\n",
        "Accessing and cleaning data is a crucial and often time-consuming step data science.\n",
        "\n",
        "Data scientists might use pure Python, psndas, or other programming tools for this step. Examples here focus on pandas, with a few other approaches for specific scenarios.\n",
        "\n",
        "### Reading\n",
        "\n",
        "- McKinney, Chapters 6 - 7\n",
        "- Molin, “Data Wrangling with Pandas”\n",
        "- https://www.detroitnews.com/story/news/local/detroit-city/housing/2020/01/09/detroit-homeowners-overtaxed-600-million/2698518001/\n",
        "- https://realpython.com/beautiful-soup-web-scraper-python/\n",
        "\n",
        "### Practice\n",
        "- https://www.datacamp.com/courses/importing-data-in-python-part-1\n",
        "- https://www.datacamp.com/courses/importing-data-in-python-part-2\n",
        "- https://www.datacamp.com/community/tutorials/making-web-crawlers-scrapy-python\n",
        "- https://www.datacamp.com/courses/cleaning-data-in-python (cleaning data for analysis)\n",
        "- https://github.com/wesm/pydata-book\n",
        "\n",
        "### Learning Outcomes\n",
        "- Loading data from text files\n",
        "- Working with common data formats\n",
        "- Web scraping and API interaction\n",
        "- Interacting with database\n",
        "- Inspecting data with pandas\n",
        "- Data cleaning\n"
      ]
    },
    {
      "cell_type": "markdown",
      "metadata": {
        "id": "L1iFWoJEJYoo",
        "colab_type": "text"
      },
      "source": [
        "## Loading data files\n",
        "\n",
        "pandas has a number of built-in functions for reading tabular data from plain-text files into a dataframe, including these common formats:\n",
        "\n",
        "*   read_csv - comma-separated values\n",
        "*   read_table - tab-separated values (tsv)\n",
        "*   read_fwf - fixed-width columns\n",
        "*   read_html\n",
        "*   read_json - JavaScript object notation\n",
        "\n",
        "pandas' data-parsing functions support options for:\n",
        "- indexing\n",
        "- type inference and data conversion\n",
        "- datetime parsing\n",
        "- iterating over chunks of very large files\n",
        "- handling unclean data\n"
      ]
    },
    {
      "cell_type": "code",
      "metadata": {
        "id": "CaLOztqcZR80",
        "colab_type": "code",
        "colab": {}
      },
      "source": [
        "import pandas as pd\n",
        "\n",
        "df = pd.read_csv('sample_data/california_housing_test.csv')\n",
        "df = pd.read_table('sample_data/california_housing_test.csv', sep=\",\")\n"
      ],
      "execution_count": 0,
      "outputs": []
    },
    {
      "cell_type": "markdown",
      "metadata": {
        "id": "yhHE02VbaA63",
        "colab_type": "text"
      },
      "source": [
        "#### Common options:\n",
        "\n",
        "- handle files with no header\n",
        "- set a specific column as the dataframe index\n",
        "- set a hierarchichal index\n",
        "- skip specific rows\n",
        "- attempt to parse dates\n",
        "\n",
        "#### missing values\n",
        "\n",
        "pandas recognizes common strings for missing data, such as `NA` and `NULL`. \n",
        "\n",
        "Programs can also specify values to treat as missing and can use different values for different columns.\n",
        "\n"
      ]
    },
    {
      "cell_type": "markdown",
      "metadata": {
        "id": "1jdOZmrnj3DT",
        "colab_type": "text"
      },
      "source": [
        "#### Reading files in parts\n",
        "\n",
        "It sometimes makes sense to read part of a large file or iterate through it in small chunks.\n",
        "\n",
        "- `nrows` to read a small number or rows\n",
        "- `chunksize` to return a text parser object for iteration\n",
        "- using python's csv library:\n",
        "\n",
        "\n",
        "```\n",
        "# using python csv reader\n",
        "import csv\n",
        "f = open.('FILENAME')\n",
        "reader = csv.reader(f)\n",
        "for line in reader:\n",
        "  # operate on each line\n",
        "```\n",
        "\n",
        "\n"
      ]
    },
    {
      "cell_type": "markdown",
      "metadata": {
        "id": "_zZTNWPOkGCR",
        "colab_type": "text"
      },
      "source": [
        "### Working with JSON\n",
        "\n",
        "Programs can load JSON data with core python:\n",
        "\n",
        "```\n",
        "import json\n",
        "data = json.loads(FILENAME) # read JSON file into python object\n",
        "jsonfile = json.dumps(PYTHON_OBJECT) # convert python object to JSON\n",
        "```\n",
        "or with pandas `read_json` method. By default, `pandas.read_json` assumes each object in a JSON array is table row.\n",
        "\n"
      ]
    },
    {
      "cell_type": "code",
      "metadata": {
        "id": "nqCbnwdee2fK",
        "colab_type": "code",
        "outputId": "f8a17a1d-446a-43f9-879b-7f6a4eeda791",
        "colab": {
          "base_uri": "https://localhost:8080/",
          "height": 204
        }
      },
      "source": [
        "import pandas as pd\n",
        "df = pd.read_json('sample_data/anscombe.json')\n",
        "df.head()\n"
      ],
      "execution_count": 0,
      "outputs": [
        {
          "output_type": "execute_result",
          "data": {
            "text/html": [
              "<div>\n",
              "<style scoped>\n",
              "    .dataframe tbody tr th:only-of-type {\n",
              "        vertical-align: middle;\n",
              "    }\n",
              "\n",
              "    .dataframe tbody tr th {\n",
              "        vertical-align: top;\n",
              "    }\n",
              "\n",
              "    .dataframe thead th {\n",
              "        text-align: right;\n",
              "    }\n",
              "</style>\n",
              "<table border=\"1\" class=\"dataframe\">\n",
              "  <thead>\n",
              "    <tr style=\"text-align: right;\">\n",
              "      <th></th>\n",
              "      <th>Series</th>\n",
              "      <th>X</th>\n",
              "      <th>Y</th>\n",
              "    </tr>\n",
              "  </thead>\n",
              "  <tbody>\n",
              "    <tr>\n",
              "      <th>0</th>\n",
              "      <td>I</td>\n",
              "      <td>10</td>\n",
              "      <td>8.04</td>\n",
              "    </tr>\n",
              "    <tr>\n",
              "      <th>1</th>\n",
              "      <td>I</td>\n",
              "      <td>8</td>\n",
              "      <td>6.95</td>\n",
              "    </tr>\n",
              "    <tr>\n",
              "      <th>2</th>\n",
              "      <td>I</td>\n",
              "      <td>13</td>\n",
              "      <td>7.58</td>\n",
              "    </tr>\n",
              "    <tr>\n",
              "      <th>3</th>\n",
              "      <td>I</td>\n",
              "      <td>9</td>\n",
              "      <td>8.81</td>\n",
              "    </tr>\n",
              "    <tr>\n",
              "      <th>4</th>\n",
              "      <td>I</td>\n",
              "      <td>11</td>\n",
              "      <td>8.33</td>\n",
              "    </tr>\n",
              "  </tbody>\n",
              "</table>\n",
              "</div>"
            ],
            "text/plain": [
              "  Series   X     Y\n",
              "0      I  10  8.04\n",
              "1      I   8  6.95\n",
              "2      I  13  7.58\n",
              "3      I   9  8.81\n",
              "4      I  11  8.33"
            ]
          },
          "metadata": {
            "tags": []
          },
          "execution_count": 2
        }
      ]
    },
    {
      "cell_type": "markdown",
      "metadata": {
        "id": "Be6OuSNqpJgU",
        "colab_type": "text"
      },
      "source": [
        "### Working with HTML\n",
        "\n",
        "pandas `read_html` method depends on several supporting libraries.\n",
        "\n",
        "```\n",
        "pip install lxml\n",
        "pip install beautifulsoup4 html5lib\n",
        "```\n",
        "\n",
        "By default it looks for & attempts to parse all TABLE elements in an HTML file."
      ]
    },
    {
      "cell_type": "markdown",
      "metadata": {
        "id": "B_Ek2p_J7NM_",
        "colab_type": "text"
      },
      "source": [
        "### Working with Excel\n",
        "\n",
        "Programs can load data from Excel files using pure python with openpyxl, or with pandas' `ExcelFile` class or read_excel() method.\n",
        "\n",
        "```\n",
        "xlsx = pd.ExcelFile(FILENAME)\n",
        "pd.read_excel(xlsx, SHEETNAME)\n",
        "```"
      ]
    },
    {
      "cell_type": "markdown",
      "metadata": {
        "id": "stkYKkZXJeLT",
        "colab_type": "text"
      },
      "source": [
        "## Loading Web data"
      ]
    },
    {
      "cell_type": "markdown",
      "metadata": {
        "id": "S6nAYbw4AZIj",
        "colab_type": "text"
      },
      "source": [
        "Python programs can load data from web sites using a number of approaches, depending on:\n",
        "\n",
        "- whether data are available from an API\n",
        "- whether data are publicly available or behind authentication\n"
      ]
    },
    {
      "cell_type": "markdown",
      "metadata": {
        "id": "qINio3dtoCFg",
        "colab_type": "text"
      },
      "source": [
        "### Web API integration\n",
        "\n",
        "When data are available from an API as structured data (e.g. JSON, XML, CSV), programs can fetch using libraries such as `requests`.\n"
      ]
    },
    {
      "cell_type": "code",
      "metadata": {
        "id": "BKY2U66UDuKE",
        "colab_type": "code",
        "outputId": "35c45aad-8c53-47cd-d367-44984d91bd54",
        "colab": {
          "base_uri": "https://localhost:8080/",
          "height": 299
        }
      },
      "source": [
        "import requests\n",
        "url = 'https://data.seattle.gov/resource/jguv-t9rb.json'\n",
        "resp = requests.get(url)\n",
        "data = resp.json() # parse HTTP response\n",
        "licenses = pd.DataFrame(data)\n",
        "licenses.head()"
      ],
      "execution_count": 0,
      "outputs": [
        {
          "output_type": "execute_result",
          "data": {
            "text/html": [
              "<div>\n",
              "<style scoped>\n",
              "    .dataframe tbody tr th:only-of-type {\n",
              "        vertical-align: middle;\n",
              "    }\n",
              "\n",
              "    .dataframe tbody tr th {\n",
              "        vertical-align: top;\n",
              "    }\n",
              "\n",
              "    .dataframe thead th {\n",
              "        text-align: right;\n",
              "    }\n",
              "</style>\n",
              "<table border=\"1\" class=\"dataframe\">\n",
              "  <thead>\n",
              "    <tr style=\"text-align: right;\">\n",
              "      <th></th>\n",
              "      <th>license_issue_date</th>\n",
              "      <th>license_number</th>\n",
              "      <th>species</th>\n",
              "      <th>primary_breed</th>\n",
              "      <th>zip_code</th>\n",
              "      <th>animal_s_name</th>\n",
              "      <th>secondary_breed</th>\n",
              "    </tr>\n",
              "  </thead>\n",
              "  <tbody>\n",
              "    <tr>\n",
              "      <th>0</th>\n",
              "      <td>2000-01-03T00:00:00.000</td>\n",
              "      <td>263574</td>\n",
              "      <td>Dog</td>\n",
              "      <td>Shepherd</td>\n",
              "      <td>98119</td>\n",
              "      <td>NaN</td>\n",
              "      <td>NaN</td>\n",
              "    </tr>\n",
              "    <tr>\n",
              "      <th>1</th>\n",
              "      <td>2000-01-05T00:00:00.000</td>\n",
              "      <td>119820</td>\n",
              "      <td>Dog</td>\n",
              "      <td>Retriever, Labrador</td>\n",
              "      <td>98106</td>\n",
              "      <td>Fancy</td>\n",
              "      <td>NaN</td>\n",
              "    </tr>\n",
              "    <tr>\n",
              "      <th>2</th>\n",
              "      <td>2000-01-06T00:00:00.000</td>\n",
              "      <td>10401</td>\n",
              "      <td>Dog</td>\n",
              "      <td>Siberian Husky</td>\n",
              "      <td>NaN</td>\n",
              "      <td>Skip</td>\n",
              "      <td>Mix</td>\n",
              "    </tr>\n",
              "    <tr>\n",
              "      <th>3</th>\n",
              "      <td>2000-01-12T00:00:00.000</td>\n",
              "      <td>941592</td>\n",
              "      <td>Dog</td>\n",
              "      <td>German Shepherd</td>\n",
              "      <td>98107</td>\n",
              "      <td>Kanga</td>\n",
              "      <td>NaN</td>\n",
              "    </tr>\n",
              "    <tr>\n",
              "      <th>4</th>\n",
              "      <td>2000-01-24T00:00:00.000</td>\n",
              "      <td>422763</td>\n",
              "      <td>Dog</td>\n",
              "      <td>Retriever, Golden</td>\n",
              "      <td>NaN</td>\n",
              "      <td>Oscar</td>\n",
              "      <td>NaN</td>\n",
              "    </tr>\n",
              "  </tbody>\n",
              "</table>\n",
              "</div>"
            ],
            "text/plain": [
              "        license_issue_date license_number  ... animal_s_name secondary_breed\n",
              "0  2000-01-03T00:00:00.000         263574  ...           NaN             NaN\n",
              "1  2000-01-05T00:00:00.000         119820  ...         Fancy             NaN\n",
              "2  2000-01-06T00:00:00.000          10401  ...          Skip             Mix\n",
              "3  2000-01-12T00:00:00.000         941592  ...         Kanga             NaN\n",
              "4  2000-01-24T00:00:00.000         422763  ...         Oscar             NaN\n",
              "\n",
              "[5 rows x 7 columns]"
            ]
          },
          "metadata": {
            "tags": []
          },
          "execution_count": 6
        }
      ]
    },
    {
      "cell_type": "markdown",
      "metadata": {
        "id": "mX-C4SqtJncE",
        "colab_type": "text"
      },
      "source": [
        "### Web scraping\n",
        "\n",
        "Sometimes data are available on the internet, but not as structured data. So programs need to capture a full web page and then extract just the desired data.\n",
        "\n",
        "Two widely used python libraries are:\n",
        "\n",
        "- [BeautifulSoup](https://www.crummy.com/software/BeautifulSoup/bs4/doc/) - easy to use but requires other supporting libraries.\n",
        "- [Scrapy](https://scrapy.org/) - complete package & optimal for large, complicated tasks"
      ]
    },
    {
      "cell_type": "markdown",
      "metadata": {
        "id": "4hO-ArOUJzDi",
        "colab_type": "text"
      },
      "source": [
        "## Data cleaning\n",
        "\n",
        "- handling dates\n",
        "- type conversion\n"
      ]
    },
    {
      "cell_type": "markdown",
      "metadata": {
        "id": "4yriT0CTxT-J",
        "colab_type": "text"
      },
      "source": [
        "### Handling missing data\n",
        "\n",
        "Often data analysts need to account for missing data values.\n",
        "\n",
        "pandas uses the floating-point value NaN (Not a Number) to represent missing numerica data. This is a **sentinel** value that can be easily detected.\n",
        "\n",
        "The built-in Python `None` value is also treated as NA.\n",
        "\n",
        "pandas has several methods for detecting `NaN` values in a Series or DataFrame:\n",
        "- isnull\n",
        "- notnull\n",
        "\n",
        "These methods can be used as filters in a data query.\n",
        "\n",
        "`data[data.notnull()]`\n",
        "\n",
        "Alternatively, programs can use `dropna` to filter axis labels where values may have missing data. \n",
        "\n",
        "`dropna` has options to control how many missing values a row or column should have to be dropped.\n",
        "\n",
        "**replace missing values**\n",
        "Sometimes it's more useful to replace missing data with a specific or interpreted value, using `fillna`.\n",
        "\n",
        "`fillna` can use a function to determine fill value.\n",
        "\n",
        "`fillna` returns a new object, but has an `inplace` option.\n"
      ]
    },
    {
      "cell_type": "markdown",
      "metadata": {
        "id": "DY_Vd8j0xyG-",
        "colab_type": "text"
      },
      "source": [
        "### Transforming data\n",
        "\n",
        "- **removing duplicates** - DataFrames have built-in methods to identify which rows are `duplicated` and to `drop_duplicates`. By default, these methods consider all columns, but programs can specify a subset.\n",
        "\n",
        "- **transformation functions** - programs can use the Series **map** method to perform element-wise operations on transformations.\n",
        "\n",
        "- **replacing values** - the replace() method is a simple approach for replacing values in a pandas object.\n",
        "\n",
        "- **transforming indexes** - pandas dataset indexes  support **map()** operations to produce new objects with different labels. **replace()** is useful for simple index changes.\n",
        "\n",
        "- **handling outliers** - programs may want to find & replace or filter values that exceed some threshold.\n"
      ]
    },
    {
      "cell_type": "markdown",
      "metadata": {
        "id": "hqmrcUaUlxaY",
        "colab_type": "text"
      },
      "source": [
        "#### Binning\n",
        "\n",
        "Sometimes it's necessary to separate continuous data into bins or groups for analysis.\n",
        "\n",
        "pandas `cut()` method supports binning operations, including:\n",
        "\n",
        "- dividing data into specific bins based on value ranges\n",
        "- dividing data into equal-size bins\n",
        "- assigning bin names\n",
        "- determining which side of a bin is open or closed\n",
        "\n",
        "pandas also provides `qcut()` to bin data based on sample quantiles."
      ]
    },
    {
      "cell_type": "code",
      "metadata": {
        "id": "h54tZnR7nLUb",
        "colab_type": "code",
        "colab": {}
      },
      "source": [
        ""
      ],
      "execution_count": 0,
      "outputs": []
    },
    {
      "cell_type": "markdown",
      "metadata": {
        "id": "sqbfVX2-oP1o",
        "colab_type": "text"
      },
      "source": [
        "#### Indicator/Dummy variables\n",
        "\n",
        "It's often necessary to convert a categorical variable into a `dummy` or `indicator` matrix for statistical modeling.\n",
        "\n",
        "`get_dummies()` returns a matrix with one row for each value in a Series and a column for each distinct category value. \n",
        "\n",
        "The matrix value is 1 where the Series value at a given index matches the category and 0 otherwise."
      ]
    },
    {
      "cell_type": "code",
      "metadata": {
        "id": "ICsxsQkxo2Di",
        "colab_type": "code",
        "outputId": "16b5c6bf-17a8-4113-931a-296cff40f4e6",
        "colab": {
          "base_uri": "https://localhost:8080/",
          "height": 235
        }
      },
      "source": [
        "df = pd.DataFrame({'key': ['b', 'b', 'a', 'c', 'a', 'b'], 'data1': range(6)})\n",
        "pd.get_dummies(df['key'])"
      ],
      "execution_count": 0,
      "outputs": [
        {
          "output_type": "execute_result",
          "data": {
            "text/html": [
              "<div>\n",
              "<style scoped>\n",
              "    .dataframe tbody tr th:only-of-type {\n",
              "        vertical-align: middle;\n",
              "    }\n",
              "\n",
              "    .dataframe tbody tr th {\n",
              "        vertical-align: top;\n",
              "    }\n",
              "\n",
              "    .dataframe thead th {\n",
              "        text-align: right;\n",
              "    }\n",
              "</style>\n",
              "<table border=\"1\" class=\"dataframe\">\n",
              "  <thead>\n",
              "    <tr style=\"text-align: right;\">\n",
              "      <th></th>\n",
              "      <th>a</th>\n",
              "      <th>b</th>\n",
              "      <th>c</th>\n",
              "    </tr>\n",
              "  </thead>\n",
              "  <tbody>\n",
              "    <tr>\n",
              "      <th>0</th>\n",
              "      <td>0</td>\n",
              "      <td>1</td>\n",
              "      <td>0</td>\n",
              "    </tr>\n",
              "    <tr>\n",
              "      <th>1</th>\n",
              "      <td>0</td>\n",
              "      <td>1</td>\n",
              "      <td>0</td>\n",
              "    </tr>\n",
              "    <tr>\n",
              "      <th>2</th>\n",
              "      <td>1</td>\n",
              "      <td>0</td>\n",
              "      <td>0</td>\n",
              "    </tr>\n",
              "    <tr>\n",
              "      <th>3</th>\n",
              "      <td>0</td>\n",
              "      <td>0</td>\n",
              "      <td>1</td>\n",
              "    </tr>\n",
              "    <tr>\n",
              "      <th>4</th>\n",
              "      <td>1</td>\n",
              "      <td>0</td>\n",
              "      <td>0</td>\n",
              "    </tr>\n",
              "    <tr>\n",
              "      <th>5</th>\n",
              "      <td>0</td>\n",
              "      <td>1</td>\n",
              "      <td>0</td>\n",
              "    </tr>\n",
              "  </tbody>\n",
              "</table>\n",
              "</div>"
            ],
            "text/plain": [
              "   a  b  c\n",
              "0  0  1  0\n",
              "1  0  1  0\n",
              "2  1  0  0\n",
              "3  0  0  1\n",
              "4  1  0  0\n",
              "5  0  1  0"
            ]
          },
          "metadata": {
            "tags": []
          },
          "execution_count": 3
        }
      ]
    },
    {
      "cell_type": "markdown",
      "metadata": {
        "id": "SmK_WZCLnmVB",
        "colab_type": "text"
      },
      "source": [
        ""
      ]
    },
    {
      "cell_type": "markdown",
      "metadata": {
        "id": "ZjMuGNj5yqve",
        "colab_type": "text"
      },
      "source": [
        "### String manipulation\n",
        "\n",
        "- string methods - python has a wide range of built-in string methods. Some common ones are:\n",
        "  - **split** - generate an array of substrings from a string based on a delimiter\n",
        "  - **lowercase** - convert a string to lower case\n",
        "  - **uppercase** - convert a string to upper case\n",
        "  - **join** - combine strings with a delimiter\n",
        "  - **index** - determine where in a string a substring is first found\n",
        "  - **find** - determine if a string contains a substring\n",
        "  - **count** - number of occurences of a substring in a string\n",
        "  - **replace** - substitute occurrences of one pattern with another.\n",
        "\n",
        "\n",
        "**Regular Expressions** provide a (mostly) language-agnostic logical syntax for finding/matching string patterns in text.\n",
        "\n",
        "`regex` patterns can be applied to strings with python's [re module](https://docs.python.org/3/library/re.html).\n"
      ]
    },
    {
      "cell_type": "code",
      "metadata": {
        "id": "QlCwpUXYszk2",
        "colab_type": "code",
        "outputId": "6cee5920-16a0-428b-a18c-699407738943",
        "colab": {
          "base_uri": "https://localhost:8080/",
          "height": 34
        }
      },
      "source": [
        "import re\n",
        "text = \"foo    bar\\t baz  \\tqux\"\n",
        "\n",
        "# inline regex pattern\n",
        "re.split('\\s+', text)\n",
        "\n",
        "# reusable regex object\n",
        "regex = re.compile('\\s+')\n",
        "regex.split(text)"
      ],
      "execution_count": 0,
      "outputs": [
        {
          "output_type": "execute_result",
          "data": {
            "text/plain": [
              "['foo', 'bar', 'baz', 'qux']"
            ]
          },
          "metadata": {
            "tags": []
          },
          "execution_count": 5
        }
      ]
    },
    {
      "cell_type": "markdown",
      "metadata": {
        "id": "clSV0rUItx7E",
        "colab_type": "text"
      },
      "source": [
        "**vectorized string functions**\n",
        "\n",
        "pandas Series has array-oriented methods for string operations that will skip `NA` values."
      ]
    },
    {
      "cell_type": "code",
      "metadata": {
        "id": "qw87LDwEh_mf",
        "colab_type": "code",
        "outputId": "34d188b6-6eca-4fb1-8c54-66f6c384d2e8",
        "colab": {
          "base_uri": "https://localhost:8080/",
          "height": 34
        }
      },
      "source": [
        "name = \"Bob\"\n",
        "name[1:]"
      ],
      "execution_count": 0,
      "outputs": [
        {
          "output_type": "execute_result",
          "data": {
            "text/plain": [
              "'ob'"
            ]
          },
          "metadata": {
            "tags": []
          },
          "execution_count": 9
        }
      ]
    }
  ]
}
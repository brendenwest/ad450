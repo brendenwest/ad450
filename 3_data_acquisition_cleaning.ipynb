{
  "nbformat": 4,
  "nbformat_minor": 0,
  "metadata": {
    "colab": {
      "name": "3_data_acquisition_cleaning.ipynb",
      "provenance": [],
      "collapsed_sections": [
        "_zZTNWPOkGCR"
      ],
      "authorship_tag": "ABX9TyOqKNwKHPGeZH13oZqTnWEh",
      "include_colab_link": true
    },
    "kernelspec": {
      "name": "python3",
      "display_name": "Python 3"
    }
  },
  "cells": [
    {
      "cell_type": "markdown",
      "metadata": {
        "id": "view-in-github",
        "colab_type": "text"
      },
      "source": [
        "<a href=\"https://colab.research.google.com/github/brendenwest/ad450/blob/master/3_data_acquisition_cleaning.ipynb\" target=\"_parent\"><img src=\"https://colab.research.google.com/assets/colab-badge.svg\" alt=\"Open In Colab\"/></a>"
      ]
    },
    {
      "cell_type": "markdown",
      "metadata": {
        "id": "pvEkzJWdJTUs"
      },
      "source": [
        "# Data Acquisition & Cleaning\n",
        "\n",
        "Accessing and cleaning data is a crucial and often time-consuming step in data science.\n",
        "\n",
        "Data scientists might use pure Python, psndas, or other programming tools for this step. Examples here focus on pandas, with a few other approaches for specific scenarios.\n",
        "\n",
        "### Reading\n",
        "\n",
        "- McKinney, Chapters 6 - 7\n",
        "- https://www.detroitnews.com/story/news/local/detroit-city/housing/2020/01/09/detroit-homeowners-overtaxed-600-million/2698518001/\n",
        "- https://realpython.com/beautiful-soup-web-scraper-python/\n",
        "\n",
        "### Practice\n",
        "- https://www.datacamp.com/community/tutorials/making-web-crawlers-scrapy-python\n",
        "- https://www.datacamp.com/community/tutorials/python-regular-expression-tutorial\n",
        "- https://nbviewer.org/github/pydata/pydata-book/blob/2nd-edition/ch06.ipynb \n",
        "- https://nbviewer.org/github/pydata/pydata-book/blob/2nd-edition/ch07.ipynb\n",
        "\n",
        "### Learning Outcomes\n",
        "- Loading data files\n",
        "- Loading data from web APIs\n",
        "- Web scraping\n",
        "- Interacting with a database\n",
        "- Inspecting data with pandas\n",
        "- Data cleaning\n"
      ]
    },
    {
      "cell_type": "markdown",
      "metadata": {
        "id": "L1iFWoJEJYoo"
      },
      "source": [
        "## Loading data files\n",
        "\n",
        "pandas provides a number of built-in functions for reading tabular data from plain-text files into a dataframe, including these common formats:\n",
        "\n",
        "*   read_csv - comma-separated values (.csv files)\n",
        "*   read_table - values separated by defined character (eg .tsv files)\n",
        "*   read_fwf - fixed-width columns\n",
        "*   read_html\n",
        "*   read_json - JavaScript object notation\n",
        "*   read_excel - Excel XLS or XLSX files\n",
        "\n",
        "pandas' data-parsing functions support options for:\n",
        "- indexing (which columns to import and how to get column names)\n",
        "- type inference and data conversion\n",
        "- datetime parsing\n",
        "- iterating over chunks of very large files\n",
        "- handling unclean data\n"
      ]
    },
    {
      "cell_type": "code",
      "metadata": {
        "id": "CaLOztqcZR80",
        "outputId": "d81f8628-76a5-4f72-b07f-481e654e0244",
        "colab": {
          "base_uri": "https://localhost:8080/",
          "height": 270
        }
      },
      "source": [
        "import pandas as pd\n",
        "\n",
        "# view actual text file\n",
        "# !cat sample_data/california_housing_test.csv\n",
        "\n",
        "df = pd.read_csv('sample_data/california_housing_test.csv')\n",
        "df = pd.read_table('sample_data/california_housing_test.csv', sep=\",\")\n",
        "df.head()\n"
      ],
      "execution_count": 7,
      "outputs": [
        {
          "output_type": "execute_result",
          "data": {
            "text/html": [
              "\n",
              "  <div id=\"df-8f104f6d-87c2-4538-b629-f1e1957e3619\">\n",
              "    <div class=\"colab-df-container\">\n",
              "      <div>\n",
              "<style scoped>\n",
              "    .dataframe tbody tr th:only-of-type {\n",
              "        vertical-align: middle;\n",
              "    }\n",
              "\n",
              "    .dataframe tbody tr th {\n",
              "        vertical-align: top;\n",
              "    }\n",
              "\n",
              "    .dataframe thead th {\n",
              "        text-align: right;\n",
              "    }\n",
              "</style>\n",
              "<table border=\"1\" class=\"dataframe\">\n",
              "  <thead>\n",
              "    <tr style=\"text-align: right;\">\n",
              "      <th></th>\n",
              "      <th>longitude</th>\n",
              "      <th>latitude</th>\n",
              "      <th>housing_median_age</th>\n",
              "      <th>total_rooms</th>\n",
              "      <th>total_bedrooms</th>\n",
              "      <th>population</th>\n",
              "      <th>households</th>\n",
              "      <th>median_income</th>\n",
              "      <th>median_house_value</th>\n",
              "    </tr>\n",
              "  </thead>\n",
              "  <tbody>\n",
              "    <tr>\n",
              "      <th>0</th>\n",
              "      <td>-122.05</td>\n",
              "      <td>37.37</td>\n",
              "      <td>27.0</td>\n",
              "      <td>3885.0</td>\n",
              "      <td>661.0</td>\n",
              "      <td>1537.0</td>\n",
              "      <td>606.0</td>\n",
              "      <td>6.6085</td>\n",
              "      <td>344700.0</td>\n",
              "    </tr>\n",
              "    <tr>\n",
              "      <th>1</th>\n",
              "      <td>-118.30</td>\n",
              "      <td>34.26</td>\n",
              "      <td>43.0</td>\n",
              "      <td>1510.0</td>\n",
              "      <td>310.0</td>\n",
              "      <td>809.0</td>\n",
              "      <td>277.0</td>\n",
              "      <td>3.5990</td>\n",
              "      <td>176500.0</td>\n",
              "    </tr>\n",
              "    <tr>\n",
              "      <th>2</th>\n",
              "      <td>-117.81</td>\n",
              "      <td>33.78</td>\n",
              "      <td>27.0</td>\n",
              "      <td>3589.0</td>\n",
              "      <td>507.0</td>\n",
              "      <td>1484.0</td>\n",
              "      <td>495.0</td>\n",
              "      <td>5.7934</td>\n",
              "      <td>270500.0</td>\n",
              "    </tr>\n",
              "    <tr>\n",
              "      <th>3</th>\n",
              "      <td>-118.36</td>\n",
              "      <td>33.82</td>\n",
              "      <td>28.0</td>\n",
              "      <td>67.0</td>\n",
              "      <td>15.0</td>\n",
              "      <td>49.0</td>\n",
              "      <td>11.0</td>\n",
              "      <td>6.1359</td>\n",
              "      <td>330000.0</td>\n",
              "    </tr>\n",
              "    <tr>\n",
              "      <th>4</th>\n",
              "      <td>-119.67</td>\n",
              "      <td>36.33</td>\n",
              "      <td>19.0</td>\n",
              "      <td>1241.0</td>\n",
              "      <td>244.0</td>\n",
              "      <td>850.0</td>\n",
              "      <td>237.0</td>\n",
              "      <td>2.9375</td>\n",
              "      <td>81700.0</td>\n",
              "    </tr>\n",
              "  </tbody>\n",
              "</table>\n",
              "</div>\n",
              "      <button class=\"colab-df-convert\" onclick=\"convertToInteractive('df-8f104f6d-87c2-4538-b629-f1e1957e3619')\"\n",
              "              title=\"Convert this dataframe to an interactive table.\"\n",
              "              style=\"display:none;\">\n",
              "        \n",
              "  <svg xmlns=\"http://www.w3.org/2000/svg\" height=\"24px\"viewBox=\"0 0 24 24\"\n",
              "       width=\"24px\">\n",
              "    <path d=\"M0 0h24v24H0V0z\" fill=\"none\"/>\n",
              "    <path d=\"M18.56 5.44l.94 2.06.94-2.06 2.06-.94-2.06-.94-.94-2.06-.94 2.06-2.06.94zm-11 1L8.5 8.5l.94-2.06 2.06-.94-2.06-.94L8.5 2.5l-.94 2.06-2.06.94zm10 10l.94 2.06.94-2.06 2.06-.94-2.06-.94-.94-2.06-.94 2.06-2.06.94z\"/><path d=\"M17.41 7.96l-1.37-1.37c-.4-.4-.92-.59-1.43-.59-.52 0-1.04.2-1.43.59L10.3 9.45l-7.72 7.72c-.78.78-.78 2.05 0 2.83L4 21.41c.39.39.9.59 1.41.59.51 0 1.02-.2 1.41-.59l7.78-7.78 2.81-2.81c.8-.78.8-2.07 0-2.86zM5.41 20L4 18.59l7.72-7.72 1.47 1.35L5.41 20z\"/>\n",
              "  </svg>\n",
              "      </button>\n",
              "      \n",
              "  <style>\n",
              "    .colab-df-container {\n",
              "      display:flex;\n",
              "      flex-wrap:wrap;\n",
              "      gap: 12px;\n",
              "    }\n",
              "\n",
              "    .colab-df-convert {\n",
              "      background-color: #E8F0FE;\n",
              "      border: none;\n",
              "      border-radius: 50%;\n",
              "      cursor: pointer;\n",
              "      display: none;\n",
              "      fill: #1967D2;\n",
              "      height: 32px;\n",
              "      padding: 0 0 0 0;\n",
              "      width: 32px;\n",
              "    }\n",
              "\n",
              "    .colab-df-convert:hover {\n",
              "      background-color: #E2EBFA;\n",
              "      box-shadow: 0px 1px 2px rgba(60, 64, 67, 0.3), 0px 1px 3px 1px rgba(60, 64, 67, 0.15);\n",
              "      fill: #174EA6;\n",
              "    }\n",
              "\n",
              "    [theme=dark] .colab-df-convert {\n",
              "      background-color: #3B4455;\n",
              "      fill: #D2E3FC;\n",
              "    }\n",
              "\n",
              "    [theme=dark] .colab-df-convert:hover {\n",
              "      background-color: #434B5C;\n",
              "      box-shadow: 0px 1px 3px 1px rgba(0, 0, 0, 0.15);\n",
              "      filter: drop-shadow(0px 1px 2px rgba(0, 0, 0, 0.3));\n",
              "      fill: #FFFFFF;\n",
              "    }\n",
              "  </style>\n",
              "\n",
              "      <script>\n",
              "        const buttonEl =\n",
              "          document.querySelector('#df-8f104f6d-87c2-4538-b629-f1e1957e3619 button.colab-df-convert');\n",
              "        buttonEl.style.display =\n",
              "          google.colab.kernel.accessAllowed ? 'block' : 'none';\n",
              "\n",
              "        async function convertToInteractive(key) {\n",
              "          const element = document.querySelector('#df-8f104f6d-87c2-4538-b629-f1e1957e3619');\n",
              "          const dataTable =\n",
              "            await google.colab.kernel.invokeFunction('convertToInteractive',\n",
              "                                                     [key], {});\n",
              "          if (!dataTable) return;\n",
              "\n",
              "          const docLinkHtml = 'Like what you see? Visit the ' +\n",
              "            '<a target=\"_blank\" href=https://colab.research.google.com/notebooks/data_table.ipynb>data table notebook</a>'\n",
              "            + ' to learn more about interactive tables.';\n",
              "          element.innerHTML = '';\n",
              "          dataTable['output_type'] = 'display_data';\n",
              "          await google.colab.output.renderOutput(dataTable, element);\n",
              "          const docLink = document.createElement('div');\n",
              "          docLink.innerHTML = docLinkHtml;\n",
              "          element.appendChild(docLink);\n",
              "        }\n",
              "      </script>\n",
              "    </div>\n",
              "  </div>\n",
              "  "
            ],
            "text/plain": [
              "   longitude  latitude  ...  median_income  median_house_value\n",
              "0    -122.05     37.37  ...         6.6085            344700.0\n",
              "1    -118.30     34.26  ...         3.5990            176500.0\n",
              "2    -117.81     33.78  ...         5.7934            270500.0\n",
              "3    -118.36     33.82  ...         6.1359            330000.0\n",
              "4    -119.67     36.33  ...         2.9375             81700.0\n",
              "\n",
              "[5 rows x 9 columns]"
            ]
          },
          "metadata": {},
          "execution_count": 7
        }
      ]
    },
    {
      "cell_type": "markdown",
      "metadata": {
        "id": "yhHE02VbaA63"
      },
      "source": [
        "#### Common options:\n",
        "\n",
        "- handle files with no header\n",
        "- set a specific column as the dataframe index\n",
        "- set a hierarchichal index\n",
        "- skip specific rows\n",
        "- attempt to parse dates\n",
        "\n",
        "#### missing values\n",
        "\n",
        "pandas recognizes common strings for missing data, such as `NA` and `NULL`. \n",
        "\n",
        "Programs can also specify values to treat as missing and can use different values for different columns.\n",
        "\n"
      ]
    },
    {
      "cell_type": "markdown",
      "metadata": {
        "id": "1jdOZmrnj3DT"
      },
      "source": [
        "#### Reading files in parts\n",
        "\n",
        "It sometimes makes sense to read part of a large file or iterate through it in small chunks.\n",
        "\n",
        "- `nrows` to read a small number or rows\n",
        "- `chunksize` to return a text parser object for iteration\n",
        "- using python's csv library:\n",
        "\n",
        "\n",
        "```\n",
        "# using python csv reader\n",
        "import csv\n",
        "f = open.('FILENAME')\n",
        "reader = csv.reader(f)\n",
        "for line in reader:\n",
        "  # operate on each line\n",
        "```\n",
        "\n",
        "\n"
      ]
    },
    {
      "cell_type": "markdown",
      "metadata": {
        "id": "_zZTNWPOkGCR"
      },
      "source": [
        "### Loading JSON Data\n",
        "\n",
        "Programs can load JSON data with core python:\n",
        "\n",
        "```\n",
        "import json\n",
        "data = json.loads(FILENAME) # read JSON file into python object\n",
        "jsonfile = json.dumps(PYTHON_OBJECT) # convert python object to JSON\n",
        "```\n",
        "or with pandas `read_json` method. By default, `pandas.read_json` assumes each object in a JSON array is table row.\n",
        "\n"
      ]
    },
    {
      "cell_type": "code",
      "metadata": {
        "id": "nqCbnwdee2fK",
        "outputId": "f8a17a1d-446a-43f9-879b-7f6a4eeda791",
        "colab": {
          "base_uri": "https://localhost:8080/",
          "height": 204
        }
      },
      "source": [
        "import pandas as pd\n",
        "df = pd.read_json('sample_data/anscombe.json')\n",
        "df.head()\n"
      ],
      "execution_count": null,
      "outputs": [
        {
          "output_type": "execute_result",
          "data": {
            "text/html": [
              "<div>\n",
              "<style scoped>\n",
              "    .dataframe tbody tr th:only-of-type {\n",
              "        vertical-align: middle;\n",
              "    }\n",
              "\n",
              "    .dataframe tbody tr th {\n",
              "        vertical-align: top;\n",
              "    }\n",
              "\n",
              "    .dataframe thead th {\n",
              "        text-align: right;\n",
              "    }\n",
              "</style>\n",
              "<table border=\"1\" class=\"dataframe\">\n",
              "  <thead>\n",
              "    <tr style=\"text-align: right;\">\n",
              "      <th></th>\n",
              "      <th>Series</th>\n",
              "      <th>X</th>\n",
              "      <th>Y</th>\n",
              "    </tr>\n",
              "  </thead>\n",
              "  <tbody>\n",
              "    <tr>\n",
              "      <th>0</th>\n",
              "      <td>I</td>\n",
              "      <td>10</td>\n",
              "      <td>8.04</td>\n",
              "    </tr>\n",
              "    <tr>\n",
              "      <th>1</th>\n",
              "      <td>I</td>\n",
              "      <td>8</td>\n",
              "      <td>6.95</td>\n",
              "    </tr>\n",
              "    <tr>\n",
              "      <th>2</th>\n",
              "      <td>I</td>\n",
              "      <td>13</td>\n",
              "      <td>7.58</td>\n",
              "    </tr>\n",
              "    <tr>\n",
              "      <th>3</th>\n",
              "      <td>I</td>\n",
              "      <td>9</td>\n",
              "      <td>8.81</td>\n",
              "    </tr>\n",
              "    <tr>\n",
              "      <th>4</th>\n",
              "      <td>I</td>\n",
              "      <td>11</td>\n",
              "      <td>8.33</td>\n",
              "    </tr>\n",
              "  </tbody>\n",
              "</table>\n",
              "</div>"
            ],
            "text/plain": [
              "  Series   X     Y\n",
              "0      I  10  8.04\n",
              "1      I   8  6.95\n",
              "2      I  13  7.58\n",
              "3      I   9  8.81\n",
              "4      I  11  8.33"
            ]
          },
          "metadata": {
            "tags": []
          },
          "execution_count": 2
        }
      ]
    },
    {
      "cell_type": "markdown",
      "metadata": {
        "id": "B_Ek2p_J7NM_"
      },
      "source": [
        "### Loading Excel Data\n",
        "\n",
        "Programs can load data from Excel files using pure python with openpyxl, or with pandas' `ExcelFile` class or read_excel() method.\n",
        "\n",
        "```\n",
        "xlsx = pd.ExcelFile(FILENAME)\n",
        "pd.read_excel(xlsx, SHEETNAME)\n",
        "```"
      ]
    },
    {
      "cell_type": "markdown",
      "metadata": {
        "id": "Be6OuSNqpJgU"
      },
      "source": [
        "### Working with HTML\n",
        "\n",
        "pandas `read_html` method depends on several supporting libraries.\n",
        "\n",
        "```\n",
        "pip install lxml\n",
        "pip install beautifulsoup4 html5lib\n",
        "```\n",
        "\n",
        "By default it looks for & attempts to parse all TABLE elements in an HTML file."
      ]
    },
    {
      "cell_type": "markdown",
      "metadata": {
        "id": "stkYKkZXJeLT"
      },
      "source": [
        "## Loading Web data"
      ]
    },
    {
      "cell_type": "markdown",
      "metadata": {
        "id": "S6nAYbw4AZIj"
      },
      "source": [
        "Python programs can load data from web sites using a number of approaches, depending on:\n",
        "\n",
        "- whether data are available from an API\n",
        "- whether data are publicly available or behind authentication\n"
      ]
    },
    {
      "cell_type": "markdown",
      "metadata": {
        "id": "qINio3dtoCFg"
      },
      "source": [
        "### Web API integration\n",
        "\n",
        "When data are available from an API as structured data (e.g. JSON, XML, CSV), programs can fetch using libraries such as `requests`.\n"
      ]
    },
    {
      "cell_type": "code",
      "metadata": {
        "id": "BKY2U66UDuKE",
        "outputId": "35c45aad-8c53-47cd-d367-44984d91bd54",
        "colab": {
          "base_uri": "https://localhost:8080/",
          "height": 299
        }
      },
      "source": [
        "import requests\n",
        "url = 'https://data.seattle.gov/resource/jguv-t9rb.json'\n",
        "resp = requests.get(url)\n",
        "data = resp.json() # parse HTTP response\n",
        "licenses = pd.DataFrame(data)\n",
        "licenses.head()"
      ],
      "execution_count": null,
      "outputs": [
        {
          "output_type": "execute_result",
          "data": {
            "text/html": [
              "<div>\n",
              "<style scoped>\n",
              "    .dataframe tbody tr th:only-of-type {\n",
              "        vertical-align: middle;\n",
              "    }\n",
              "\n",
              "    .dataframe tbody tr th {\n",
              "        vertical-align: top;\n",
              "    }\n",
              "\n",
              "    .dataframe thead th {\n",
              "        text-align: right;\n",
              "    }\n",
              "</style>\n",
              "<table border=\"1\" class=\"dataframe\">\n",
              "  <thead>\n",
              "    <tr style=\"text-align: right;\">\n",
              "      <th></th>\n",
              "      <th>license_issue_date</th>\n",
              "      <th>license_number</th>\n",
              "      <th>species</th>\n",
              "      <th>primary_breed</th>\n",
              "      <th>zip_code</th>\n",
              "      <th>animal_s_name</th>\n",
              "      <th>secondary_breed</th>\n",
              "    </tr>\n",
              "  </thead>\n",
              "  <tbody>\n",
              "    <tr>\n",
              "      <th>0</th>\n",
              "      <td>2000-01-03T00:00:00.000</td>\n",
              "      <td>263574</td>\n",
              "      <td>Dog</td>\n",
              "      <td>Shepherd</td>\n",
              "      <td>98119</td>\n",
              "      <td>NaN</td>\n",
              "      <td>NaN</td>\n",
              "    </tr>\n",
              "    <tr>\n",
              "      <th>1</th>\n",
              "      <td>2000-01-05T00:00:00.000</td>\n",
              "      <td>119820</td>\n",
              "      <td>Dog</td>\n",
              "      <td>Retriever, Labrador</td>\n",
              "      <td>98106</td>\n",
              "      <td>Fancy</td>\n",
              "      <td>NaN</td>\n",
              "    </tr>\n",
              "    <tr>\n",
              "      <th>2</th>\n",
              "      <td>2000-01-06T00:00:00.000</td>\n",
              "      <td>10401</td>\n",
              "      <td>Dog</td>\n",
              "      <td>Siberian Husky</td>\n",
              "      <td>NaN</td>\n",
              "      <td>Skip</td>\n",
              "      <td>Mix</td>\n",
              "    </tr>\n",
              "    <tr>\n",
              "      <th>3</th>\n",
              "      <td>2000-01-12T00:00:00.000</td>\n",
              "      <td>941592</td>\n",
              "      <td>Dog</td>\n",
              "      <td>German Shepherd</td>\n",
              "      <td>98107</td>\n",
              "      <td>Kanga</td>\n",
              "      <td>NaN</td>\n",
              "    </tr>\n",
              "    <tr>\n",
              "      <th>4</th>\n",
              "      <td>2000-01-24T00:00:00.000</td>\n",
              "      <td>422763</td>\n",
              "      <td>Dog</td>\n",
              "      <td>Retriever, Golden</td>\n",
              "      <td>NaN</td>\n",
              "      <td>Oscar</td>\n",
              "      <td>NaN</td>\n",
              "    </tr>\n",
              "  </tbody>\n",
              "</table>\n",
              "</div>"
            ],
            "text/plain": [
              "        license_issue_date license_number  ... animal_s_name secondary_breed\n",
              "0  2000-01-03T00:00:00.000         263574  ...           NaN             NaN\n",
              "1  2000-01-05T00:00:00.000         119820  ...         Fancy             NaN\n",
              "2  2000-01-06T00:00:00.000          10401  ...          Skip             Mix\n",
              "3  2000-01-12T00:00:00.000         941592  ...         Kanga             NaN\n",
              "4  2000-01-24T00:00:00.000         422763  ...         Oscar             NaN\n",
              "\n",
              "[5 rows x 7 columns]"
            ]
          },
          "metadata": {
            "tags": []
          },
          "execution_count": 6
        }
      ]
    },
    {
      "cell_type": "markdown",
      "metadata": {
        "id": "mX-C4SqtJncE"
      },
      "source": [
        "### Web scraping\n",
        "\n",
        "Sometimes data are available on the internet, but not as structured data. So programs need to capture a full web page and then extract just the desired data.\n",
        "\n",
        "Two widely used python libraries are:\n",
        "\n",
        "- [BeautifulSoup](https://www.crummy.com/software/BeautifulSoup/bs4/doc/) - easy to use but requires other supporting libraries.\n",
        "- [Scrapy](https://scrapy.org/) - complete package & optimal for large, complicated tasks"
      ]
    },
    {
      "cell_type": "code",
      "source": [
        "\n",
        "import requests\n",
        "from bs4 import BeautifulSoup\n",
        "\n",
        "url = 'https://fortress.wa.gov/esd/file/warn/Public/SearchWARN.aspx'\n",
        "resp = requests.get(url)\n",
        "data = resp.text # parse HTTP response\n",
        "\n",
        "soup = BeautifulSoup(data, 'html.parser')\n",
        "table = soup.find(id=\"ucPSW_gvMain\")\n",
        "# remove pagination row\n",
        "table.find('tr', bgcolor=\"#E6F2F9\").decompose()\n",
        "\n",
        "df = pd.read_html(str(table))[0]\n",
        "df.head(10)\n",
        "\n"
      ],
      "metadata": {
        "id": "H5gAiu2xM4fA",
        "outputId": "b718d938-f2e3-43e7-a328-8863acff8489",
        "colab": {
          "base_uri": "https://localhost:8080/",
          "height": 459
        }
      },
      "execution_count": 35,
      "outputs": [
        {
          "output_type": "execute_result",
          "data": {
            "text/html": [
              "\n",
              "  <div id=\"df-34b07c31-1e9f-419e-9076-35214d3bf832\">\n",
              "    <div class=\"colab-df-container\">\n",
              "      <div>\n",
              "<style scoped>\n",
              "    .dataframe tbody tr th:only-of-type {\n",
              "        vertical-align: middle;\n",
              "    }\n",
              "\n",
              "    .dataframe tbody tr th {\n",
              "        vertical-align: top;\n",
              "    }\n",
              "\n",
              "    .dataframe thead th {\n",
              "        text-align: right;\n",
              "    }\n",
              "</style>\n",
              "<table border=\"1\" class=\"dataframe\">\n",
              "  <thead>\n",
              "    <tr style=\"text-align: right;\">\n",
              "      <th></th>\n",
              "      <th>Company</th>\n",
              "      <th>Location</th>\n",
              "      <th>Layoff Start Date</th>\n",
              "      <th># of Workers</th>\n",
              "      <th>Closure Layoff</th>\n",
              "      <th>Type of Layoff</th>\n",
              "      <th>Received Date</th>\n",
              "    </tr>\n",
              "  </thead>\n",
              "  <tbody>\n",
              "    <tr>\n",
              "      <th>0</th>\n",
              "      <td>Outdoor Research</td>\n",
              "      <td>Seattle</td>\n",
              "      <td>3/7/2022</td>\n",
              "      <td>55</td>\n",
              "      <td>Layoff</td>\n",
              "      <td>Temporary</td>\n",
              "      <td>1/6/2022</td>\n",
              "    </tr>\n",
              "    <tr>\n",
              "      <th>1</th>\n",
              "      <td>Monitronics International, Inc. d/b/a Brinks Home</td>\n",
              "      <td>Seattle, Tacoma, Snoqualmie, Spokane</td>\n",
              "      <td>12/17/2021</td>\n",
              "      <td>4</td>\n",
              "      <td>Layoff</td>\n",
              "      <td>Permanent</td>\n",
              "      <td>12/16/2021</td>\n",
              "    </tr>\n",
              "    <tr>\n",
              "      <th>2</th>\n",
              "      <td>Watsonville Community Hospital</td>\n",
              "      <td>Prosser</td>\n",
              "      <td>1/28/2022</td>\n",
              "      <td>1</td>\n",
              "      <td>Closure</td>\n",
              "      <td>Permanent</td>\n",
              "      <td>11/26/2021</td>\n",
              "    </tr>\n",
              "    <tr>\n",
              "      <th>3</th>\n",
              "      <td>BitTitan, Inc</td>\n",
              "      <td>Bellevue</td>\n",
              "      <td>1/14/2022</td>\n",
              "      <td>70</td>\n",
              "      <td>Layoff</td>\n",
              "      <td>Permanent</td>\n",
              "      <td>11/17/2021</td>\n",
              "    </tr>\n",
              "    <tr>\n",
              "      <th>4</th>\n",
              "      <td>Zillow Group</td>\n",
              "      <td>Seattle</td>\n",
              "      <td>1/3/2022</td>\n",
              "      <td>47</td>\n",
              "      <td>Layoff</td>\n",
              "      <td>Permanent</td>\n",
              "      <td>11/4/2021</td>\n",
              "    </tr>\n",
              "    <tr>\n",
              "      <th>5</th>\n",
              "      <td>Foss Maritime Company</td>\n",
              "      <td>Seattle</td>\n",
              "      <td>12/29/2021</td>\n",
              "      <td>115</td>\n",
              "      <td>Closure</td>\n",
              "      <td>Permanent</td>\n",
              "      <td>10/29/2021</td>\n",
              "    </tr>\n",
              "    <tr>\n",
              "      <th>6</th>\n",
              "      <td>Stadelman Fruit Company</td>\n",
              "      <td>Zillah</td>\n",
              "      <td>8/31/2021</td>\n",
              "      <td>120</td>\n",
              "      <td>Closure</td>\n",
              "      <td>Permanent</td>\n",
              "      <td>7/26/2021</td>\n",
              "    </tr>\n",
              "    <tr>\n",
              "      <th>7</th>\n",
              "      <td>Xevo, Inc</td>\n",
              "      <td>Bellevue</td>\n",
              "      <td>7/7/2021</td>\n",
              "      <td>173</td>\n",
              "      <td>Layoff</td>\n",
              "      <td>Permanent</td>\n",
              "      <td>7/7/2021</td>\n",
              "    </tr>\n",
              "    <tr>\n",
              "      <th>8</th>\n",
              "      <td>Katerra</td>\n",
              "      <td>Seattle</td>\n",
              "      <td>7/8/2021</td>\n",
              "      <td>1</td>\n",
              "      <td>Closure</td>\n",
              "      <td>Permanent</td>\n",
              "      <td>7/2/2021</td>\n",
              "    </tr>\n",
              "    <tr>\n",
              "      <th>9</th>\n",
              "      <td>Katerra</td>\n",
              "      <td>Seattle</td>\n",
              "      <td>6/4/2021</td>\n",
              "      <td>117</td>\n",
              "      <td>Closure</td>\n",
              "      <td>Permanent</td>\n",
              "      <td>6/1/2021</td>\n",
              "    </tr>\n",
              "  </tbody>\n",
              "</table>\n",
              "</div>\n",
              "      <button class=\"colab-df-convert\" onclick=\"convertToInteractive('df-34b07c31-1e9f-419e-9076-35214d3bf832')\"\n",
              "              title=\"Convert this dataframe to an interactive table.\"\n",
              "              style=\"display:none;\">\n",
              "        \n",
              "  <svg xmlns=\"http://www.w3.org/2000/svg\" height=\"24px\"viewBox=\"0 0 24 24\"\n",
              "       width=\"24px\">\n",
              "    <path d=\"M0 0h24v24H0V0z\" fill=\"none\"/>\n",
              "    <path d=\"M18.56 5.44l.94 2.06.94-2.06 2.06-.94-2.06-.94-.94-2.06-.94 2.06-2.06.94zm-11 1L8.5 8.5l.94-2.06 2.06-.94-2.06-.94L8.5 2.5l-.94 2.06-2.06.94zm10 10l.94 2.06.94-2.06 2.06-.94-2.06-.94-.94-2.06-.94 2.06-2.06.94z\"/><path d=\"M17.41 7.96l-1.37-1.37c-.4-.4-.92-.59-1.43-.59-.52 0-1.04.2-1.43.59L10.3 9.45l-7.72 7.72c-.78.78-.78 2.05 0 2.83L4 21.41c.39.39.9.59 1.41.59.51 0 1.02-.2 1.41-.59l7.78-7.78 2.81-2.81c.8-.78.8-2.07 0-2.86zM5.41 20L4 18.59l7.72-7.72 1.47 1.35L5.41 20z\"/>\n",
              "  </svg>\n",
              "      </button>\n",
              "      \n",
              "  <style>\n",
              "    .colab-df-container {\n",
              "      display:flex;\n",
              "      flex-wrap:wrap;\n",
              "      gap: 12px;\n",
              "    }\n",
              "\n",
              "    .colab-df-convert {\n",
              "      background-color: #E8F0FE;\n",
              "      border: none;\n",
              "      border-radius: 50%;\n",
              "      cursor: pointer;\n",
              "      display: none;\n",
              "      fill: #1967D2;\n",
              "      height: 32px;\n",
              "      padding: 0 0 0 0;\n",
              "      width: 32px;\n",
              "    }\n",
              "\n",
              "    .colab-df-convert:hover {\n",
              "      background-color: #E2EBFA;\n",
              "      box-shadow: 0px 1px 2px rgba(60, 64, 67, 0.3), 0px 1px 3px 1px rgba(60, 64, 67, 0.15);\n",
              "      fill: #174EA6;\n",
              "    }\n",
              "\n",
              "    [theme=dark] .colab-df-convert {\n",
              "      background-color: #3B4455;\n",
              "      fill: #D2E3FC;\n",
              "    }\n",
              "\n",
              "    [theme=dark] .colab-df-convert:hover {\n",
              "      background-color: #434B5C;\n",
              "      box-shadow: 0px 1px 3px 1px rgba(0, 0, 0, 0.15);\n",
              "      filter: drop-shadow(0px 1px 2px rgba(0, 0, 0, 0.3));\n",
              "      fill: #FFFFFF;\n",
              "    }\n",
              "  </style>\n",
              "\n",
              "      <script>\n",
              "        const buttonEl =\n",
              "          document.querySelector('#df-34b07c31-1e9f-419e-9076-35214d3bf832 button.colab-df-convert');\n",
              "        buttonEl.style.display =\n",
              "          google.colab.kernel.accessAllowed ? 'block' : 'none';\n",
              "\n",
              "        async function convertToInteractive(key) {\n",
              "          const element = document.querySelector('#df-34b07c31-1e9f-419e-9076-35214d3bf832');\n",
              "          const dataTable =\n",
              "            await google.colab.kernel.invokeFunction('convertToInteractive',\n",
              "                                                     [key], {});\n",
              "          if (!dataTable) return;\n",
              "\n",
              "          const docLinkHtml = 'Like what you see? Visit the ' +\n",
              "            '<a target=\"_blank\" href=https://colab.research.google.com/notebooks/data_table.ipynb>data table notebook</a>'\n",
              "            + ' to learn more about interactive tables.';\n",
              "          element.innerHTML = '';\n",
              "          dataTable['output_type'] = 'display_data';\n",
              "          await google.colab.output.renderOutput(dataTable, element);\n",
              "          const docLink = document.createElement('div');\n",
              "          docLink.innerHTML = docLinkHtml;\n",
              "          element.appendChild(docLink);\n",
              "        }\n",
              "      </script>\n",
              "    </div>\n",
              "  </div>\n",
              "  "
            ],
            "text/plain": [
              "                                             Company  ... Received Date\n",
              "0                                   Outdoor Research  ...      1/6/2022\n",
              "1  Monitronics International, Inc. d/b/a Brinks Home  ...    12/16/2021\n",
              "2                     Watsonville Community Hospital  ...    11/26/2021\n",
              "3                                      BitTitan, Inc  ...    11/17/2021\n",
              "4                                       Zillow Group  ...     11/4/2021\n",
              "5                              Foss Maritime Company  ...    10/29/2021\n",
              "6                            Stadelman Fruit Company  ...     7/26/2021\n",
              "7                                          Xevo, Inc  ...      7/7/2021\n",
              "8                                            Katerra  ...      7/2/2021\n",
              "9                                            Katerra  ...      6/1/2021\n",
              "\n",
              "[10 rows x 7 columns]"
            ]
          },
          "metadata": {},
          "execution_count": 35
        }
      ]
    },
    {
      "cell_type": "markdown",
      "metadata": {
        "id": "4hO-ArOUJzDi"
      },
      "source": [
        "## Data cleaning\n",
        "\n",
        "- handling dates\n",
        "- type conversion\n"
      ]
    },
    {
      "cell_type": "markdown",
      "metadata": {
        "id": "4yriT0CTxT-J"
      },
      "source": [
        "### Handling missing data\n",
        "\n",
        "Often data analysts need to account for missing data values.\n",
        "\n",
        "pandas uses the floating-point value NaN (Not a Number) to represent missing numerica data. This is a **sentinel** value that can be easily detected.\n",
        "\n",
        "The built-in Python `None` value is also treated as NA.\n",
        "\n",
        "pandas has several methods for detecting `NaN` values in a Series or DataFrame:\n",
        "- isnull\n",
        "- notnull\n",
        "\n",
        "These methods can be used as filters in a data query.\n",
        "\n",
        "`data[data.notnull()]`\n",
        "\n",
        "Alternatively, programs can use `dropna` to filter axis labels where values may have missing data. \n",
        "\n",
        "`dropna` has options to control how many missing values a row or column should have to be dropped.\n",
        "\n",
        "**replace missing values**\n",
        "Sometimes it's more useful to replace missing data with a specific or interpreted value, using `fillna`.\n",
        "\n",
        "`fillna` can use a function to determine fill value.\n",
        "\n",
        "`fillna` returns a new object, but has an `inplace` option.\n"
      ]
    },
    {
      "cell_type": "markdown",
      "metadata": {
        "id": "DY_Vd8j0xyG-"
      },
      "source": [
        "### Transforming data\n",
        "\n",
        "- **removing duplicates** - DataFrames have built-in methods to identify which rows are `duplicated` and to `drop_duplicates`. By default, these methods consider all columns, but programs can specify a subset.\n",
        "\n",
        "- **transformation functions** - programs can use the Series **map** method to perform element-wise operations on transformations.\n",
        "\n",
        "- **replacing values** - the replace() method is a simple approach for replacing values in a pandas object.\n",
        "\n",
        "- **transforming indexes** - pandas dataset indexes  support **map()** operations to produce new objects with different labels. **replace()** is useful for simple index changes.\n",
        "\n",
        "- **handling outliers** - programs may want to find & replace or filter values that exceed some threshold.\n"
      ]
    },
    {
      "cell_type": "markdown",
      "metadata": {
        "id": "hqmrcUaUlxaY"
      },
      "source": [
        "#### Binning\n",
        "\n",
        "Sometimes it's necessary to separate continuous data into bins or groups for analysis.\n",
        "\n",
        "pandas `cut()` method supports binning operations, including:\n",
        "\n",
        "- dividing data into specific bins based on value ranges\n",
        "- dividing data into equal-size bins\n",
        "- assigning bin names\n",
        "- determining which side of a bin is open or closed\n",
        "\n",
        "pandas also provides `qcut()` to bin data based on sample quantiles."
      ]
    },
    {
      "cell_type": "code",
      "metadata": {
        "id": "h54tZnR7nLUb"
      },
      "source": [
        ""
      ],
      "execution_count": null,
      "outputs": []
    },
    {
      "cell_type": "markdown",
      "metadata": {
        "id": "sqbfVX2-oP1o"
      },
      "source": [
        "#### Indicator/Dummy variables\n",
        "\n",
        "It's often necessary to convert a categorical variable into a `dummy` or `indicator` matrix for statistical modeling.\n",
        "\n",
        "`get_dummies()` returns a matrix with one row for each value in a Series and a column for each distinct category value. \n",
        "\n",
        "The matrix value is 1 where the Series value at a given index matches the category and 0 otherwise."
      ]
    },
    {
      "cell_type": "code",
      "metadata": {
        "id": "ICsxsQkxo2Di",
        "outputId": "16b5c6bf-17a8-4113-931a-296cff40f4e6",
        "colab": {
          "base_uri": "https://localhost:8080/",
          "height": 235
        }
      },
      "source": [
        "df = pd.DataFrame({'key': ['b', 'b', 'a', 'c', 'a', 'b'], 'data1': range(6)})\n",
        "pd.get_dummies(df['key'])"
      ],
      "execution_count": null,
      "outputs": [
        {
          "output_type": "execute_result",
          "data": {
            "text/html": [
              "<div>\n",
              "<style scoped>\n",
              "    .dataframe tbody tr th:only-of-type {\n",
              "        vertical-align: middle;\n",
              "    }\n",
              "\n",
              "    .dataframe tbody tr th {\n",
              "        vertical-align: top;\n",
              "    }\n",
              "\n",
              "    .dataframe thead th {\n",
              "        text-align: right;\n",
              "    }\n",
              "</style>\n",
              "<table border=\"1\" class=\"dataframe\">\n",
              "  <thead>\n",
              "    <tr style=\"text-align: right;\">\n",
              "      <th></th>\n",
              "      <th>a</th>\n",
              "      <th>b</th>\n",
              "      <th>c</th>\n",
              "    </tr>\n",
              "  </thead>\n",
              "  <tbody>\n",
              "    <tr>\n",
              "      <th>0</th>\n",
              "      <td>0</td>\n",
              "      <td>1</td>\n",
              "      <td>0</td>\n",
              "    </tr>\n",
              "    <tr>\n",
              "      <th>1</th>\n",
              "      <td>0</td>\n",
              "      <td>1</td>\n",
              "      <td>0</td>\n",
              "    </tr>\n",
              "    <tr>\n",
              "      <th>2</th>\n",
              "      <td>1</td>\n",
              "      <td>0</td>\n",
              "      <td>0</td>\n",
              "    </tr>\n",
              "    <tr>\n",
              "      <th>3</th>\n",
              "      <td>0</td>\n",
              "      <td>0</td>\n",
              "      <td>1</td>\n",
              "    </tr>\n",
              "    <tr>\n",
              "      <th>4</th>\n",
              "      <td>1</td>\n",
              "      <td>0</td>\n",
              "      <td>0</td>\n",
              "    </tr>\n",
              "    <tr>\n",
              "      <th>5</th>\n",
              "      <td>0</td>\n",
              "      <td>1</td>\n",
              "      <td>0</td>\n",
              "    </tr>\n",
              "  </tbody>\n",
              "</table>\n",
              "</div>"
            ],
            "text/plain": [
              "   a  b  c\n",
              "0  0  1  0\n",
              "1  0  1  0\n",
              "2  1  0  0\n",
              "3  0  0  1\n",
              "4  1  0  0\n",
              "5  0  1  0"
            ]
          },
          "metadata": {
            "tags": []
          },
          "execution_count": 3
        }
      ]
    },
    {
      "cell_type": "markdown",
      "metadata": {
        "id": "SmK_WZCLnmVB"
      },
      "source": [
        ""
      ]
    },
    {
      "cell_type": "markdown",
      "metadata": {
        "id": "ZjMuGNj5yqve"
      },
      "source": [
        "### String manipulation\n",
        "\n",
        "- string methods - python has a wide range of built-in string methods. Some common ones are:\n",
        "  - **split** - generate an array of substrings from a string based on a delimiter\n",
        "  - **lowercase** - convert a string to lower case\n",
        "  - **uppercase** - convert a string to upper case\n",
        "  - **join** - combine strings with a delimiter\n",
        "  - **index** - determine where in a string a substring is first found\n",
        "  - **find** - determine if a string contains a substring\n",
        "  - **count** - number of occurences of a substring in a string\n",
        "  - **replace** - substitute occurrences of one pattern with another.\n",
        "\n",
        "\n",
        "**Regular Expressions** provide a (mostly) language-agnostic logical syntax for finding/matching string patterns in text.\n",
        "\n",
        "`regex` patterns can be applied to strings with python's [re module](https://docs.python.org/3/library/re.html).\n"
      ]
    },
    {
      "cell_type": "code",
      "metadata": {
        "id": "QlCwpUXYszk2",
        "outputId": "6cee5920-16a0-428b-a18c-699407738943",
        "colab": {
          "base_uri": "https://localhost:8080/",
          "height": 34
        }
      },
      "source": [
        "import re\n",
        "text = \"foo    bar\\t baz  \\tqux\"\n",
        "\n",
        "# inline regex pattern\n",
        "re.split('\\s+', text)\n",
        "\n",
        "# reusable regex object\n",
        "regex = re.compile('\\s+')\n",
        "regex.split(text)"
      ],
      "execution_count": null,
      "outputs": [
        {
          "output_type": "execute_result",
          "data": {
            "text/plain": [
              "['foo', 'bar', 'baz', 'qux']"
            ]
          },
          "metadata": {
            "tags": []
          },
          "execution_count": 5
        }
      ]
    },
    {
      "cell_type": "markdown",
      "metadata": {
        "id": "clSV0rUItx7E"
      },
      "source": [
        "**vectorized string functions**\n",
        "\n",
        "pandas Series has array-oriented methods for string operations that will skip `NA` values."
      ]
    },
    {
      "cell_type": "code",
      "metadata": {
        "id": "qw87LDwEh_mf",
        "outputId": "34d188b6-6eca-4fb1-8c54-66f6c384d2e8",
        "colab": {
          "base_uri": "https://localhost:8080/",
          "height": 34
        }
      },
      "source": [
        "name = \"Bob\"\n",
        "name[1:]"
      ],
      "execution_count": null,
      "outputs": [
        {
          "output_type": "execute_result",
          "data": {
            "text/plain": [
              "'ob'"
            ]
          },
          "metadata": {
            "tags": []
          },
          "execution_count": 9
        }
      ]
    },
    {
      "cell_type": "markdown",
      "source": [
        "## Writing Data Files\n",
        "\n",
        "Pandas can export data to various file formats:\n",
        "\n",
        "- to_csv   - to a text file w/ defined separator\n",
        "- to_excel - to Excel file\n",
        "- to_json  - to JSON\n",
        "- to_html  - to HTML\n"
      ],
      "metadata": {
        "id": "48kJ4ebJGeCy"
      }
    },
    {
      "cell_type": "code",
      "source": [
        "df1 = pd.DataFrame([['a', 'b'], ['c', 'd']],\n",
        "                   index=['row 1', 'row 2'],\n",
        "                   columns=['col 1', 'col 2'])\n",
        "df1.to_excel(\"output.xlsx\")  \n",
        "df1.to_json(\"output.json\")"
      ],
      "metadata": {
        "id": "oU3zm2o-IVwu"
      },
      "execution_count": 9,
      "outputs": []
    }
  ]
}
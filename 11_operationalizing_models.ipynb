{
  "nbformat": 4,
  "nbformat_minor": 0,
  "metadata": {
    "colab": {
      "name": "11_operationalizing_models.ipynb",
      "provenance": [],
      "collapsed_sections": [],
      "authorship_tag": "ABX9TyNdNeIJXYSjQ/OaZl6ZVUmQ",
      "include_colab_link": true
    },
    "kernelspec": {
      "name": "python3",
      "display_name": "Python 3"
    }
  },
  "cells": [
    {
      "cell_type": "markdown",
      "metadata": {
        "id": "view-in-github",
        "colab_type": "text"
      },
      "source": [
        "<a href=\"https://colab.research.google.com/github/brendenwest/ad450/blob/master/11_operationalizing_models.ipynb\" target=\"_parent\"><img src=\"https://colab.research.google.com/assets/colab-badge.svg\" alt=\"Open In Colab\"/></a>"
      ]
    },
    {
      "cell_type": "markdown",
      "metadata": {
        "id": "k8-tzddBcHn5"
      },
      "source": [
        "# Operationalizing Machine Learning (ML) Models\n",
        "\n",
        "### Reading\n",
        "- https://builtin.com/machine-learning/mlops \n",
        "- https://cloud.google.com/architecture/mlops-continuous-delivery-and-automation-pipelines-in-machine-learning \n",
        "- https://towardsdatascience.com/develop-a-nlp-model-in-python-deploy-it-with-flask-step-by-step-744f3bdd7776\n",
        "- https://machinelearningmastery.com/save-load-machine-learning-models-python-scikit-learn/\n",
        "- https://www.digitalocean.com/community/tutorials/how-to-build-and-deploy-a-flask-application-using-docker-on-ubuntu-18-04\n",
        "- https://aws.amazon.com/getting-started/hands-on/serve-a-flask-app/\n",
        "\n",
        "\n",
        "### Tutorials\n",
        "- https://github.com/brendenwest/flask_demo\n",
        "\n",
        "A typical ML workflow involves these steps:\n",
        "\n",
        "1. Train model offline\n",
        "1. Save model as binary file\n",
        "1. Deploy model to production\n",
        "1. Expose model as a RESTful web service\n",
        "1. Monitor model performance and drift\n",
        "1. Deploy updated model as needed\n",
        "\n",
        "**Operationalization** refers to everything after step 1 - production deployment & tuning of predictive models.\n",
        "\n",
        "Actual steps & technologies one might use for operationalizing ML models will vary, but some key technologies are Docker, Flask, AWS Sagemaker, & TensorFlow Serving.\n",
        "\n",
        "**MLOps** is an extension of DevOps principles (tooling & automation) to ML operationalization. A key difference between them is MLOps deals with the issues presented by real-world data & the effects on model behavior in production.\n",
        "\n",
        "As such it calls on software engineering, dta engineering, and DevOps skills.\n",
        "\n",
        "\n",
        "\n"
      ]
    },
    {
      "cell_type": "markdown",
      "metadata": {
        "id": "NRUnArFuc7oG"
      },
      "source": [
        "## Saving Models\n",
        "\n",
        "**Pickle** is the standard way of serializing objects in Python, and a common approach for saving machine learning model to a file.\n",
        "\n",
        "Later you can load this file to deserialize your model and use it to make new predictions.\n"
      ]
    },
    {
      "cell_type": "markdown",
      "metadata": {
        "id": "IsrmsuX9cag6"
      },
      "source": [
        "## Docker\n",
        "\n",
        "Docker is a virtualization technology ideal for deploying applications in an isolated, portable container for reproducibility. Ensures model runs in a controlled environment unaffected by changes in dependencies.\n",
        "\n",
        "https://www.docker.com/get-started"
      ]
    },
    {
      "cell_type": "markdown",
      "metadata": {
        "id": "UtenQLISjwim"
      },
      "source": [
        "## Flask\n",
        "\n",
        "Flask is a very lightweight Python-based web-app framework. It's flexibility & minimal requirements make Flask attractive for data science API endpoints.\n",
        "\n",
        "- https://flask.palletsprojects.com/en/1.1.x/\n"
      ]
    }
  ]
}
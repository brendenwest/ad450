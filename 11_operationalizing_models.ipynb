{
  "nbformat": 4,
  "nbformat_minor": 0,
  "metadata": {
    "colab": {
      "name": "11_operationalizing_models.ipynb",
      "provenance": [],
      "collapsed_sections": [],
      "authorship_tag": "ABX9TyOmkrSpmKGUFnw9McsG7gIU",
      "include_colab_link": true
    },
    "kernelspec": {
      "name": "python3",
      "display_name": "Python 3"
    }
  },
  "cells": [
    {
      "cell_type": "markdown",
      "metadata": {
        "id": "view-in-github",
        "colab_type": "text"
      },
      "source": [
        "<a href=\"https://colab.research.google.com/github/brendenwest/ad450/blob/master/11_operationalizing_models.ipynb\" target=\"_parent\"><img src=\"https://colab.research.google.com/assets/colab-badge.svg\" alt=\"Open In Colab\"/></a>"
      ]
    },
    {
      "cell_type": "markdown",
      "metadata": {
        "id": "k8-tzddBcHn5",
        "colab_type": "text"
      },
      "source": [
        "# Operationalizing Machine Learning Models\n",
        "\n",
        "### Reading\n",
        "- https://towardsdatascience.com/develop-a-nlp-model-in-python-deploy-it-with-flask-step-by-step-744f3bdd7776\n",
        "- https://flask.palletsprojects.com/en/1.1.x/\n",
        "- https://www.digitalocean.com/community/tutorials/how-to-build-and-deploy-a-flask-application-using-docker-on-ubuntu-18-04\n",
        "\n",
        "A typical ML workflow is:\n",
        "\n",
        "1. Train model offline\n",
        "2. Save model as binary file\n",
        "3. Deploy model to production\n",
        "4. Expose model as a RESTful web service\n",
        "5. Deploy updated model as needed\n",
        "\n",
        "**Operationalization** refers to steps 2-4 - the deployment of models to be consumed by business applications for predictive purposes.\n",
        "\n",
        "Actual steps & technologies one might use for operationalizing ML models will vary, but some key technologies are Docker, Flask, AWS Sagemaker, & TensorFlow Serving.\n",
        "\n",
        "\n"
      ]
    },
    {
      "cell_type": "markdown",
      "metadata": {
        "id": "IsrmsuX9cag6",
        "colab_type": "text"
      },
      "source": [
        "## Docker\n",
        "\n",
        "Docker is a virtualization technology ideal for deploying applications in an isolated, portable container for reproducibility. Ensures model runs in a controlled environment unaffected by changes in dependencies.\n",
        "\n",
        "https://www.docker.com/get-started"
      ]
    },
    {
      "cell_type": "markdown",
      "metadata": {
        "id": "UtenQLISjwim",
        "colab_type": "text"
      },
      "source": [
        "## Flask\n",
        "\n",
        "Flask is a very lightweight web-app framework built on Python that does not require specific tools or plug-ins to run. It's flexibility & minimal requirements make Flask attractive for data science API endpoints."
      ]
    }
  ]
}
{
  "nbformat": 4,
  "nbformat_minor": 0,
  "metadata": {
    "colab": {
      "name": "7_ml_regression.ipynb",
      "provenance": [],
      "collapsed_sections": [],
      "toc_visible": true,
      "include_colab_link": true
    },
    "kernelspec": {
      "name": "python3",
      "display_name": "Python 3"
    }
  },
  "cells": [
    {
      "cell_type": "markdown",
      "metadata": {
        "id": "view-in-github",
        "colab_type": "text"
      },
      "source": [
        "<a href=\"https://colab.research.google.com/github/brendenwest/ad450/blob/master/7_ml_regression.ipynb\" target=\"_parent\"><img src=\"https://colab.research.google.com/assets/colab-badge.svg\" alt=\"Open In Colab\"/></a>"
      ]
    },
    {
      "cell_type": "markdown",
      "metadata": {
        "id": "Uy-_gSjBPelf"
      },
      "source": [
        "# Machine Learning with Regression \n",
        "\n",
        "### Reading\n",
        "- Géron - Chapters 2 & 4\n",
        "- https://towardsdatascience.com/simple-and-multiple-linear-regression-in-python-c928425168f9\n",
        "- https://www.inferentialthinking.com/chapters/15/Prediction.html\n",
        "- https://www.inferentialthinking.com/chapters/16/Inference_for_Regression.html\n",
        "\n",
        "(optional)\n",
        "- http://greenteapress.com/thinkstats2/html/thinkstats2011.html\n",
        "- http://greenteapress.com/thinkstats2/html/thinkstats2012.html (through 11.5)\n",
        "\n",
        "### Tutorials\n",
        "- https://www.datacamp.com/community/tutorials/essentials-linear-regression-python\n",
        "- https://www.coursera.org/learn/ml-regression\n",
        "\n",
        "\n",
        "### Learning Outcomes\n",
        "- overview of linear regression\n",
        "- problems suited for linear regression\n",
        "- measuring feature correlations\n",
        "- encoding text & categorical data\n",
        "- univariate & multi-variate regression\n",
        "- measuring performance of regression models\n",
        "- cost functions\n",
        "- optimizing with gradient descent\n",
        "- cross validation\n"
      ]
    },
    {
      "cell_type": "markdown",
      "metadata": {
        "id": "KSQxXDYXyPDP"
      },
      "source": [
        "## Linear Regression Overview\n",
        "\n",
        "Linear regression is a an important principle underlying a class of statistical algorithms called **Generalized Linear Models**. \n",
        "\n",
        "GLMs are used for modeline datasets with continuous numeric labels (target). That is, to predict the value of a numeric dependent variable (response) from one or more independent (feature) variables.\n",
        "\n",
        "A linear regression model is a function that maps feature values to a numeric target (predictor):\n",
        "\n",
        "> h(x) = $θ_{0}$ + $θ_{1}$$x_{1}$\n",
        "\n",
        "Where $θ_{i}$’s are the function parameters (also called **coefficients** or **weights**). You may recall this from linear equations in algebra:\n",
        "\n",
        "> y = ax + b\n",
        "\n",
        "where b is the y intercept and a is the slope of the line.\n",
        "\n",
        "- **Simple Linear Regression** (SLR) deals with a single independent variable \n",
        "- **Multiple-linear Regression** (MLR) deals with multiple independent variables \n",
        "\n",
        "> h(x) = $a_{1}$$x_{1}$ + $a_{2}$$x_{2}$ ... $a_{n}$$x_{n}$ + b\n",
        "\n",
        "Regression models are developed to make h(x) close to y, at least for the training examples. \n",
        "\n",
        "- **Univariate regression** predicts a single value \n",
        "- **Multivariate regression** predicts multiple values \n",
        "\n",
        "- Linear regression assumes a linear relationship between dependent & independent variables. If that's not the case, data can be transformed so that a linear relationship is maintained. \n",
        "- If dataset features are very correlated to each other, linear regression fails to approximate the relationship appropriately and tends to overfit. So, it is efficient to detect the highly correlated features and to drop them before applying linear regression.\n"
      ]
    },
    {
      "cell_type": "markdown",
      "metadata": {
        "id": "QTacC1UZEI2y"
      },
      "source": [
        "## Understanding Model Measures\n",
        "\n",
        "Many statistical packages such as `statsmodels` will provide metrics when performaing a regression. Some key metrics are:  \n",
        "\n",
        "- **R-Squared** - the percent of dependent variable's variance explained by the model. Doesn't tell whether a chosen model is good or bad, nor whether the data and predictions are biased.\n",
        "- **coefficient (coef)** - amount the dependent variable changes if the independent variable changes by 1. For model with a single independent variable, this is the slope of the regression line.\n",
        "- **95% confidence intervals** for the coefficient\n",
        "\n"
      ]
    },
    {
      "cell_type": "markdown",
      "metadata": {
        "id": "8F09VXT8A5tj"
      },
      "source": [
        "### Measuring Performance\n",
        "\n",
        "**Root Mean Square Error (RMSE)** is typically used to measure performance of a regression model, that is how much error the model makes in its predictions, with a higher weight for large errors\n",
        "\n",
        "The **Ordinary Least Squares** (OLS) procedure seeks to minimize the sum of the squared residuals - same as Root Mean Square Error (RMSE)). This measure of model accuracy is called a **loss function**.\n",
        "\n",
        "This means that given a regression line through the data we calculate the distance from each data point to the regression line, square it, and sum all of the squared errors together. \n",
        "\n",
        "RMSE performs very well and is generally preferred for measuring model accuracy but is sensitive to outliers. If outliers are not rare, other measures of error may be more appropriate.\n",
        "\n",
        "**Least Squares Regression** - trains a model by choosing paramter (θ) values to minimize total error. Starts with an initial guess & iteratively changes θ to make J(θ) smaller, until convergence on a value of θ that minimizes J(θ).  \n",
        "\n",
        "**Gradient descent** is a commonly used convergence algorithm that starts with some initial θ, and repeatedly updates it in the direction towards minimizing the error, using a **learning rate** for the size of the improvement step to take on each iteration.\n",
        "\n",
        "- **batch gradient descent** looks at every example in the training set on each step.\n",
        "- **stochastic (incremental) gradient descent** updates the weighting parameters according to the gradient of the error with respect to just the training example encountered"
      ]
    },
    {
      "cell_type": "markdown",
      "metadata": {
        "id": "8TtzNdrQ6AR5"
      },
      "source": [
        "## Over & Under fitting"
      ]
    },
    {
      "cell_type": "markdown",
      "metadata": {
        "id": "OW-MTJts6H2G"
      },
      "source": [
        "Anscombe's quartet is a carefully-crafted dataset with four datasets having nearly identical summary statistics."
      ]
    },
    {
      "cell_type": "code",
      "metadata": {
        "id": "MJWR-VsJ1Ihw"
      },
      "source": [
        "import pandas as pd\n",
        "import numpy as np\n",
        "from sklearn.linear_model import LinearRegression\n",
        "from sklearn.metrics import r2_score\n",
        "import matplotlib.pyplot as plt\n",
        "%matplotlib inline\n",
        "\n",
        "\n",
        "# construct data set\n",
        "data = [\n",
        "[4,4,4,8,4.26,3.1,5.39,6.58],\n",
        "[5,5,5,8,5.68,4.74,5.73,5.76],\n",
        "[6,6,6,8,7.24,6.13,6.08,7.71],\n",
        "[7,7,7,8,4.82,7.26,6.42,8.84],\n",
        "[8,8,8,8,6.95,8.14,6.77,8.47],\n",
        "[9,9,9,8,8.81,8.77,7.11,7.04],\n",
        "[10,10,10,8,8.04,9.14,7.46,5.25],\n",
        "[11,11,11,8,8.33,9.26,7.81,5.56],\n",
        "[12,12,12,8,10.84,9.13,8.15,7.91],\n",
        "[13,13,13,8,7.58,8.74,12.74,6.89],\n",
        "[14,14,14,19,9.96,8.1,8.84,12.5]\n",
        "]\n",
        "\n",
        "x1 = [x[0] for x in data]\n",
        "x2 = [x[1] for x in data]\n",
        "x3 = [x[2] for x in data]\n",
        "x4 = [x[3] for x in data]\n",
        "y1 = [x[4] for x in data]\n",
        "y2 = [x[5] for x in data]\n",
        "y3 = [x[6] for x in data]\n",
        "y4 = [x[7] for x in data]\n",
        "\n",
        "anscombe = pd.DataFrame({'x1':x1,'x2':x2,'x3':x3,'x4':x4,'y1':y1,'y2':y2,'y3':y3,'y4':y4})\n",
        "\n",
        "def plot_function_and_fit(x, y, degree):\n",
        "    \"\"\"\n",
        "    Fit a polynomial to the data and plot both.\n",
        "    \"\"\"\n",
        "    \n",
        "    # We'll use a standard linear regression, unpenalised and unnormalised\n",
        "    lm = LinearRegression()\n",
        "    \n",
        "    # Build a Vandermonde matrix for the degrees of x\n",
        "    x_van = np.vander(x, degree+1)\n",
        "    \n",
        "    # Fit the model\n",
        "    lm.fit(x_van, y)\n",
        "    \n",
        "    # Return our predictions\n",
        "    y_hat = lm.predict(x_van) \n",
        "    \n",
        "    # Print a few summary statistics\n",
        "    print(f\"Mean squared error : {np.mean((y - y_hat)**2):.3f}\")\n",
        "    print(f\"R2 : {r2_score(y, y_hat):.3f}\")\n",
        "\n",
        "    # Plotty plot plot\n",
        "    plt.scatter(x, y, alpha=0.5, s=100)\n",
        "    plt.plot(x, y_hat, lw=5, c=\"k\")"
      ],
      "execution_count": null,
      "outputs": []
    },
    {
      "cell_type": "code",
      "metadata": {
        "id": "UA8LulLW6gPf"
      },
      "source": [
        "np.mean(anscombe[[\"x1\", \"x2\", \"x3\", \"x4\"]])"
      ],
      "execution_count": null,
      "outputs": []
    },
    {
      "cell_type": "code",
      "metadata": {
        "id": "EZT8kStI6hfv"
      },
      "source": [
        "np.std(anscombe[[\"x1\", \"x2\", \"x3\", \"x4\"]])"
      ],
      "execution_count": null,
      "outputs": []
    },
    {
      "cell_type": "code",
      "metadata": {
        "id": "M6kts2t-6jnd"
      },
      "source": [
        "np.mean(anscombe[[\"y1\", \"y2\", \"y3\", \"y4\"]])"
      ],
      "execution_count": null,
      "outputs": []
    },
    {
      "cell_type": "code",
      "metadata": {
        "id": "ZzkkS90H6oCK"
      },
      "source": [
        "np.std(anscombe[[\"y1\", \"y2\", \"y3\", \"y4\"]])"
      ],
      "execution_count": null,
      "outputs": []
    },
    {
      "cell_type": "code",
      "metadata": {
        "id": "V8iMnVNt7Jz8"
      },
      "source": [
        "\n",
        "fig, ((ax1, ax2), (ax3, ax4)) = plt.subplots(2, 2)\n",
        "fig.suptitle('Four different relationships')\n",
        "ax1.scatter(anscombe[\"x1\"],anscombe[\"y1\"])\n",
        "ax2.scatter(anscombe[\"x2\"],anscombe[\"y2\"])\n",
        "ax3.scatter(anscombe[\"x3\"],anscombe[\"y3\"])\n",
        "ax4.scatter(anscombe[\"x4\"],anscombe[\"y4\"])\n"
      ],
      "execution_count": null,
      "outputs": []
    },
    {
      "cell_type": "code",
      "metadata": {
        "id": "YVKNP7IG-FRb",
        "colab": {
          "base_uri": "https://localhost:8080/",
          "height": 299
        },
        "outputId": "a7c483da-bd7e-461c-d541-e7a9c5f4285d"
      },
      "source": [
        "plot_function_and_fit(anscombe[\"x1\"], anscombe[\"y1\"], 2)"
      ],
      "execution_count": null,
      "outputs": [
        {
          "output_type": "stream",
          "text": [
            "Mean squared error : 1.173\n",
            "R2 : 0.687\n"
          ],
          "name": "stdout"
        },
        {
          "output_type": "display_data",
          "data": {
            "image/png": "[encoded data removed]",
            "text/plain": [
              "<Figure size 432x288 with 1 Axes>"
            ]
          },
          "metadata": {
            "tags": []
          }
        }
      ]
    },
    {
      "cell_type": "code",
      "metadata": {
        "id": "osh7FefH_5BE",
        "colab": {
          "base_uri": "https://localhost:8080/",
          "height": 299
        },
        "outputId": "fa05c19f-9aaa-4810-d757-19f706053c71"
      },
      "source": [
        "plot_function_and_fit(anscombe[\"x2\"], anscombe[\"y2\"], 2)"
      ],
      "execution_count": null,
      "outputs": [
        {
          "output_type": "stream",
          "text": [
            "Mean squared error : 0.000\n",
            "R2 : 1.000\n"
          ],
          "name": "stdout"
        },
        {
          "output_type": "display_data",
          "data": {
            "image/png": "[encoded data removed]",
            "text/plain": [
              "<Figure size 432x288 with 1 Axes>"
            ]
          },
          "metadata": {
            "tags": []
          }
        }
      ]
    },
    {
      "cell_type": "code",
      "metadata": {
        "id": "uSpSNCAS_7SN",
        "colab": {
          "base_uri": "https://localhost:8080/",
          "height": 300
        },
        "outputId": "f2c56981-494f-4315-b6a1-840e273dedf9"
      },
      "source": [
        "plot_function_and_fit(anscombe[\"x3\"], anscombe[\"y3\"], 2)"
      ],
      "execution_count": null,
      "outputs": [
        {
          "output_type": "stream",
          "text": [
            "Mean squared error : 1.182\n",
            "R2 : 0.685\n"
          ],
          "name": "stdout"
        },
        {
          "output_type": "display_data",
          "data": {
            "image/png": "[encoded data removed]",
            "text/plain": [
              "<Figure size 432x288 with 1 Axes>"
            ]
          },
          "metadata": {
            "tags": []
          }
        }
      ]
    },
    {
      "cell_type": "code",
      "metadata": {
        "id": "0TA0yepm_9gu",
        "colab": {
          "base_uri": "https://localhost:8080/",
          "height": 299
        },
        "outputId": "cc13b04c-2c2d-4500-efc3-e9c197cd903e"
      },
      "source": [
        "plot_function_and_fit(anscombe[\"x4\"], anscombe[\"y4\"], 2)"
      ],
      "execution_count": null,
      "outputs": [
        {
          "output_type": "stream",
          "text": [
            "Mean squared error : 1.249\n",
            "R2 : 0.667\n"
          ],
          "name": "stdout"
        },
        {
          "output_type": "display_data",
          "data": {
            "image/png": "[encoded data removed]",
            "text/plain": [
              "<Figure size 432x288 with 1 Axes>"
            ]
          },
          "metadata": {
            "tags": []
          }
        }
      ]
    },
    {
      "cell_type": "markdown",
      "source": [
        "## Optimization\n",
        "\n",
        "**Gradient Descent** is a generic optimization algorithm capable of finding optimal solutions to a wide range of problems. The general idea of Gradient Descent is to tweak parameters iteratively in order to minimize a cost function.\n",
        "\n",
        "An important parameter in Gradient Descent is the size of the steps, determined by the learning rate hyperparameter. If the learning rate is too small, convergence may take long. If too large, the algorithm may diverge and fail to find a good solution.\n",
        "\n",
        "Gradient Descent computes how much the cost function will change with a small change in each model parameter. This is called a *partial derivative*. \n",
        "\n",
        "Instead of computing these partial derivatives individually, you can use *Batch Gradient Descent* to compute them all at once."
      ],
      "metadata": {
        "id": "lKTDJBEbgGJb"
      }
    },
    {
      "cell_type": "markdown",
      "metadata": {
        "id": "J9IwbDnzCHVM"
      },
      "source": [
        "## Cross Validation\n",
        "\n",
        "Prediction model performance may depend on how data was split between training and test sets, and may not correctly generalize to new data.\n",
        "\n",
        "Cross validation (k-fold CV) is a technique to mitigate this problem.\n",
        "\n",
        "Data set is split into multiple sets or **folds**, and training cycle is performed multiple times, with a different fold held back as a test set for each cycle.\n",
        "\n",
        "More folds yields higher accuracy, but with increasing computational expense.\n"
      ]
    },
    {
      "cell_type": "markdown",
      "metadata": {
        "id": "ICsgtO1Xt9nt"
      },
      "source": [
        "## Regularization\n",
        "\n",
        "Large coefficients can skew the model and lead to overfitting.\n",
        "\n",
        "Regularization is a technique to penalize large coefficients and reduce chance of overfitting.\n",
        "\n",
        "**Ridge Regression** minimizes the loss function plus the squared sum of coefficients, multipled by some parameter value called **alpha**. \n",
        "\n",
        "Alpha is a **hyperparameter** that analysts choose external to the model and controls how heavily large coefficients are penalized. Too high a value can result in underfitting.\n",
        "\n",
        "**Lasso Regression** minimizes the loss function plus the sum of absolute value of coefficients, multipled by an **alpha** parameter. \n",
        "\n",
        "Tends to minimize coefficients of less import features & select the more important features.\n"
      ]
    }
  ]
}
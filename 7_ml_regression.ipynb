{
  "nbformat": 4,
  "nbformat_minor": 0,
  "metadata": {
    "colab": {
      "name": "7_ml_regression.ipynb",
      "provenance": [],
      "collapsed_sections": [],
      "authorship_tag": "ABX9TyPps59htMjULbejAyXOy1OG",
      "include_colab_link": true
    },
    "kernelspec": {
      "name": "python3",
      "display_name": "Python 3"
    }
  },
  "cells": [
    {
      "cell_type": "markdown",
      "metadata": {
        "id": "view-in-github",
        "colab_type": "text"
      },
      "source": [
        "<a href=\"https://colab.research.google.com/github/brendenwest/ad450/blob/master/7_ml_regression.ipynb\" target=\"_parent\"><img src=\"https://colab.research.google.com/assets/colab-badge.svg\" alt=\"Open In Colab\"/></a>"
      ]
    },
    {
      "cell_type": "markdown",
      "metadata": {
        "id": "Uy-_gSjBPelf",
        "colab_type": "text"
      },
      "source": [
        "# Machine Learning with Regression \n",
        "\n",
        "### Reading\n",
        "- Géron - Chapter 2: End-to-End Machine Learning Project\n",
        "\n",
        "### Tutorials\n",
        "- https://www.datacamp.com/community/tutorials/essentials-linear-regression-python\n",
        "\n",
        "\n",
        "### Learning Outcomes\n",
        "- overview of linear regression\n",
        "- problems suited for linear regression\n",
        "- measuring feature correlations\n",
        "- encoding text & categorical data\n",
        "- univariate & multi-variate regression\n",
        "- measuring performance of regression models\n",
        "- cost functions\n",
        "- optimizing with gradient descent\n",
        "- cross validation\n"
      ]
    },
    {
      "cell_type": "code",
      "metadata": {
        "id": "uomLKzTHPWtH",
        "colab_type": "code",
        "colab": {}
      },
      "source": [
        ""
      ],
      "execution_count": 0,
      "outputs": []
    }
  ]
}
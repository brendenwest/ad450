{
  "nbformat": 4,
  "nbformat_minor": 0,
  "metadata": {
    "colab": {
      "name": "11_recommendations.ipynb",
      "provenance": [],
      "collapsed_sections": [],
      "authorship_tag": "ABX9TyMgdNOF/vyRfuvTRBU76AMm",
      "include_colab_link": true
    },
    "kernelspec": {
      "name": "python3",
      "display_name": "Python 3"
    },
    "language_info": {
      "name": "python"
    }
  },
  "cells": [
    {
      "cell_type": "markdown",
      "metadata": {
        "id": "view-in-github",
        "colab_type": "text"
      },
      "source": [
        "<a href=\"https://colab.research.google.com/github/brendenwest/ad450/blob/master/11_recommendations.ipynb\" target=\"_parent\"><img src=\"https://colab.research.google.com/assets/colab-badge.svg\" alt=\"Open In Colab\"/></a>"
      ]
    },
    {
      "cell_type": "code",
      "execution_count": null,
      "metadata": {
        "id": "-GqjcysQIA5a"
      },
      "outputs": [],
      "source": [
        "# Recommendation Systems \n",
        "\n",
        "### Reading & videos\n",
        "- https://towardsdatascience.com/introduction-to-recommender-systems-6c66cf15ada\n",
        "- https://www.youtube.com/watch?v=_hf_y-_sj5Y&list=PLZoTAELRMXVN7QGpcuN-Vg35Hgjp3htvi \n",
        "- https://developers.google.com/machine-learning/recommendation\n",
        "\n",
        "\n",
        "### Tutorials\n",
        "- https://pub.towardsai.net/recommendation-system-in-depth-tutorial-with-python-for-netflix-using-collaborative-filtering-533ff8a0e444\n",
        "\n",
        "\n",
        "### Learning Outcomes\n",
        "- Overview of recommender systems\n",
        "- Content-based recommendations\n",
        "- Collaboratve filtering (user-based recommendations)"
      ]
    },
    {
      "cell_type": "markdown",
      "source": [
        "## Summary\n",
        "\n",
        "### Content-based systems\n",
        "Builds a model based on informatoin about users and/or items that can explain interaction.\n",
        "\n",
        "### Collaborative filtering\n",
        "Produces recommendations based solely on the past interactions recorded between users and items. Interactions are recorded in a *user-item interactions matrix*.\n",
        "\n",
        "Requires no information about users or items.\n",
        "\n",
        "- **memory based** - based on nearest neighbours search to find users similar to current user (user-user) and determine items popular among them. Comparisons can also be items similr to current item (item-item).\n",
        "\n",
        "Does not scale well for large number of users & items.\n",
        "\n",
        "\n",
        "- **model based**  - assume an underlying “generative” model that explains the user-item interactions and try to discover it in order to make new predictions.\n",
        "\n",
        "In general, recommendation algorithms (esp. memory-based) need to avoid bias toward recommending only popular items, with no chance for users to learn about new items they might like.\n"
      ],
      "metadata": {
        "id": "xFTLxznmniYS"
      }
    }
  ]
}
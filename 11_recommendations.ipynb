{
  "nbformat": 4,
  "nbformat_minor": 0,
  "metadata": {
    "colab": {
      "name": "11_recommendations.ipynb",
      "provenance": [],
      "collapsed_sections": [],
      "authorship_tag": "ABX9TyMaGghQCXIIvi2hRVpnjaaK",
      "include_colab_link": true
    },
    "kernelspec": {
      "name": "python3",
      "display_name": "Python 3"
    },
    "language_info": {
      "name": "python"
    }
  },
  "cells": [
    {
      "cell_type": "markdown",
      "metadata": {
        "id": "view-in-github",
        "colab_type": "text"
      },
      "source": [
        "<a href=\"https://colab.research.google.com/github/brendenwest/ad450/blob/master/11_recommendations.ipynb\" target=\"_parent\"><img src=\"https://colab.research.google.com/assets/colab-badge.svg\" alt=\"Open In Colab\"/></a>"
      ]
    },
    {
      "cell_type": "code",
      "execution_count": null,
      "metadata": {
        "id": "-GqjcysQIA5a"
      },
      "outputs": [],
      "source": [
        "# Recommendation Systems \n",
        "\n",
        "### Reading & videos\n",
        "- https://towardsdatascience.com/introduction-to-recommender-systems-6c66cf15ada\n",
        "- https://www.youtube.com/watch?v=_hf_y-_sj5Y&list=PLZoTAELRMXVN7QGpcuN-Vg35Hgjp3htvi \n",
        "- https://developers.google.com/machine-learning/recommendation\n",
        "\n",
        "\n",
        "### Tutorials\n",
        "- https://pub.towardsai.net/recommendation-system-in-depth-tutorial-with-python-for-netflix-using-collaborative-filtering-533ff8a0e444\n",
        "\n",
        "\n",
        "### Learning Outcomes\n",
        "- Overview of recommender systems\n",
        "- Content-based recommendations\n",
        "- Collaboratve filtering (user-based recommendations)"
      ]
    }
  ]
}